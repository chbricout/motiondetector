{
 "cells": [
  {
   "cell_type": "code",
   "execution_count": 1,
   "metadata": {},
   "outputs": [],
   "source": [
    "import glob\n",
    "import re\n",
    "import os\n",
    "import shutil"
   ]
  },
  {
   "cell_type": "code",
   "execution_count": 9,
   "metadata": {},
   "outputs": [
    {
     "data": {
      "text/plain": [
       "<re.Match object; span=(0, 59), match='/home/at70870/Desktop/mrart/scratch_mod/scratch-C>"
      ]
     },
     "execution_count": 9,
     "metadata": {},
     "output_type": "execute_result"
    }
   ],
   "source": [
    "re.match(r\".*scratch-([\\w\\d_]*)-(\\d*)\", \"/home/at70870/Desktop/mrart/scratch_mod/scratch-CONV5_FC3-1\")"
   ]
  },
  {
   "cell_type": "code",
   "execution_count": 11,
   "metadata": {},
   "outputs": [],
   "source": [
    "for scratch in glob.glob(os.path.join('..','scratch_mod',\"*\")):\n",
    "    model_ckpt = glob.glob(os.path.join(scratch, \"*.ckpt\"))[0]\n",
    "    matches = re.match(r\".*scratch-([\\w\\d_]*)-(\\d*)\", scratch)\n",
    "    model = matches.group(1)\n",
    "    run_name = matches.group(2)\n",
    "\n",
    "    shutil.move(model_ckpt,os.path.join('..', 'models', \"scratch\", f\"{model}-{run_name}.ckpt\"))\n",
    "\n"
   ]
  }
 ],
 "metadata": {
  "kernelspec": {
   "display_name": "bowl",
   "language": "python",
   "name": "python3"
  },
  "language_info": {
   "codemirror_mode": {
    "name": "ipython",
    "version": 3
   },
   "file_extension": ".py",
   "mimetype": "text/x-python",
   "name": "python",
   "nbconvert_exporter": "python",
   "pygments_lexer": "ipython3",
   "version": "3.11.5"
  }
 },
 "nbformat": 4,
 "nbformat_minor": 2
}
