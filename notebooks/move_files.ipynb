{
 "cells": [
  {
   "cell_type": "code",
   "execution_count": 1,
   "metadata": {},
   "outputs": [],
   "source": [
    "import glob\n",
    "import re\n",
    "import os\n",
    "import shutil"
   ]
  },
  {
   "cell_type": "code",
   "execution_count": 2,
   "metadata": {},
   "outputs": [
    {
     "data": {
      "text/plain": [
       "<re.Match object; span=(0, 59), match='/home/at70870/Desktop/mrart/scratch_mod/scratch-C>"
      ]
     },
     "execution_count": 2,
     "metadata": {},
     "output_type": "execute_result"
    }
   ],
   "source": [
    "re.match(r\".*scratch-([\\w\\d_]*)-(\\d*)\", \"/home/at70870/Desktop/mrart/scratch_mod/scratch-CONV5_FC3-1\")"
   ]
  },
  {
   "cell_type": "code",
   "execution_count": 2,
   "metadata": {},
   "outputs": [],
   "source": [
    "for transfer in glob.glob(os.path.join('..','model_report',\"transfer*\")):\n",
    "    model_ckpt = glob.glob(os.path.join(transfer, \"*.ckpt\"))[0]\n",
    "    matches = re.match(r\".*transfer-UNBALANCED-MRART-([\\w\\d_]*)-([\\w\\d_]*)-(\\d*)\", transfer)\n",
    "    model = matches.group(1)\n",
    "    task = matches.group(2)\n",
    "    run_name = matches.group(3)\n",
    "\n",
    "\n",
    "    shutil.move(model_ckpt,os.path.join('..', 'models', 'unbalanced', \"transfer\", f\"{model}-{task}-{run_name}.ckpt\"))\n",
    "\n"
   ]
  }
 ],
 "metadata": {
  "kernelspec": {
   "display_name": "bowl",
   "language": "python",
   "name": "python3"
  },
  "language_info": {
   "codemirror_mode": {
    "name": "ipython",
    "version": 3
   },
   "file_extension": ".py",
   "mimetype": "text/x-python",
   "name": "python",
   "nbconvert_exporter": "python",
   "pygments_lexer": "ipython3",
   "version": "3.11.5"
  }
 },
 "nbformat": 4,
 "nbformat_minor": 2
}
