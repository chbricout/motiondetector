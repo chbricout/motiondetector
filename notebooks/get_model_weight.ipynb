{
 "cells": [
  {
   "cell_type": "code",
   "execution_count": 1,
   "metadata": {},
   "outputs": [],
   "source": [
    "%load_ext autoreload\n",
    "%autoreload 2\n",
    "import sys\n",
    "sys.path.append('..')\n",
    "from torchinfo import summary\n",
    "from src.network.sfcn_net import SFCNModel\n",
    "from src.network.res_net import ResModel\n",
    "from src.network.seres_net import SEResModel\n",
    "from src.network.conv5_fc3_net import Conv5FC3Model\n",
    "from src.network.vit_net import ViTModel\n",
    "from src.network.transfer_net import TransferMLP\n",
    "\n",
    "from src import config"
   ]
  },
  {
   "cell_type": "code",
   "execution_count": 15,
   "metadata": {},
   "outputs": [
    {
     "data": {
      "text/plain": [
       "==========================================================================================\n",
       "Layer (type:depth-idx)                   Output Shape              Param #\n",
       "==========================================================================================\n",
       "SFCNEncoder                              [1, 64, 5, 6, 5]          --\n",
       "├─Sequential: 1-1                        [1, 64, 5, 6, 5]          --\n",
       "│    └─SFCNBlock: 2-1                    [1, 32, 80, 96, 80]       --\n",
       "│    │    └─Sequential: 3-1              [1, 32, 80, 96, 80]       960\n",
       "│    └─SFCNBlock: 2-2                    [1, 64, 40, 48, 40]       --\n",
       "│    │    └─Sequential: 3-2              [1, 64, 40, 48, 40]       55,488\n",
       "│    └─SFCNBlock: 2-3                    [1, 128, 20, 24, 20]      --\n",
       "│    │    └─Sequential: 3-3              [1, 128, 20, 24, 20]      221,568\n",
       "│    └─SFCNBlock: 2-4                    [1, 256, 10, 12, 10]      --\n",
       "│    │    └─Sequential: 3-4              [1, 256, 10, 12, 10]      885,504\n",
       "│    └─SFCNBlock: 2-5                    [1, 256, 5, 6, 5]         --\n",
       "│    │    └─Sequential: 3-5              [1, 256, 5, 6, 5]         1,770,240\n",
       "│    └─SFCNBlock: 2-6                    [1, 64, 5, 6, 5]          --\n",
       "│    │    └─Sequential: 3-6              [1, 64, 5, 6, 5]          16,576\n",
       "==========================================================================================\n",
       "Total params: 2,950,336\n",
       "Trainable params: 2,950,336\n",
       "Non-trainable params: 0\n",
       "Total mult-adds (Units.GIGABYTES): 66.04\n",
       "==========================================================================================\n",
       "Input size (MB): 19.66\n",
       "Forward/backward pass size (MB): 3347.40\n",
       "Params size (MB): 11.80\n",
       "Estimated Total Size (MB): 3378.87\n",
       "=========================================================================================="
      ]
     },
     "execution_count": 15,
     "metadata": {},
     "output_type": "execute_result"
    }
   ],
   "source": [
    "sfcn = SFCNModel(config.IM_SHAPE, 40, 0.6)\n",
    "summary(sfcn.encoder, config.IM_SHAPE, batch_dim=0)"
   ]
  },
  {
   "cell_type": "code",
   "execution_count": 16,
   "metadata": {},
   "outputs": [
    {
     "data": {
      "text/plain": [
       "==========================================================================================\n",
       "Layer (type:depth-idx)                   Output Shape              Param #\n",
       "==========================================================================================\n",
       "SFCNClassifier                           [1, 40]                   --\n",
       "├─SFCNHeadBlock: 1-1                     [1, 40]                   --\n",
       "│    └─AvgPool3d: 2-1                    [1, 64, 1, 1, 1]          --\n",
       "│    └─Dropout: 2-2                      [1, 64, 1, 1, 1]          --\n",
       "│    └─Conv3d: 2-3                       [1, 40, 1, 1, 1]          2,600\n",
       "│    └─Flatten: 2-4                      [1, 40]                   --\n",
       "==========================================================================================\n",
       "Total params: 2,600\n",
       "Trainable params: 2,600\n",
       "Non-trainable params: 0\n",
       "Total mult-adds (Units.MEGABYTES): 0.00\n",
       "==========================================================================================\n",
       "Input size (MB): 0.04\n",
       "Forward/backward pass size (MB): 0.00\n",
       "Params size (MB): 0.01\n",
       "Estimated Total Size (MB): 0.05\n",
       "=========================================================================================="
      ]
     },
     "execution_count": 16,
     "metadata": {},
     "output_type": "execute_result"
    }
   ],
   "source": [
    "sfcn = SFCNModel(config.IM_SHAPE, 40, 0.6)\n",
    "summary(sfcn.classifier, sfcn.encoder.latent_shape, batch_dim=0)"
   ]
  },
  {
   "cell_type": "code",
   "execution_count": 17,
   "metadata": {},
   "outputs": [
    {
     "data": {
      "text/plain": [
       "==========================================================================================\n",
       "Layer (type:depth-idx)                   Output Shape              Param #\n",
       "==========================================================================================\n",
       "TransferMLP                              [1, 3]                    --\n",
       "├─FlattenEncoder: 1-1                    [1, 9600]                 --\n",
       "├─MLPClassifier: 1-2                     [1, 3]                    --\n",
       "│    └─Sequential: 2-1                   [1, 3]                    --\n",
       "│    │    └─Dropout: 3-1                 [1, 9600]                 --\n",
       "│    │    └─Linear: 3-2                  [1, 10]                   96,010\n",
       "│    │    └─BatchNorm1d: 3-3             [1, 10]                   20\n",
       "│    │    └─ReLU: 3-4                    [1, 10]                   --\n",
       "│    │    └─Linear: 3-5                  [1, 3]                    33\n",
       "==========================================================================================\n",
       "Total params: 96,063\n",
       "Trainable params: 96,063\n",
       "Non-trainable params: 0\n",
       "Total mult-adds (Units.MEGABYTES): 0.10\n",
       "==========================================================================================\n",
       "Input size (MB): 0.04\n",
       "Forward/backward pass size (MB): 0.00\n",
       "Params size (MB): 0.38\n",
       "Estimated Total Size (MB): 0.42\n",
       "=========================================================================================="
      ]
     },
     "execution_count": 17,
     "metadata": {},
     "output_type": "execute_result"
    }
   ],
   "source": [
    "transfer = TransferMLP(sfcn.encoder.latent_shape, 3, num_layers=1)\n",
    "summary(transfer, sfcn.encoder.latent_shape, batch_dim=0)\n",
    "# sfcn.encoder.latent_shape"
   ]
  },
  {
   "cell_type": "code",
   "execution_count": 7,
   "metadata": {},
   "outputs": [
    {
     "data": {
      "text/plain": [
       "==========================================================================================\n",
       "Layer (type:depth-idx)                   Output Shape              Param #\n",
       "==========================================================================================\n",
       "Conv5FC3Model                            [1, 40]                   --\n",
       "├─Conv5FC3Encoder: 1-1                   [1, 128, 5, 6, 5]         --\n",
       "│    └─Sequential: 2-1                   [1, 128, 5, 6, 5]         --\n",
       "│    │    └─ConvBlock: 3-1               [1, 8, 80, 96, 80]        240\n",
       "│    │    └─ConvBlock: 3-2               [1, 16, 40, 48, 40]       3,504\n",
       "│    │    └─ConvBlock: 3-3               [1, 32, 20, 24, 20]       13,920\n",
       "│    │    └─ConvBlock: 3-4               [1, 64, 10, 12, 10]       55,488\n",
       "│    │    └─ConvBlock: 3-5               [1, 128, 5, 6, 5]         221,568\n",
       "├─Conv5FC3Classifier: 1-2                [1, 40]                   --\n",
       "│    └─Sequential: 2-2                   [1, 40]                   --\n",
       "│    │    └─Flatten: 3-6                 [1, 19200]                --\n",
       "│    │    └─Dropout: 3-7                 [1, 19200]                --\n",
       "│    │    └─Linear: 3-8                  [1, 1300]                 24,961,300\n",
       "│    │    └─Linear: 3-9                  [1, 50]                   65,050\n",
       "│    │    └─Linear: 3-10                 [1, 40]                   2,040\n",
       "==========================================================================================\n",
       "Total params: 25,323,110\n",
       "Trainable params: 25,323,110\n",
       "Non-trainable params: 0\n",
       "Total mult-adds (Units.GIGABYTES): 5.12\n",
       "==========================================================================================\n",
       "Input size (MB): 19.66\n",
       "Forward/backward pass size (MB): 838.05\n",
       "Params size (MB): 101.29\n",
       "Estimated Total Size (MB): 959.01\n",
       "=========================================================================================="
      ]
     },
     "execution_count": 7,
     "metadata": {},
     "output_type": "execute_result"
    }
   ],
   "source": [
    "conv5_fc3 = Conv5FC3Model(config.IM_SHAPE, 40, 0.6)\n",
    "summary(conv5_fc3.cuda(), config.IM_SHAPE, batch_dim=1)"
   ]
  },
  {
   "cell_type": "code",
   "execution_count": 9,
   "metadata": {},
   "outputs": [
    {
     "data": {
      "text/plain": [
       "===============================================================================================\n",
       "Layer (type:depth-idx)                        Output Shape              Param #\n",
       "===============================================================================================\n",
       "ResModel                                      [1, 40]                   --\n",
       "├─ResEncoder: 1-1                             [1, 128, 5, 6, 5]         --\n",
       "│    └─Sequential: 2-1                        [1, 128, 5, 6, 5]         --\n",
       "│    │    └─ResConvModule: 3-1                [1, 8, 80, 96, 80]        2,008\n",
       "│    │    └─ResConvModule: 3-2                [1, 16, 40, 48, 40]       10,608\n",
       "│    │    └─ResConvModule: 3-3                [1, 32, 20, 24, 20]       42,208\n",
       "│    │    └─ResConvModule: 3-4                [1, 64, 10, 12, 10]       168,384\n",
       "│    │    └─ResConvModule: 3-5                [1, 128, 5, 6, 5]         672,640\n",
       "├─ResClassifier: 1-2                          [1, 40]                   --\n",
       "│    └─Sequential: 2-2                        [1, 40]                   --\n",
       "│    │    └─Dropout: 3-6                      [1, 128, 5, 6, 5]         --\n",
       "│    │    └─Flatten: 3-7                      [1, 19200]                --\n",
       "│    │    └─Linear: 3-8                       [1, 256]                  4,915,456\n",
       "│    │    └─ReLU: 3-9                         [1, 256]                  --\n",
       "│    │    └─Linear: 3-10                      [1, 40]                   10,280\n",
       "===============================================================================================\n",
       "Total params: 5,821,584\n",
       "Trainable params: 5,821,584\n",
       "Non-trainable params: 0\n",
       "Total mult-adds (Units.GIGABYTES): 21.85\n",
       "===============================================================================================\n",
       "Input size (MB): 19.66\n",
       "Forward/backward pass size (MB): 2095.11\n",
       "Params size (MB): 23.29\n",
       "Estimated Total Size (MB): 2138.05\n",
       "==============================================================================================="
      ]
     },
     "execution_count": 9,
     "metadata": {},
     "output_type": "execute_result"
    }
   ],
   "source": [
    "res = ResModel(config.IM_SHAPE, 40, 0.6)\n",
    "summary(res.cuda(), config.IM_SHAPE, batch_dim=1)"
   ]
  },
  {
   "cell_type": "code",
   "execution_count": 10,
   "metadata": {},
   "outputs": [
    {
     "data": {
      "text/plain": [
       "=========================================================================================================\n",
       "Layer (type:depth-idx)                                  Output Shape              Param #\n",
       "=========================================================================================================\n",
       "SEResModel                                              [1, 40]                   --\n",
       "├─SEResEncoder: 1-1                                     [1, 128, 5, 6, 5]         --\n",
       "│    └─Sequential: 2-1                                  [1, 128, 5, 6, 5]         --\n",
       "│    │    └─SEResModule: 3-1                            [1, 8, 80, 96, 80]        2,084\n",
       "│    │    └─SEResModule: 3-2                            [1, 16, 40, 48, 40]       10,888\n",
       "│    │    └─SEResModule: 3-3                            [1, 32, 20, 24, 20]       43,280\n",
       "│    │    └─SEResModule: 3-4                            [1, 64, 10, 12, 10]       172,576\n",
       "│    │    └─SEResModule: 3-5                            [1, 128, 5, 6, 5]         689,216\n",
       "├─SEResClassifier: 1-2                                  [1, 40]                   --\n",
       "│    └─Sequential: 2-2                                  [1, 40]                   --\n",
       "│    │    └─Dropout: 3-6                                [1, 128, 5, 6, 5]         --\n",
       "│    │    └─Flatten: 3-7                                [1, 19200]                --\n",
       "│    │    └─Linear: 3-8                                 [1, 256]                  4,915,456\n",
       "│    │    └─ReLU: 3-9                                   [1, 256]                  --\n",
       "│    │    └─Linear: 3-10                                [1, 40]                   10,280\n",
       "=========================================================================================================\n",
       "Total params: 5,843,780\n",
       "Trainable params: 5,843,780\n",
       "Non-trainable params: 0\n",
       "Total mult-adds (Units.GIGABYTES): 21.85\n",
       "=========================================================================================================\n",
       "Input size (MB): 19.66\n",
       "Forward/backward pass size (MB): 2095.11\n",
       "Params size (MB): 23.38\n",
       "Estimated Total Size (MB): 2138.15\n",
       "========================================================================================================="
      ]
     },
     "execution_count": 10,
     "metadata": {},
     "output_type": "execute_result"
    }
   ],
   "source": [
    "seres = SEResModel(config.IM_SHAPE, 40, 0.6)\n",
    "summary(seres.cuda(), config.IM_SHAPE, batch_dim=1)"
   ]
  },
  {
   "cell_type": "code",
   "execution_count": 11,
   "metadata": {},
   "outputs": [
    {
     "data": {
      "text/plain": [
       "====================================================================================================\n",
       "Layer (type:depth-idx)                             Output Shape              Param #\n",
       "====================================================================================================\n",
       "ViTModel                                           [1, 40]                   --\n",
       "├─ViTEncoder: 1-1                                  [1, 768]                  --\n",
       "│    └─ViT: 2-1                                    [1, 1, 768]               768\n",
       "│    │    └─PatchEmbeddingBlock: 3-1               [1, 1200, 768]            4,068,096\n",
       "│    │    └─ModuleList: 3-2                        --                        85,026,816\n",
       "│    │    └─LayerNorm: 3-3                         [1, 1201, 768]            1,536\n",
       "├─ViTClassifier: 1-2                               [1, 40]                   --\n",
       "│    └─Sequential: 2-2                             [1, 40]                   --\n",
       "│    │    └─Flatten: 3-4                           [1, 768]                  --\n",
       "│    │    └─Dropout: 3-5                           [1, 768]                  --\n",
       "│    │    └─Linear: 3-6                            [1, 40]                   30,760\n",
       "====================================================================================================\n",
       "Total params: 89,127,976\n",
       "Trainable params: 89,127,976\n",
       "Non-trainable params: 0\n",
       "Total mult-adds (Units.GIGABYTES): 3.86\n",
       "====================================================================================================\n",
       "Input size (MB): 19.66\n",
       "Forward/backward pass size (MB): 988.77\n",
       "Params size (MB): 352.82\n",
       "Estimated Total Size (MB): 1361.26\n",
       "===================================================================================================="
      ]
     },
     "execution_count": 11,
     "metadata": {},
     "output_type": "execute_result"
    }
   ],
   "source": [
    "vit = ViTModel(config.IM_SHAPE, 40, 0.6)\n",
    "summary(vit.cuda(), config.IM_SHAPE, batch_dim=1)"
   ]
  },
  {
   "cell_type": "code",
   "execution_count": null,
   "metadata": {},
   "outputs": [],
   "source": [
    "transfer = TransferMLP(config.IM_SHAPE, 40, 0.6)\n",
    "summary(transfer.cuda(), config.IM_SHAPE, batch_dim=1)"
   ]
  }
 ],
 "metadata": {
  "kernelspec": {
   "display_name": "bowl",
   "language": "python",
   "name": "python3"
  },
  "language_info": {
   "codemirror_mode": {
    "name": "ipython",
    "version": 3
   },
   "file_extension": ".py",
   "mimetype": "text/x-python",
   "name": "python",
   "nbconvert_exporter": "python",
   "pygments_lexer": "ipython3",
   "version": "3.11.5"
  }
 },
 "nbformat": 4,
 "nbformat_minor": 2
}
