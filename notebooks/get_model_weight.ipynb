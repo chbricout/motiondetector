{
 "cells": [
  {
   "cell_type": "code",
   "execution_count": 3,
   "metadata": {},
   "outputs": [
    {
     "name": "stdout",
     "output_type": "stream",
     "text": [
      "The autoreload extension is already loaded. To reload it, use:\n",
      "  %reload_ext autoreload\n"
     ]
    }
   ],
   "source": [
    "%load_ext autoreload\n",
    "%autoreload 2\n",
    "import sys\n",
    "sys.path.append('..')\n",
    "from torchinfo import summary\n",
    "from src.network.sfcn_net import SFCNModel\n",
    "from src.network.res_net import ResModel\n",
    "from src.network.seres_net import SEResModel\n",
    "from src.network.conv5_fc3_net import Conv5FC3Model\n",
    "from src.network.vit_net import ViTModel\n",
    "from src.network.transfer_net import TransferMLP\n",
    "\n",
    "from src import config"
   ]
  },
  {
   "cell_type": "code",
   "execution_count": 6,
   "metadata": {},
   "outputs": [
    {
     "data": {
      "text/plain": [
       "===============================================================================================\n",
       "Layer (type:depth-idx)                        Output Shape              Param #\n",
       "===============================================================================================\n",
       "SFCNModel                                     [1, 40]                   --\n",
       "├─SFCNEncoder: 1-1                            [1, 64, 5, 6, 5]          --\n",
       "│    └─Sequential: 2-1                        [1, 64, 5, 6, 5]          --\n",
       "│    │    └─SFCNBlock: 3-1                    [1, 32, 80, 96, 80]       960\n",
       "│    │    └─SFCNBlock: 3-2                    [1, 64, 40, 48, 40]       55,488\n",
       "│    │    └─SFCNBlock: 3-3                    [1, 128, 20, 24, 20]      221,568\n",
       "│    │    └─SFCNBlock: 3-4                    [1, 256, 10, 12, 10]      885,504\n",
       "│    │    └─SFCNBlock: 3-5                    [1, 256, 5, 6, 5]         1,770,240\n",
       "│    │    └─SFCNBlock: 3-6                    [1, 64, 5, 6, 5]          16,576\n",
       "├─SFCNClassifier: 1-2                         [1, 40]                   --\n",
       "│    └─SFCNHeadBlock: 2-2                     [1, 40]                   --\n",
       "│    │    └─AvgPool3d: 3-7                    [1, 64, 1, 1, 1]          --\n",
       "│    │    └─Dropout: 3-8                      [1, 64, 1, 1, 1]          --\n",
       "│    │    └─Conv3d: 3-9                       [1, 40, 1, 1, 1]          2,600\n",
       "│    │    └─Flatten: 3-10                     [1, 40]                   --\n",
       "===============================================================================================\n",
       "Total params: 2,952,936\n",
       "Trainable params: 2,952,936\n",
       "Non-trainable params: 0\n",
       "Total mult-adds (Units.GIGABYTES): 66.04\n",
       "===============================================================================================\n",
       "Input size (MB): 19.66\n",
       "Forward/backward pass size (MB): 3347.41\n",
       "Params size (MB): 11.81\n",
       "Estimated Total Size (MB): 3378.88\n",
       "==============================================================================================="
      ]
     },
     "execution_count": 6,
     "metadata": {},
     "output_type": "execute_result"
    }
   ],
   "source": [
    "sfcn = SFCNModel(config.IM_SHAPE, 40, 0.6)\n",
    "summary(sfcn,config.IM_SHAPE, batch_dim=1)"
   ]
  },
  {
   "cell_type": "code",
   "execution_count": 7,
   "metadata": {},
   "outputs": [
    {
     "data": {
      "text/plain": [
       "==========================================================================================\n",
       "Layer (type:depth-idx)                   Output Shape              Param #\n",
       "==========================================================================================\n",
       "Conv5FC3Model                            [1, 40]                   --\n",
       "├─Conv5FC3Encoder: 1-1                   [1, 128, 5, 6, 5]         --\n",
       "│    └─Sequential: 2-1                   [1, 128, 5, 6, 5]         --\n",
       "│    │    └─ConvBlock: 3-1               [1, 8, 80, 96, 80]        240\n",
       "│    │    └─ConvBlock: 3-2               [1, 16, 40, 48, 40]       3,504\n",
       "│    │    └─ConvBlock: 3-3               [1, 32, 20, 24, 20]       13,920\n",
       "│    │    └─ConvBlock: 3-4               [1, 64, 10, 12, 10]       55,488\n",
       "│    │    └─ConvBlock: 3-5               [1, 128, 5, 6, 5]         221,568\n",
       "├─Conv5FC3Classifier: 1-2                [1, 40]                   --\n",
       "│    └─Sequential: 2-2                   [1, 40]                   --\n",
       "│    │    └─Flatten: 3-6                 [1, 19200]                --\n",
       "│    │    └─Dropout: 3-7                 [1, 19200]                --\n",
       "│    │    └─Linear: 3-8                  [1, 1300]                 24,961,300\n",
       "│    │    └─Linear: 3-9                  [1, 50]                   65,050\n",
       "│    │    └─Linear: 3-10                 [1, 40]                   2,040\n",
       "==========================================================================================\n",
       "Total params: 25,323,110\n",
       "Trainable params: 25,323,110\n",
       "Non-trainable params: 0\n",
       "Total mult-adds (Units.GIGABYTES): 5.12\n",
       "==========================================================================================\n",
       "Input size (MB): 19.66\n",
       "Forward/backward pass size (MB): 838.05\n",
       "Params size (MB): 101.29\n",
       "Estimated Total Size (MB): 959.01\n",
       "=========================================================================================="
      ]
     },
     "execution_count": 7,
     "metadata": {},
     "output_type": "execute_result"
    }
   ],
   "source": [
    "conv5_fc3 = Conv5FC3Model(config.IM_SHAPE, 40, 0.6)\n",
    "summary(conv5_fc3.cuda(), config.IM_SHAPE, batch_dim=1)"
   ]
  },
  {
   "cell_type": "code",
   "execution_count": 9,
   "metadata": {},
   "outputs": [
    {
     "data": {
      "text/plain": [
       "===============================================================================================\n",
       "Layer (type:depth-idx)                        Output Shape              Param #\n",
       "===============================================================================================\n",
       "ResModel                                      [1, 40]                   --\n",
       "├─ResEncoder: 1-1                             [1, 128, 5, 6, 5]         --\n",
       "│    └─Sequential: 2-1                        [1, 128, 5, 6, 5]         --\n",
       "│    │    └─ResConvModule: 3-1                [1, 8, 80, 96, 80]        2,008\n",
       "│    │    └─ResConvModule: 3-2                [1, 16, 40, 48, 40]       10,608\n",
       "│    │    └─ResConvModule: 3-3                [1, 32, 20, 24, 20]       42,208\n",
       "│    │    └─ResConvModule: 3-4                [1, 64, 10, 12, 10]       168,384\n",
       "│    │    └─ResConvModule: 3-5                [1, 128, 5, 6, 5]         672,640\n",
       "├─ResClassifier: 1-2                          [1, 40]                   --\n",
       "│    └─Sequential: 2-2                        [1, 40]                   --\n",
       "│    │    └─Dropout: 3-6                      [1, 128, 5, 6, 5]         --\n",
       "│    │    └─Flatten: 3-7                      [1, 19200]                --\n",
       "│    │    └─Linear: 3-8                       [1, 256]                  4,915,456\n",
       "│    │    └─ReLU: 3-9                         [1, 256]                  --\n",
       "│    │    └─Linear: 3-10                      [1, 40]                   10,280\n",
       "===============================================================================================\n",
       "Total params: 5,821,584\n",
       "Trainable params: 5,821,584\n",
       "Non-trainable params: 0\n",
       "Total mult-adds (Units.GIGABYTES): 21.85\n",
       "===============================================================================================\n",
       "Input size (MB): 19.66\n",
       "Forward/backward pass size (MB): 2095.11\n",
       "Params size (MB): 23.29\n",
       "Estimated Total Size (MB): 2138.05\n",
       "==============================================================================================="
      ]
     },
     "execution_count": 9,
     "metadata": {},
     "output_type": "execute_result"
    }
   ],
   "source": [
    "res = ResModel(config.IM_SHAPE, 40, 0.6)\n",
    "summary(res.cuda(), config.IM_SHAPE, batch_dim=1)"
   ]
  },
  {
   "cell_type": "code",
   "execution_count": 10,
   "metadata": {},
   "outputs": [
    {
     "data": {
      "text/plain": [
       "=========================================================================================================\n",
       "Layer (type:depth-idx)                                  Output Shape              Param #\n",
       "=========================================================================================================\n",
       "SEResModel                                              [1, 40]                   --\n",
       "├─SEResEncoder: 1-1                                     [1, 128, 5, 6, 5]         --\n",
       "│    └─Sequential: 2-1                                  [1, 128, 5, 6, 5]         --\n",
       "│    │    └─SEResModule: 3-1                            [1, 8, 80, 96, 80]        2,084\n",
       "│    │    └─SEResModule: 3-2                            [1, 16, 40, 48, 40]       10,888\n",
       "│    │    └─SEResModule: 3-3                            [1, 32, 20, 24, 20]       43,280\n",
       "│    │    └─SEResModule: 3-4                            [1, 64, 10, 12, 10]       172,576\n",
       "│    │    └─SEResModule: 3-5                            [1, 128, 5, 6, 5]         689,216\n",
       "├─SEResClassifier: 1-2                                  [1, 40]                   --\n",
       "│    └─Sequential: 2-2                                  [1, 40]                   --\n",
       "│    │    └─Dropout: 3-6                                [1, 128, 5, 6, 5]         --\n",
       "│    │    └─Flatten: 3-7                                [1, 19200]                --\n",
       "│    │    └─Linear: 3-8                                 [1, 256]                  4,915,456\n",
       "│    │    └─ReLU: 3-9                                   [1, 256]                  --\n",
       "│    │    └─Linear: 3-10                                [1, 40]                   10,280\n",
       "=========================================================================================================\n",
       "Total params: 5,843,780\n",
       "Trainable params: 5,843,780\n",
       "Non-trainable params: 0\n",
       "Total mult-adds (Units.GIGABYTES): 21.85\n",
       "=========================================================================================================\n",
       "Input size (MB): 19.66\n",
       "Forward/backward pass size (MB): 2095.11\n",
       "Params size (MB): 23.38\n",
       "Estimated Total Size (MB): 2138.15\n",
       "========================================================================================================="
      ]
     },
     "execution_count": 10,
     "metadata": {},
     "output_type": "execute_result"
    }
   ],
   "source": [
    "seres = SEResModel(config.IM_SHAPE, 40, 0.6)\n",
    "summary(seres.cuda(), config.IM_SHAPE, batch_dim=1)"
   ]
  },
  {
   "cell_type": "code",
   "execution_count": 11,
   "metadata": {},
   "outputs": [
    {
     "data": {
      "text/plain": [
       "====================================================================================================\n",
       "Layer (type:depth-idx)                             Output Shape              Param #\n",
       "====================================================================================================\n",
       "ViTModel                                           [1, 40]                   --\n",
       "├─ViTEncoder: 1-1                                  [1, 768]                  --\n",
       "│    └─ViT: 2-1                                    [1, 1, 768]               768\n",
       "│    │    └─PatchEmbeddingBlock: 3-1               [1, 1200, 768]            4,068,096\n",
       "│    │    └─ModuleList: 3-2                        --                        85,026,816\n",
       "│    │    └─LayerNorm: 3-3                         [1, 1201, 768]            1,536\n",
       "├─ViTClassifier: 1-2                               [1, 40]                   --\n",
       "│    └─Sequential: 2-2                             [1, 40]                   --\n",
       "│    │    └─Flatten: 3-4                           [1, 768]                  --\n",
       "│    │    └─Dropout: 3-5                           [1, 768]                  --\n",
       "│    │    └─Linear: 3-6                            [1, 40]                   30,760\n",
       "====================================================================================================\n",
       "Total params: 89,127,976\n",
       "Trainable params: 89,127,976\n",
       "Non-trainable params: 0\n",
       "Total mult-adds (Units.GIGABYTES): 3.86\n",
       "====================================================================================================\n",
       "Input size (MB): 19.66\n",
       "Forward/backward pass size (MB): 988.77\n",
       "Params size (MB): 352.82\n",
       "Estimated Total Size (MB): 1361.26\n",
       "===================================================================================================="
      ]
     },
     "execution_count": 11,
     "metadata": {},
     "output_type": "execute_result"
    }
   ],
   "source": [
    "vit = ViTModel(config.IM_SHAPE, 40, 0.6)\n",
    "summary(vit.cuda(), config.IM_SHAPE, batch_dim=1)"
   ]
  },
  {
   "cell_type": "code",
   "execution_count": null,
   "metadata": {},
   "outputs": [],
   "source": [
    "transfer = TransferMLP(config.IM_SHAPE, 40, 0.6)\n",
    "summary(transfer.cuda(), config.IM_SHAPE, batch_dim=1)"
   ]
  }
 ],
 "metadata": {
  "kernelspec": {
   "display_name": "bowl",
   "language": "python",
   "name": "python3"
  },
  "language_info": {
   "codemirror_mode": {
    "name": "ipython",
    "version": 3
   },
   "file_extension": ".py",
   "mimetype": "text/x-python",
   "name": "python",
   "nbconvert_exporter": "python",
   "pygments_lexer": "ipython3",
   "version": "3.11.5"
  }
 },
 "nbformat": 4,
 "nbformat_minor": 2
}
