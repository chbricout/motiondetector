{
 "cells": [
  {
   "cell_type": "code",
   "execution_count": 2,
   "metadata": {},
   "outputs": [],
   "source": [
    "import pandas as pd\n",
    "import seaborn as sb\n",
    "import numpy as np"
   ]
  },
  {
   "cell_type": "code",
   "execution_count": 5,
   "metadata": {},
   "outputs": [],
   "source": [
    "def comment_motion_detector(comment:str):\n",
    "    keywords = [\"motion\", \"moion\", \"motio\", \"ringing\", 'rinin', 'ringin']\n",
    "    tocmp = comment.lower()\n",
    "    return any(map(lambda x: x in tocmp, keywords))"
   ]
  },
  {
   "cell_type": "code",
   "execution_count": 4,
   "metadata": {},
   "outputs": [
    {
     "ename": "NameError",
     "evalue": "name 'comment_motion_detector' is not defined",
     "output_type": "error",
     "traceback": [
      "\u001b[1;31m---------------------------------------------------------------------------\u001b[0m",
      "\u001b[1;31mNameError\u001b[0m                                 Traceback (most recent call last)",
      "Cell \u001b[1;32mIn[4], line 1\u001b[0m\n\u001b[1;32m----> 1\u001b[0m \u001b[43mcomment_motion_detector\u001b[49m(\u001b[38;5;124m\"\u001b[39m\u001b[38;5;124mrIngin\u001b[39m\u001b[38;5;124m\"\u001b[39m)\n",
      "\u001b[1;31mNameError\u001b[0m: name 'comment_motion_detector' is not defined"
     ]
    }
   ],
   "source": [
    "comment_motion_detector(\"rIngin\")"
   ]
  },
  {
   "cell_type": "code",
   "execution_count": 6,
   "metadata": {},
   "outputs": [
    {
     "data": {
      "text/html": [
       "<div>\n",
       "<style scoped>\n",
       "    .dataframe tbody tr th:only-of-type {\n",
       "        vertical-align: middle;\n",
       "    }\n",
       "\n",
       "    .dataframe tbody tr th {\n",
       "        vertical-align: top;\n",
       "    }\n",
       "\n",
       "    .dataframe thead th {\n",
       "        text-align: right;\n",
       "    }\n",
       "</style>\n",
       "<table border=\"1\" class=\"dataframe\">\n",
       "  <thead>\n",
       "    <tr style=\"text-align: right;\">\n",
       "      <th></th>\n",
       "      <th>sub_id_gs</th>\n",
       "      <th>ses_id_gs</th>\n",
       "      <th>timepoint_gs</th>\n",
       "      <th>score</th>\n",
       "      <th>comment</th>\n",
       "      <th>motion_free</th>\n",
       "    </tr>\n",
       "  </thead>\n",
       "  <tbody>\n",
       "    <tr>\n",
       "      <th>0</th>\n",
       "      <td>BI02450</td>\n",
       "      <td>202306231</td>\n",
       "      <td>month_2_arm_1</td>\n",
       "      <td>2</td>\n",
       "      <td>severe ringing, ghosting at eyes, motion</td>\n",
       "      <td>False</td>\n",
       "    </tr>\n",
       "    <tr>\n",
       "      <th>1</th>\n",
       "      <td>BI02450</td>\n",
       "      <td>202304111</td>\n",
       "      <td>baseline_arm_1</td>\n",
       "      <td>3</td>\n",
       "      <td>ringing throughout</td>\n",
       "      <td>False</td>\n",
       "    </tr>\n",
       "    <tr>\n",
       "      <th>2</th>\n",
       "      <td>BI04369</td>\n",
       "      <td>202312081</td>\n",
       "      <td>NaN</td>\n",
       "      <td>-1</td>\n",
       "      <td></td>\n",
       "      <td>False</td>\n",
       "    </tr>\n",
       "    <tr>\n",
       "      <th>3</th>\n",
       "      <td>BI05529</td>\n",
       "      <td>202306051</td>\n",
       "      <td>baseline_arm_2</td>\n",
       "      <td>4</td>\n",
       "      <td>no notable issues</td>\n",
       "      <td>True</td>\n",
       "    </tr>\n",
       "    <tr>\n",
       "      <th>4</th>\n",
       "      <td>BI05529</td>\n",
       "      <td>202312011</td>\n",
       "      <td>NaN</td>\n",
       "      <td>-1</td>\n",
       "      <td></td>\n",
       "      <td>False</td>\n",
       "    </tr>\n",
       "  </tbody>\n",
       "</table>\n",
       "</div>"
      ],
      "text/plain": [
       "  sub_id_gs  ses_id_gs    timepoint_gs  score  \\\n",
       "0   BI02450  202306231   month_2_arm_1      2   \n",
       "1   BI02450  202304111  baseline_arm_1      3   \n",
       "2   BI04369  202312081             NaN     -1   \n",
       "3   BI05529  202306051  baseline_arm_2      4   \n",
       "4   BI05529  202312011             NaN     -1   \n",
       "\n",
       "                                    comment  motion_free  \n",
       "0  severe ringing, ghosting at eyes, motion        False  \n",
       "1                        ringing throughout        False  \n",
       "2                                                  False  \n",
       "3                         no notable issues         True  \n",
       "4                                                  False  "
      ]
     },
     "execution_count": 6,
     "metadata": {},
     "output_type": "execute_result"
    }
   ],
   "source": [
    "ampscz_scores = pd.read_csv(\"AMPSCZ_scores.csv\")[\n",
    "    [\"sub_id_gs\", \"ses_id_gs\", \"timepoint_gs\", \"score\", \"comment\"]\n",
    "]\n",
    "ampscz_scores[\"score\"] = (\n",
    "    ampscz_scores[\"score\"].replace(\"-\", \"-1\").fillna(\"-1\").astype(int)\n",
    ")\n",
    "ampscz_scores[\"comment\"] = ampscz_scores[\"comment\"].fillna(\"\")\n",
    "ampscz_scores[\"motion_free\"] = ~(\n",
    "    ampscz_scores[\"comment\"].apply(comment_motion_detector)\n",
    "    | (ampscz_scores[\"score\"] <= 2)\n",
    ")\n",
    "\n",
    "\n",
    "ampscz_scores.head()"
   ]
  },
  {
   "cell_type": "code",
   "execution_count": 99,
   "metadata": {},
   "outputs": [
    {
     "data": {
      "text/plain": [
       "1129"
      ]
     },
     "execution_count": 99,
     "metadata": {},
     "output_type": "execute_result"
    }
   ],
   "source": [
    "len(ampscz_scores)"
   ]
  },
  {
   "cell_type": "code",
   "execution_count": 84,
   "metadata": {},
   "outputs": [
    {
     "data": {
      "text/plain": [
       "array([ 2,  3, -1,  4,  1,  5])"
      ]
     },
     "execution_count": 84,
     "metadata": {},
     "output_type": "execute_result"
    }
   ],
   "source": [
    "ampscz_scores['score'].unique()"
   ]
  },
  {
   "cell_type": "code",
   "execution_count": 85,
   "metadata": {},
   "outputs": [
    {
     "name": "stderr",
     "output_type": "stream",
     "text": [
      "c:\\Users\\Brico\\miniconda3\\envs\\bowl\\lib\\site-packages\\seaborn\\_oldcore.py:1498: FutureWarning: is_categorical_dtype is deprecated and will be removed in a future version. Use isinstance(dtype, CategoricalDtype) instead\n",
      "  if pd.api.types.is_categorical_dtype(vector):\n",
      "c:\\Users\\Brico\\miniconda3\\envs\\bowl\\lib\\site-packages\\seaborn\\_oldcore.py:1119: FutureWarning: use_inf_as_na option is deprecated and will be removed in a future version. Convert inf values to NaN before operating instead.\n",
      "  with pd.option_context('mode.use_inf_as_na', True):\n"
     ]
    },
    {
     "data": {
      "text/plain": [
       "<Axes: xlabel='score', ylabel='Count'>"
      ]
     },
     "execution_count": 85,
     "metadata": {},
     "output_type": "execute_result"
    },
    {
     "data": {
      "image/png": "[encoded data removed]",
      "text/plain": [
       "<Figure size 640x480 with 1 Axes>"
      ]
     },
     "metadata": {},
     "output_type": "display_data"
    }
   ],
   "source": [
    "sb.histplot(ampscz_scores, x=\"score\")"
   ]
  },
  {
   "cell_type": "code",
   "execution_count": 86,
   "metadata": {},
   "outputs": [
    {
     "name": "stderr",
     "output_type": "stream",
     "text": [
      "c:\\Users\\Brico\\miniconda3\\envs\\bowl\\lib\\site-packages\\seaborn\\_oldcore.py:1498: FutureWarning: is_categorical_dtype is deprecated and will be removed in a future version. Use isinstance(dtype, CategoricalDtype) instead\n",
      "  if pd.api.types.is_categorical_dtype(vector):\n",
      "c:\\Users\\Brico\\miniconda3\\envs\\bowl\\lib\\site-packages\\seaborn\\_oldcore.py:1498: FutureWarning: is_categorical_dtype is deprecated and will be removed in a future version. Use isinstance(dtype, CategoricalDtype) instead\n",
      "  if pd.api.types.is_categorical_dtype(vector):\n",
      "c:\\Users\\Brico\\miniconda3\\envs\\bowl\\lib\\site-packages\\seaborn\\_oldcore.py:1498: FutureWarning: is_categorical_dtype is deprecated and will be removed in a future version. Use isinstance(dtype, CategoricalDtype) instead\n",
      "  if pd.api.types.is_categorical_dtype(vector):\n",
      "c:\\Users\\Brico\\miniconda3\\envs\\bowl\\lib\\site-packages\\seaborn\\_oldcore.py:1498: FutureWarning: is_categorical_dtype is deprecated and will be removed in a future version. Use isinstance(dtype, CategoricalDtype) instead\n",
      "  if pd.api.types.is_categorical_dtype(vector):\n",
      "c:\\Users\\Brico\\miniconda3\\envs\\bowl\\lib\\site-packages\\seaborn\\_oldcore.py:1119: FutureWarning: use_inf_as_na option is deprecated and will be removed in a future version. Convert inf values to NaN before operating instead.\n",
      "  with pd.option_context('mode.use_inf_as_na', True):\n"
     ]
    },
    {
     "data": {
      "text/plain": [
       "<Axes: xlabel='score', ylabel='Count'>"
      ]
     },
     "execution_count": 86,
     "metadata": {},
     "output_type": "execute_result"
    },
    {
     "data": {
      "image/png": "[encoded data removed]",
      "text/plain": [
       "<Figure size 640x480 with 1 Axes>"
      ]
     },
     "metadata": {},
     "output_type": "display_data"
    }
   ],
   "source": [
    "sb.histplot(ampscz_scores, x=\"score\", hue=\"motion_free\", multiple=\"dodge\")"
   ]
  },
  {
   "cell_type": "code",
   "execution_count": 87,
   "metadata": {},
   "outputs": [
    {
     "data": {
      "text/plain": [
       "437"
      ]
     },
     "execution_count": 87,
     "metadata": {},
     "output_type": "execute_result"
    }
   ],
   "source": [
    "motion_free_ampscz = ampscz_scores[ampscz_scores['motion_free']]\n",
    "len(motion_free_ampscz)"
   ]
  },
  {
   "cell_type": "code",
   "execution_count": 88,
   "metadata": {},
   "outputs": [
    {
     "data": {
      "text/html": [
       "<div>\n",
       "<style scoped>\n",
       "    .dataframe tbody tr th:only-of-type {\n",
       "        vertical-align: middle;\n",
       "    }\n",
       "\n",
       "    .dataframe tbody tr th {\n",
       "        vertical-align: top;\n",
       "    }\n",
       "\n",
       "    .dataframe thead th {\n",
       "        text-align: right;\n",
       "    }\n",
       "</style>\n",
       "<table border=\"1\" class=\"dataframe\">\n",
       "  <thead>\n",
       "    <tr style=\"text-align: right;\">\n",
       "      <th></th>\n",
       "      <th>sub_id_gs</th>\n",
       "      <th>ses_id_gs</th>\n",
       "      <th>timepoint_gs</th>\n",
       "      <th>score</th>\n",
       "      <th>comment</th>\n",
       "      <th>motion_free</th>\n",
       "    </tr>\n",
       "  </thead>\n",
       "  <tbody>\n",
       "    <tr>\n",
       "      <th>45</th>\n",
       "      <td>CA01089</td>\n",
       "      <td>202303311</td>\n",
       "      <td>month_2_arm_1</td>\n",
       "      <td>3</td>\n",
       "      <td>ghosting at eyes that clips brain a bit</td>\n",
       "      <td>True</td>\n",
       "    </tr>\n",
       "    <tr>\n",
       "      <th>60</th>\n",
       "      <td>CA09370</td>\n",
       "      <td>202305261</td>\n",
       "      <td>month_2_arm_1</td>\n",
       "      <td>3</td>\n",
       "      <td>a bit of cerebral atrophy</td>\n",
       "      <td>True</td>\n",
       "    </tr>\n",
       "    <tr>\n",
       "      <th>118</th>\n",
       "      <td>CP47813</td>\n",
       "      <td>202307131</td>\n",
       "      <td>baseline_arm_1</td>\n",
       "      <td>3</td>\n",
       "      <td>grainy</td>\n",
       "      <td>True</td>\n",
       "    </tr>\n",
       "    <tr>\n",
       "      <th>135</th>\n",
       "      <td>GA00423</td>\n",
       "      <td>202302211</td>\n",
       "      <td>baseline_arm_2</td>\n",
       "      <td>3</td>\n",
       "      <td>A bit blurrier than normal</td>\n",
       "      <td>True</td>\n",
       "    </tr>\n",
       "    <tr>\n",
       "      <th>140</th>\n",
       "      <td>GA00940</td>\n",
       "      <td>202307121</td>\n",
       "      <td>month_2_arm_1</td>\n",
       "      <td>3</td>\n",
       "      <td>a bit grainy</td>\n",
       "      <td>True</td>\n",
       "    </tr>\n",
       "    <tr>\n",
       "      <th>148</th>\n",
       "      <td>GA06611</td>\n",
       "      <td>202304201</td>\n",
       "      <td>baseline_arm_1</td>\n",
       "      <td>3</td>\n",
       "      <td>mild ghosting of eyes with very mild impact on...</td>\n",
       "      <td>True</td>\n",
       "    </tr>\n",
       "    <tr>\n",
       "      <th>156</th>\n",
       "      <td>GA11836</td>\n",
       "      <td>202307311</td>\n",
       "      <td>month_2_arm_1</td>\n",
       "      <td>3</td>\n",
       "      <td>moderately grainy</td>\n",
       "      <td>True</td>\n",
       "    </tr>\n",
       "    <tr>\n",
       "      <th>234</th>\n",
       "      <td>IR09281</td>\n",
       "      <td>202306211</td>\n",
       "      <td>month_2_arm_1</td>\n",
       "      <td>3</td>\n",
       "      <td>ghosting of eyes clips brain a bit</td>\n",
       "      <td>True</td>\n",
       "    </tr>\n",
       "    <tr>\n",
       "      <th>267</th>\n",
       "      <td>KC02324</td>\n",
       "      <td>202306211</td>\n",
       "      <td>month_2_arm_1</td>\n",
       "      <td>3</td>\n",
       "      <td>grainy</td>\n",
       "      <td>True</td>\n",
       "    </tr>\n",
       "    <tr>\n",
       "      <th>271</th>\n",
       "      <td>KC04005</td>\n",
       "      <td>202306221</td>\n",
       "      <td>baseline_arm_1</td>\n",
       "      <td>3</td>\n",
       "      <td>Some bluriness</td>\n",
       "      <td>True</td>\n",
       "    </tr>\n",
       "    <tr>\n",
       "      <th>278</th>\n",
       "      <td>KC12416</td>\n",
       "      <td>202306211</td>\n",
       "      <td>baseline_arm_1</td>\n",
       "      <td>3</td>\n",
       "      <td>a bit grainy</td>\n",
       "      <td>True</td>\n",
       "    </tr>\n",
       "    <tr>\n",
       "      <th>282</th>\n",
       "      <td>KC17200</td>\n",
       "      <td>202306291</td>\n",
       "      <td>baseline_arm_1</td>\n",
       "      <td>3</td>\n",
       "      <td>a bit grainy</td>\n",
       "      <td>True</td>\n",
       "    </tr>\n",
       "    <tr>\n",
       "      <th>286</th>\n",
       "      <td>KC17444</td>\n",
       "      <td>202307031</td>\n",
       "      <td>baseline_arm_1</td>\n",
       "      <td>3</td>\n",
       "      <td>grainy</td>\n",
       "      <td>True</td>\n",
       "    </tr>\n",
       "    <tr>\n",
       "      <th>288</th>\n",
       "      <td>KC18232</td>\n",
       "      <td>202307171</td>\n",
       "      <td>baseline_arm_1</td>\n",
       "      <td>3</td>\n",
       "      <td>grainy as you near bottom of axial view</td>\n",
       "      <td>True</td>\n",
       "    </tr>\n",
       "    <tr>\n",
       "      <th>311</th>\n",
       "      <td>LA10209</td>\n",
       "      <td>202306231</td>\n",
       "      <td>baseline_arm_2</td>\n",
       "      <td>3</td>\n",
       "      <td>ghosting of eyes that clips brain a little bit</td>\n",
       "      <td>True</td>\n",
       "    </tr>\n",
       "    <tr>\n",
       "      <th>406</th>\n",
       "      <td>ME07003</td>\n",
       "      <td>202309081</td>\n",
       "      <td>month_2_arm_1</td>\n",
       "      <td>3</td>\n",
       "      <td>ghosting of eyes clips temporal poles</td>\n",
       "      <td>True</td>\n",
       "    </tr>\n",
       "    <tr>\n",
       "      <th>486</th>\n",
       "      <td>ME39294</td>\n",
       "      <td>202306231</td>\n",
       "      <td>baseline_arm_1</td>\n",
       "      <td>3</td>\n",
       "      <td>ghosting at eyes clips brain a bit</td>\n",
       "      <td>True</td>\n",
       "    </tr>\n",
       "    <tr>\n",
       "      <th>521</th>\n",
       "      <td>ME50599</td>\n",
       "      <td>202302241</td>\n",
       "      <td>month_2_arm_1</td>\n",
       "      <td>3</td>\n",
       "      <td>potential incidental finding - small hole/flui...</td>\n",
       "      <td>True</td>\n",
       "    </tr>\n",
       "    <tr>\n",
       "      <th>578</th>\n",
       "      <td>ME76000</td>\n",
       "      <td>202304211</td>\n",
       "      <td>baseline_arm_1</td>\n",
       "      <td>3</td>\n",
       "      <td>ghosting of eyes that slightly affects brain</td>\n",
       "      <td>True</td>\n",
       "    </tr>\n",
       "    <tr>\n",
       "      <th>579</th>\n",
       "      <td>ME76000</td>\n",
       "      <td>202308181</td>\n",
       "      <td>month_2_arm_1</td>\n",
       "      <td>3</td>\n",
       "      <td>Ghosting of eyes interferes with brain</td>\n",
       "      <td>True</td>\n",
       "    </tr>\n",
       "    <tr>\n",
       "      <th>651</th>\n",
       "      <td>MT18844</td>\n",
       "      <td>202308091</td>\n",
       "      <td>baseline_arm_1</td>\n",
       "      <td>3</td>\n",
       "      <td>ghosting at eyes clips temporal poles</td>\n",
       "      <td>True</td>\n",
       "    </tr>\n",
       "    <tr>\n",
       "      <th>653</th>\n",
       "      <td>MT20156</td>\n",
       "      <td>202307101</td>\n",
       "      <td>baseline_arm_1</td>\n",
       "      <td>3</td>\n",
       "      <td>ghosting of eyes slightly clips brain</td>\n",
       "      <td>True</td>\n",
       "    </tr>\n",
       "    <tr>\n",
       "      <th>679</th>\n",
       "      <td>NC02111</td>\n",
       "      <td>202209061</td>\n",
       "      <td>baseline_arm_1</td>\n",
       "      <td>3</td>\n",
       "      <td></td>\n",
       "      <td>True</td>\n",
       "    </tr>\n",
       "    <tr>\n",
       "      <th>763</th>\n",
       "      <td>NN13415</td>\n",
       "      <td>202308211</td>\n",
       "      <td>baseline_arm_1</td>\n",
       "      <td>3</td>\n",
       "      <td>vertical ghosting of eyes in ventral portion o...</td>\n",
       "      <td>True</td>\n",
       "    </tr>\n",
       "    <tr>\n",
       "      <th>779</th>\n",
       "      <td>OR06829</td>\n",
       "      <td>202303231</td>\n",
       "      <td>baseline_arm_1</td>\n",
       "      <td>3</td>\n",
       "      <td>noise</td>\n",
       "      <td>True</td>\n",
       "    </tr>\n",
       "    <tr>\n",
       "      <th>799</th>\n",
       "      <td>PA01260</td>\n",
       "      <td>202210201</td>\n",
       "      <td>baseline_arm_1</td>\n",
       "      <td>3</td>\n",
       "      <td></td>\n",
       "      <td>True</td>\n",
       "    </tr>\n",
       "    <tr>\n",
       "      <th>804</th>\n",
       "      <td>PA01909</td>\n",
       "      <td>202302231</td>\n",
       "      <td>month_2_arm_1</td>\n",
       "      <td>3</td>\n",
       "      <td>some tissue atrophy at the top of the brain</td>\n",
       "      <td>True</td>\n",
       "    </tr>\n",
       "    <tr>\n",
       "      <th>813</th>\n",
       "      <td>PA06165</td>\n",
       "      <td>202304291</td>\n",
       "      <td>month_2_arm_1</td>\n",
       "      <td>3</td>\n",
       "      <td>vertical ghosting of eyes with minor impact to...</td>\n",
       "      <td>True</td>\n",
       "    </tr>\n",
       "    <tr>\n",
       "      <th>855</th>\n",
       "      <td>PI10215</td>\n",
       "      <td>202305191</td>\n",
       "      <td>month_2_arm_1</td>\n",
       "      <td>3</td>\n",
       "      <td>some motino throughout, looks a bit grainy/blu...</td>\n",
       "      <td>True</td>\n",
       "    </tr>\n",
       "    <tr>\n",
       "      <th>883</th>\n",
       "      <td>PV04769</td>\n",
       "      <td>202305171</td>\n",
       "      <td>baseline_arm_1</td>\n",
       "      <td>3</td>\n",
       "      <td>mild ghosting of eyes that slightly interferes...</td>\n",
       "      <td>True</td>\n",
       "    </tr>\n",
       "    <tr>\n",
       "      <th>914</th>\n",
       "      <td>SD10646</td>\n",
       "      <td>202308211</td>\n",
       "      <td>baseline_arm_1</td>\n",
       "      <td>3</td>\n",
       "      <td>ghosting at eyes clips temporal poles</td>\n",
       "      <td>True</td>\n",
       "    </tr>\n",
       "    <tr>\n",
       "      <th>937</th>\n",
       "      <td>SF14052</td>\n",
       "      <td>202304102</td>\n",
       "      <td>baseline_arm_1</td>\n",
       "      <td>3</td>\n",
       "      <td>^</td>\n",
       "      <td>True</td>\n",
       "    </tr>\n",
       "    <tr>\n",
       "      <th>1103</th>\n",
       "      <td>YA16945</td>\n",
       "      <td>202305241</td>\n",
       "      <td>month_2_arm_1</td>\n",
       "      <td>3</td>\n",
       "      <td>scan is good, cyst in cerebellum may disrupt v...</td>\n",
       "      <td>True</td>\n",
       "    </tr>\n",
       "  </tbody>\n",
       "</table>\n",
       "</div>"
      ],
      "text/plain": [
       "     sub_id_gs  ses_id_gs    timepoint_gs  score  \\\n",
       "45     CA01089  202303311   month_2_arm_1      3   \n",
       "60     CA09370  202305261   month_2_arm_1      3   \n",
       "118    CP47813  202307131  baseline_arm_1      3   \n",
       "135    GA00423  202302211  baseline_arm_2      3   \n",
       "140    GA00940  202307121   month_2_arm_1      3   \n",
       "148    GA06611  202304201  baseline_arm_1      3   \n",
       "156    GA11836  202307311   month_2_arm_1      3   \n",
       "234    IR09281  202306211   month_2_arm_1      3   \n",
       "267    KC02324  202306211   month_2_arm_1      3   \n",
       "271    KC04005  202306221  baseline_arm_1      3   \n",
       "278    KC12416  202306211  baseline_arm_1      3   \n",
       "282    KC17200  202306291  baseline_arm_1      3   \n",
       "286    KC17444  202307031  baseline_arm_1      3   \n",
       "288    KC18232  202307171  baseline_arm_1      3   \n",
       "311    LA10209  202306231  baseline_arm_2      3   \n",
       "406    ME07003  202309081   month_2_arm_1      3   \n",
       "486    ME39294  202306231  baseline_arm_1      3   \n",
       "521    ME50599  202302241   month_2_arm_1      3   \n",
       "578    ME76000  202304211  baseline_arm_1      3   \n",
       "579    ME76000  202308181   month_2_arm_1      3   \n",
       "651    MT18844  202308091  baseline_arm_1      3   \n",
       "653    MT20156  202307101  baseline_arm_1      3   \n",
       "679    NC02111  202209061  baseline_arm_1      3   \n",
       "763    NN13415  202308211  baseline_arm_1      3   \n",
       "779    OR06829  202303231  baseline_arm_1      3   \n",
       "799    PA01260  202210201  baseline_arm_1      3   \n",
       "804    PA01909  202302231   month_2_arm_1      3   \n",
       "813    PA06165  202304291   month_2_arm_1      3   \n",
       "855    PI10215  202305191   month_2_arm_1      3   \n",
       "883    PV04769  202305171  baseline_arm_1      3   \n",
       "914    SD10646  202308211  baseline_arm_1      3   \n",
       "937    SF14052  202304102  baseline_arm_1      3   \n",
       "1103   YA16945  202305241   month_2_arm_1      3   \n",
       "\n",
       "                                                comment  motion_free  \n",
       "45              ghosting at eyes that clips brain a bit         True  \n",
       "60                            a bit of cerebral atrophy         True  \n",
       "118                                              grainy         True  \n",
       "135                          A bit blurrier than normal         True  \n",
       "140                                        a bit grainy         True  \n",
       "148   mild ghosting of eyes with very mild impact on...         True  \n",
       "156                                   moderately grainy         True  \n",
       "234                  ghosting of eyes clips brain a bit         True  \n",
       "267                                              grainy         True  \n",
       "271                                      Some bluriness         True  \n",
       "278                                        a bit grainy         True  \n",
       "282                                        a bit grainy         True  \n",
       "286                                              grainy         True  \n",
       "288             grainy as you near bottom of axial view         True  \n",
       "311      ghosting of eyes that clips brain a little bit         True  \n",
       "406               ghosting of eyes clips temporal poles         True  \n",
       "486                  ghosting at eyes clips brain a bit         True  \n",
       "521   potential incidental finding - small hole/flui...         True  \n",
       "578        ghosting of eyes that slightly affects brain         True  \n",
       "579              Ghosting of eyes interferes with brain         True  \n",
       "651               ghosting at eyes clips temporal poles         True  \n",
       "653               ghosting of eyes slightly clips brain         True  \n",
       "679                                                             True  \n",
       "763   vertical ghosting of eyes in ventral portion o...         True  \n",
       "779                                               noise         True  \n",
       "799                                                             True  \n",
       "804        some tissue atrophy at the top of the brain          True  \n",
       "813   vertical ghosting of eyes with minor impact to...         True  \n",
       "855   some motino throughout, looks a bit grainy/blu...         True  \n",
       "883   mild ghosting of eyes that slightly interferes...         True  \n",
       "914               ghosting at eyes clips temporal poles         True  \n",
       "937                                                   ^         True  \n",
       "1103  scan is good, cyst in cerebellum may disrupt v...         True  "
      ]
     },
     "execution_count": 88,
     "metadata": {},
     "output_type": "execute_result"
    }
   ],
   "source": [
    "motion_free_ampscz[motion_free_ampscz['score']==3]"
   ]
  },
  {
   "cell_type": "code",
   "execution_count": 89,
   "metadata": {},
   "outputs": [
    {
     "data": {
      "text/html": [
       "<div>\n",
       "<style scoped>\n",
       "    .dataframe tbody tr th:only-of-type {\n",
       "        vertical-align: middle;\n",
       "    }\n",
       "\n",
       "    .dataframe tbody tr th {\n",
       "        vertical-align: top;\n",
       "    }\n",
       "\n",
       "    .dataframe thead th {\n",
       "        text-align: right;\n",
       "    }\n",
       "</style>\n",
       "<table border=\"1\" class=\"dataframe\">\n",
       "  <thead>\n",
       "    <tr style=\"text-align: right;\">\n",
       "      <th></th>\n",
       "      <th>sub_id_gs</th>\n",
       "      <th>ses_id_gs</th>\n",
       "      <th>timepoint_gs</th>\n",
       "      <th>score</th>\n",
       "      <th>comment</th>\n",
       "      <th>motion_free</th>\n",
       "    </tr>\n",
       "  </thead>\n",
       "  <tbody>\n",
       "    <tr>\n",
       "      <th>1063</th>\n",
       "      <td>WU09114</td>\n",
       "      <td>202306161</td>\n",
       "      <td>month_2_arm_1</td>\n",
       "      <td>4</td>\n",
       "      <td>lots of artifacts outside of the skull, odd bu...</td>\n",
       "      <td>True</td>\n",
       "    </tr>\n",
       "  </tbody>\n",
       "</table>\n",
       "</div>"
      ],
      "text/plain": [
       "     sub_id_gs  ses_id_gs   timepoint_gs  score  \\\n",
       "1063   WU09114  202306161  month_2_arm_1      4   \n",
       "\n",
       "                                                comment  motion_free  \n",
       "1063  lots of artifacts outside of the skull, odd bu...         True  "
      ]
     },
     "execution_count": 89,
     "metadata": {},
     "output_type": "execute_result"
    }
   ],
   "source": [
    "motion_free_ampscz[motion_free_ampscz['comment']==\"lots of artifacts outside of the skull, odd but doesn't affect brain\"]"
   ]
  },
  {
   "cell_type": "code",
   "execution_count": 96,
   "metadata": {},
   "outputs": [
    {
     "data": {
      "text/html": [
       "<div>\n",
       "<style scoped>\n",
       "    .dataframe tbody tr th:only-of-type {\n",
       "        vertical-align: middle;\n",
       "    }\n",
       "\n",
       "    .dataframe tbody tr th {\n",
       "        vertical-align: top;\n",
       "    }\n",
       "\n",
       "    .dataframe thead th {\n",
       "        text-align: right;\n",
       "    }\n",
       "</style>\n",
       "<table border=\"1\" class=\"dataframe\">\n",
       "  <thead>\n",
       "    <tr style=\"text-align: right;\">\n",
       "      <th></th>\n",
       "      <th>Date</th>\n",
       "      <th>Subject ID</th>\n",
       "      <th>T1w</th>\n",
       "      <th>T1w comment</th>\n",
       "      <th>T2w</th>\n",
       "      <th>T2w comment</th>\n",
       "      <th>Center</th>\n",
       "      <th>motion_free</th>\n",
       "    </tr>\n",
       "  </thead>\n",
       "  <tbody>\n",
       "    <tr>\n",
       "      <th>0</th>\n",
       "      <td>14/8/2018</td>\n",
       "      <td>2031_MR1</td>\n",
       "      <td>-1.0</td>\n",
       "      <td>moving from BWH</td>\n",
       "      <td>NaN</td>\n",
       "      <td>NaN</td>\n",
       "      <td>McLean</td>\n",
       "      <td>False</td>\n",
       "    </tr>\n",
       "    <tr>\n",
       "      <th>1</th>\n",
       "      <td>14/11/2019</td>\n",
       "      <td>4002_MR2</td>\n",
       "      <td>4.0</td>\n",
       "      <td></td>\n",
       "      <td>3</td>\n",
       "      <td>noise</td>\n",
       "      <td>McLean</td>\n",
       "      <td>True</td>\n",
       "    </tr>\n",
       "    <tr>\n",
       "      <th>2</th>\n",
       "      <td>18/12/2019</td>\n",
       "      <td>4012_MR1</td>\n",
       "      <td>3.5</td>\n",
       "      <td>couldnt tell if the motion was a computer arti...</td>\n",
       "      <td>3</td>\n",
       "      <td>faint ringing</td>\n",
       "      <td>McLean</td>\n",
       "      <td>False</td>\n",
       "    </tr>\n",
       "    <tr>\n",
       "      <th>3</th>\n",
       "      <td>25/7/2018</td>\n",
       "      <td>4015_MR1</td>\n",
       "      <td>3.5</td>\n",
       "      <td>mild ringing</td>\n",
       "      <td>3/4</td>\n",
       "      <td>mild ringing</td>\n",
       "      <td>McLean</td>\n",
       "      <td>False</td>\n",
       "    </tr>\n",
       "    <tr>\n",
       "      <th>4</th>\n",
       "      <td>19/11/2018</td>\n",
       "      <td>4017_MR1</td>\n",
       "      <td>4.0</td>\n",
       "      <td></td>\n",
       "      <td>2/3</td>\n",
       "      <td>ringing motion</td>\n",
       "      <td>McLean</td>\n",
       "      <td>True</td>\n",
       "    </tr>\n",
       "  </tbody>\n",
       "</table>\n",
       "</div>"
      ],
      "text/plain": [
       "         Date Subject ID  T1w  \\\n",
       "0   14/8/2018   2031_MR1 -1.0   \n",
       "1  14/11/2019   4002_MR2  4.0   \n",
       "2  18/12/2019   4012_MR1  3.5   \n",
       "3   25/7/2018   4015_MR1  3.5   \n",
       "4  19/11/2018   4017_MR1  4.0   \n",
       "\n",
       "                                         T1w comment  T2w      T2w comment  \\\n",
       "0                                    moving from BWH  NaN              NaN   \n",
       "1                                                       3            noise   \n",
       "2  couldnt tell if the motion was a computer arti...    3    faint ringing   \n",
       "3                                       mild ringing  3/4     mild ringing   \n",
       "4                                                     2/3  ringing motion    \n",
       "\n",
       "   Center  motion_free  \n",
       "0  McLean        False  \n",
       "1  McLean         True  \n",
       "2  McLean        False  \n",
       "3  McLean        False  \n",
       "4  McLean         True  "
      ]
     },
     "execution_count": 96,
     "metadata": {},
     "output_type": "execute_result"
    }
   ],
   "source": [
    "hcpep_scores = pd.read_csv(\"HCPEP_scores.csv\")\n",
    "hcpep_scores[\"T1w\"] = (\n",
    "    hcpep_scores[\"T1w\"]\n",
    "    .fillna(\"-1\")\n",
    "    .replace(\"2?\", \"-1\")\n",
    "    .replace(\"3/4\", \"3.5\")\n",
    "    .replace(\"3 / 4\", \"3.5\")\n",
    "    .replace(\"2/3\", \"2.5\")\n",
    "    .replace(\"3/2\", \"2.5\")\n",
    "    .replace(\"4/3\", \"3.5\")\n",
    "    .replace(\"2/ 3\", \"3.5\")\n",
    "    .astype(float)\n",
    "\n",
    ")\n",
    "hcpep_scores[\"T1w comment\"] = hcpep_scores[\"T1w comment\"].fillna(\"\")\n",
    "hcpep_scores[\"motion_free\"] = ~(\n",
    "    hcpep_scores[\"T1w comment\"].apply(comment_motion_detector)\n",
    "    | (hcpep_scores[\"T1w\"] <= 2)\n",
    ")\n",
    "\n",
    "hcpep_scores.head()"
   ]
  },
  {
   "cell_type": "code",
   "execution_count": 95,
   "metadata": {},
   "outputs": [
    {
     "name": "stderr",
     "output_type": "stream",
     "text": [
      "c:\\Users\\Brico\\miniconda3\\envs\\bowl\\lib\\site-packages\\seaborn\\_oldcore.py:1498: FutureWarning: is_categorical_dtype is deprecated and will be removed in a future version. Use isinstance(dtype, CategoricalDtype) instead\n",
      "  if pd.api.types.is_categorical_dtype(vector):\n",
      "c:\\Users\\Brico\\miniconda3\\envs\\bowl\\lib\\site-packages\\seaborn\\_oldcore.py:1119: FutureWarning: use_inf_as_na option is deprecated and will be removed in a future version. Convert inf values to NaN before operating instead.\n",
      "  with pd.option_context('mode.use_inf_as_na', True):\n"
     ]
    },
    {
     "data": {
      "text/plain": [
       "<Axes: xlabel='T1w', ylabel='Count'>"
      ]
     },
     "execution_count": 95,
     "metadata": {},
     "output_type": "execute_result"
    },
    {
     "data": {
      "image/png": "[encoded data removed]",
      "text/plain": [
       "<Figure size 640x480 with 1 Axes>"
      ]
     },
     "metadata": {},
     "output_type": "display_data"
    }
   ],
   "source": [
    "sb.histplot(hcpep_scores, x=\"T1w\")"
   ]
  },
  {
   "cell_type": "code",
   "execution_count": 1,
   "metadata": {},
   "outputs": [
    {
     "ename": "NameError",
     "evalue": "name 'sb' is not defined",
     "output_type": "error",
     "traceback": [
      "\u001b[1;31m---------------------------------------------------------------------------\u001b[0m",
      "\u001b[1;31mNameError\u001b[0m                                 Traceback (most recent call last)",
      "Cell \u001b[1;32mIn[1], line 1\u001b[0m\n\u001b[1;32m----> 1\u001b[0m \u001b[43msb\u001b[49m\u001b[38;5;241m.\u001b[39mhistplot(hcpep_scores, x\u001b[38;5;241m=\u001b[39m\u001b[38;5;124m\"\u001b[39m\u001b[38;5;124mT1w\u001b[39m\u001b[38;5;124m\"\u001b[39m, hue\u001b[38;5;241m=\u001b[39m\u001b[38;5;124m\"\u001b[39m\u001b[38;5;124mmotion_free\u001b[39m\u001b[38;5;124m\"\u001b[39m, multiple\u001b[38;5;241m=\u001b[39m\u001b[38;5;124m\"\u001b[39m\u001b[38;5;124mdodge\u001b[39m\u001b[38;5;124m\"\u001b[39m)\n",
      "\u001b[1;31mNameError\u001b[0m: name 'sb' is not defined"
     ]
    }
   ],
   "source": [
    "sb.histplot(hcpep_scores, x=\"T1w\", hue=\"motion_free\", multiple=\"dodge\")"
   ]
  },
  {
   "cell_type": "code",
   "execution_count": 98,
   "metadata": {},
   "outputs": [
    {
     "name": "stderr",
     "output_type": "stream",
     "text": [
      "C:\\Users\\Brico\\AppData\\Local\\Temp\\ipykernel_9784\\286847717.py:1: UserWarning: Boolean Series key will be reindexed to match DataFrame index.\n",
      "  motion_free_hcpep = hcpep_scores[ampscz_scores['motion_free']]\n"
     ]
    },
    {
     "data": {
      "text/plain": [
       "140"
      ]
     },
     "execution_count": 98,
     "metadata": {},
     "output_type": "execute_result"
    }
   ],
   "source": [
    "motion_free_hcpep = hcpep_scores[ampscz_scores['motion_free']]\n",
    "len(motion_free_hcpep)"
   ]
  }
 ],
 "metadata": {
  "kernelspec": {
   "display_name": "bowl",
   "language": "python",
   "name": "python3"
  },
  "language_info": {
   "codemirror_mode": {
    "name": "ipython",
    "version": 3
   },
   "file_extension": ".py",
   "mimetype": "text/x-python",
   "name": "python",
   "nbconvert_exporter": "python",
   "pygments_lexer": "ipython3",
   "version": "3.10.13"
  }
 },
 "nbformat": 4,
 "nbformat_minor": 2
}
