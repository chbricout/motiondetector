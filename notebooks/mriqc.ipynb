{
 "cells": [
  {
   "cell_type": "code",
   "execution_count": 1,
   "metadata": {},
   "outputs": [],
   "source": [
    "import glob"
   ]
  },
  {
   "cell_type": "code",
   "execution_count": 2,
   "metadata": {},
   "outputs": [],
   "source": [
    "files_to_load = glob.glob(\"/home/at70870/narval/scratch/MRIQC/sub-*/*/mri/orig_nu.nii.gz\")"
   ]
  },
  {
   "cell_type": "code",
   "execution_count": null,
   "metadata": {},
   "outputs": [],
   "source": [
    "from monai.transforms import (\n",
    "    Compose,\n",
    "    LoadImage,\n",
    "    Orientation,\n",
    "    ScaleIntensity,\n",
    "    CropForeground,\n",
    "\n",
    ")\n",
    "\n",
    "def threshold_one(x):\n",
    "    return x >= 0.01\n",
    "\n",
    "\n",
    "tsf = Compose([\n",
    "    LoadImage(ensure_channel_first=True, image_only=True),\n",
    "    Orientation(axcodes=\"RAS\"),\n",
    "    ScaleIntensity(minv=0, maxv=1),\n",
    "    CropForeground(\n",
    "        select_fn=threshold_one,\n",
    "        allow_smaller=True,\n",
    "    ),\n",
    "])"
   ]
  },
  {
   "cell_type": "code",
   "execution_count": null,
   "metadata": {},
   "outputs": [],
   "source": [
    "volumes = tsf(files_to_load)"
   ]
  }
 ],
 "metadata": {
  "kernelspec": {
   "display_name": "bowl",
   "language": "python",
   "name": "python3"
  },
  "language_info": {
   "codemirror_mode": {
    "name": "ipython",
    "version": 3
   },
   "file_extension": ".py",
   "mimetype": "text/x-python",
   "name": "python",
   "nbconvert_exporter": "python",
   "pygments_lexer": "ipython3",
   "version": "3.10.13"
  }
 },
 "nbformat": 4,
 "nbformat_minor": 2
}
