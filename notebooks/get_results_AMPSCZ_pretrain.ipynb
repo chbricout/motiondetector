{
 "cells": [
  {
   "cell_type": "code",
   "execution_count": 1,
   "metadata": {},
   "outputs": [],
   "source": [
    "import sys\n",
    "sys.path.append('..')"
   ]
  },
  {
   "cell_type": "code",
   "execution_count": 2,
   "metadata": {},
   "outputs": [],
   "source": [
    "%load_ext autoreload\n",
    "%autoreload 2\n",
    "import pandas as pd\n",
    "from sklearn.tree import DecisionTreeClassifier, plot_tree\n",
    "from sklearn.metrics import balanced_accuracy_score, ConfusionMatrixDisplay\n",
    "import seaborn as sb\n",
    "import warnings\n",
    "import numpy as np\n",
    "import matplotlib.pyplot as plt\n",
    "from src.utils.metrics import separation_capacity, separation_capacity_tree\n",
    "warnings.simplefilter(action=\"ignore\")\n",
    "import plotly.express as px"
   ]
  },
  {
   "cell_type": "code",
   "execution_count": 35,
   "metadata": {},
   "outputs": [],
   "source": [
    "def comment_motion_detector(comment: str):\n",
    "    keywords = [\"motion\", \"moion\", \"motio\", \"ringing\", \"rinin\", \"ringin\"]\n",
    "    tocmp = comment.lower()\n",
    "    return any(map(lambda x: x in tocmp, keywords))"
   ]
  },
  {
   "cell_type": "code",
   "execution_count": 77,
   "metadata": {},
   "outputs": [],
   "source": [
    "ampscz_ssim_path=\"/home/chbricout/Downloads/AMPSCZ-conv5_fc3-ssim.csv\"\n",
    "ampscz_motion_path=\"/home/chbricout/Downloads/AMPSCZ-seres-motion.csv\"\n",
    "original_scores_path = \"/home/chbricout/Master/mrart/src/dataset/ampscz/finetune.csv\""
   ]
  },
  {
   "cell_type": "code",
   "execution_count": 108,
   "metadata": {},
   "outputs": [
    {
     "data": {
      "text/html": [
       "<div>\n",
       "<style scoped>\n",
       "    .dataframe tbody tr th:only-of-type {\n",
       "        vertical-align: middle;\n",
       "    }\n",
       "\n",
       "    .dataframe tbody tr th {\n",
       "        vertical-align: top;\n",
       "    }\n",
       "\n",
       "    .dataframe thead th {\n",
       "        text-align: right;\n",
       "    }\n",
       "</style>\n",
       "<table border=\"1\" class=\"dataframe\">\n",
       "  <thead>\n",
       "    <tr style=\"text-align: right;\">\n",
       "      <th></th>\n",
       "      <th>sub_id_gs</th>\n",
       "      <th>ses_id_gs</th>\n",
       "      <th>timepoint_gs</th>\n",
       "      <th>score</th>\n",
       "      <th>comment</th>\n",
       "      <th>sub-ses</th>\n",
       "      <th>site</th>\n",
       "      <th>motion</th>\n",
       "      <th>group</th>\n",
       "      <th>data</th>\n",
       "      <th>identifier</th>\n",
       "    </tr>\n",
       "  </thead>\n",
       "  <tbody>\n",
       "    <tr>\n",
       "      <th>215</th>\n",
       "      <td>IR00124</td>\n",
       "      <td>202210141</td>\n",
       "      <td>baseline_arm_1</td>\n",
       "      <td>3</td>\n",
       "      <td>moderate motion at bottom of brain, ringing fr...</td>\n",
       "      <td>IR00124-202210141</td>\n",
       "      <td>IR</td>\n",
       "      <td>True</td>\n",
       "      <td>train</td>\n",
       "      <td>AMPSCZ-Preproc/subjects/sub-IR00124/ses-202210...</td>\n",
       "      <td>IR00124_202210141</td>\n",
       "    </tr>\n",
       "    <tr>\n",
       "      <th>216</th>\n",
       "      <td>IR00124</td>\n",
       "      <td>202212211</td>\n",
       "      <td>month_2_arm_1</td>\n",
       "      <td>3</td>\n",
       "      <td>ringing throughout (especially axial view)</td>\n",
       "      <td>IR00124-202212211</td>\n",
       "      <td>IR</td>\n",
       "      <td>True</td>\n",
       "      <td>train</td>\n",
       "      <td>AMPSCZ-Preproc/subjects/sub-IR00124/ses-202212...</td>\n",
       "      <td>IR00124_202212211</td>\n",
       "    </tr>\n",
       "    <tr>\n",
       "      <th>217</th>\n",
       "      <td>IR00491</td>\n",
       "      <td>202210171</td>\n",
       "      <td>baseline_arm_1</td>\n",
       "      <td>4</td>\n",
       "      <td>very faint ringing in nonnorm</td>\n",
       "      <td>IR00491-202210171</td>\n",
       "      <td>IR</td>\n",
       "      <td>False</td>\n",
       "      <td>train</td>\n",
       "      <td>AMPSCZ-Preproc/subjects/sub-IR00491/ses-202210...</td>\n",
       "      <td>IR00491_202210171</td>\n",
       "    </tr>\n",
       "    <tr>\n",
       "      <th>218</th>\n",
       "      <td>IR00491</td>\n",
       "      <td>202212191</td>\n",
       "      <td>month_2_arm_1</td>\n",
       "      <td>4</td>\n",
       "      <td>NaN</td>\n",
       "      <td>IR00491-202212191</td>\n",
       "      <td>IR</td>\n",
       "      <td>False</td>\n",
       "      <td>train</td>\n",
       "      <td>AMPSCZ-Preproc/subjects/sub-IR00491/ses-202212...</td>\n",
       "      <td>IR00491_202212191</td>\n",
       "    </tr>\n",
       "    <tr>\n",
       "      <th>219</th>\n",
       "      <td>IR01451</td>\n",
       "      <td>202210281</td>\n",
       "      <td>baseline_arm_1</td>\n",
       "      <td>3</td>\n",
       "      <td>some ringing in frontal lobe but not significant</td>\n",
       "      <td>IR01451-202210281</td>\n",
       "      <td>IR</td>\n",
       "      <td>True</td>\n",
       "      <td>train</td>\n",
       "      <td>AMPSCZ-Preproc/subjects/sub-IR01451/ses-202210...</td>\n",
       "      <td>IR01451_202210281</td>\n",
       "    </tr>\n",
       "    <tr>\n",
       "      <th>...</th>\n",
       "      <td>...</td>\n",
       "      <td>...</td>\n",
       "      <td>...</td>\n",
       "      <td>...</td>\n",
       "      <td>...</td>\n",
       "      <td>...</td>\n",
       "      <td>...</td>\n",
       "      <td>...</td>\n",
       "      <td>...</td>\n",
       "      <td>...</td>\n",
       "      <td>...</td>\n",
       "    </tr>\n",
       "    <tr>\n",
       "      <th>1090</th>\n",
       "      <td>YA08362</td>\n",
       "      <td>202210131</td>\n",
       "      <td>baseline_arm_1</td>\n",
       "      <td>3</td>\n",
       "      <td>ringing, skull slightly misshapen</td>\n",
       "      <td>YA08362-202210131</td>\n",
       "      <td>YA</td>\n",
       "      <td>True</td>\n",
       "      <td>test</td>\n",
       "      <td>AMPSCZ-Preproc/subjects/sub-YA08362/ses-202210...</td>\n",
       "      <td>YA08362_202210131</td>\n",
       "    </tr>\n",
       "    <tr>\n",
       "      <th>1092</th>\n",
       "      <td>YA11278</td>\n",
       "      <td>202301261</td>\n",
       "      <td>baseline_arm_1</td>\n",
       "      <td>4</td>\n",
       "      <td>NaN</td>\n",
       "      <td>YA11278-202301261</td>\n",
       "      <td>YA</td>\n",
       "      <td>False</td>\n",
       "      <td>test</td>\n",
       "      <td>AMPSCZ-Preproc/subjects/sub-YA11278/ses-202301...</td>\n",
       "      <td>YA11278_202301261</td>\n",
       "    </tr>\n",
       "    <tr>\n",
       "      <th>1093</th>\n",
       "      <td>YA11278</td>\n",
       "      <td>202303301</td>\n",
       "      <td>month_2_arm_1</td>\n",
       "      <td>4</td>\n",
       "      <td>NaN</td>\n",
       "      <td>YA11278-202303301</td>\n",
       "      <td>YA</td>\n",
       "      <td>False</td>\n",
       "      <td>test</td>\n",
       "      <td>AMPSCZ-Preproc/subjects/sub-YA11278/ses-202303...</td>\n",
       "      <td>YA11278_202303301</td>\n",
       "    </tr>\n",
       "    <tr>\n",
       "      <th>1105</th>\n",
       "      <td>YA17816</td>\n",
       "      <td>202305041</td>\n",
       "      <td>baseline_arm_1</td>\n",
       "      <td>3</td>\n",
       "      <td>moderate ringing</td>\n",
       "      <td>YA17816-202305041</td>\n",
       "      <td>YA</td>\n",
       "      <td>True</td>\n",
       "      <td>test</td>\n",
       "      <td>AMPSCZ-Preproc/subjects/sub-YA17816/ses-202305...</td>\n",
       "      <td>YA17816_202305041</td>\n",
       "    </tr>\n",
       "    <tr>\n",
       "      <th>1106</th>\n",
       "      <td>YA17816</td>\n",
       "      <td>202307121</td>\n",
       "      <td>month_2_arm_1</td>\n",
       "      <td>3</td>\n",
       "      <td>Minor ringing</td>\n",
       "      <td>YA17816-202307121</td>\n",
       "      <td>YA</td>\n",
       "      <td>True</td>\n",
       "      <td>test</td>\n",
       "      <td>AMPSCZ-Preproc/subjects/sub-YA17816/ses-202307...</td>\n",
       "      <td>YA17816_202307121</td>\n",
       "    </tr>\n",
       "  </tbody>\n",
       "</table>\n",
       "<p>196 rows × 11 columns</p>\n",
       "</div>"
      ],
      "text/plain": [
       "     sub_id_gs  ses_id_gs    timepoint_gs  score  \\\n",
       "215    IR00124  202210141  baseline_arm_1      3   \n",
       "216    IR00124  202212211   month_2_arm_1      3   \n",
       "217    IR00491  202210171  baseline_arm_1      4   \n",
       "218    IR00491  202212191   month_2_arm_1      4   \n",
       "219    IR01451  202210281  baseline_arm_1      3   \n",
       "...        ...        ...             ...    ...   \n",
       "1090   YA08362  202210131  baseline_arm_1      3   \n",
       "1092   YA11278  202301261  baseline_arm_1      4   \n",
       "1093   YA11278  202303301   month_2_arm_1      4   \n",
       "1105   YA17816  202305041  baseline_arm_1      3   \n",
       "1106   YA17816  202307121   month_2_arm_1      3   \n",
       "\n",
       "                                                comment            sub-ses  \\\n",
       "215   moderate motion at bottom of brain, ringing fr...  IR00124-202210141   \n",
       "216          ringing throughout (especially axial view)  IR00124-202212211   \n",
       "217                       very faint ringing in nonnorm  IR00491-202210171   \n",
       "218                                                 NaN  IR00491-202212191   \n",
       "219    some ringing in frontal lobe but not significant  IR01451-202210281   \n",
       "...                                                 ...                ...   \n",
       "1090                  ringing, skull slightly misshapen  YA08362-202210131   \n",
       "1092                                                NaN  YA11278-202301261   \n",
       "1093                                                NaN  YA11278-202303301   \n",
       "1105                                   moderate ringing  YA17816-202305041   \n",
       "1106                                      Minor ringing  YA17816-202307121   \n",
       "\n",
       "     site  motion  group                                               data  \\\n",
       "215    IR    True  train  AMPSCZ-Preproc/subjects/sub-IR00124/ses-202210...   \n",
       "216    IR    True  train  AMPSCZ-Preproc/subjects/sub-IR00124/ses-202212...   \n",
       "217    IR   False  train  AMPSCZ-Preproc/subjects/sub-IR00491/ses-202210...   \n",
       "218    IR   False  train  AMPSCZ-Preproc/subjects/sub-IR00491/ses-202212...   \n",
       "219    IR    True  train  AMPSCZ-Preproc/subjects/sub-IR01451/ses-202210...   \n",
       "...   ...     ...    ...                                                ...   \n",
       "1090   YA    True   test  AMPSCZ-Preproc/subjects/sub-YA08362/ses-202210...   \n",
       "1092   YA   False   test  AMPSCZ-Preproc/subjects/sub-YA11278/ses-202301...   \n",
       "1093   YA   False   test  AMPSCZ-Preproc/subjects/sub-YA11278/ses-202303...   \n",
       "1105   YA    True   test  AMPSCZ-Preproc/subjects/sub-YA17816/ses-202305...   \n",
       "1106   YA    True   test  AMPSCZ-Preproc/subjects/sub-YA17816/ses-202307...   \n",
       "\n",
       "             identifier  \n",
       "215   IR00124_202210141  \n",
       "216   IR00124_202212211  \n",
       "217   IR00491_202210171  \n",
       "218   IR00491_202212191  \n",
       "219   IR01451_202210281  \n",
       "...                 ...  \n",
       "1090  YA08362_202210131  \n",
       "1092  YA11278_202301261  \n",
       "1093  YA11278_202303301  \n",
       "1105  YA17816_202305041  \n",
       "1106  YA17816_202307121  \n",
       "\n",
       "[196 rows x 11 columns]"
      ]
     },
     "execution_count": 108,
     "metadata": {},
     "output_type": "execute_result"
    }
   ],
   "source": [
    "motion_df = pd.read_csv(ampscz_motion_path, index_col=0)\n",
    "ssim_df = pd.read_csv(ampscz_ssim_path, index_col=0)\n",
    "original_scores = pd.read_csv(original_scores_path, index_col=0)\n",
    "original_scores['identifier']=original_scores['sub_id_gs']+'_'+original_scores['ses_id_gs'].astype(str)\n",
    "# original_scores=original_scores.dropna(axis=\"index\",subset=['comment'])\n",
    "original_scores[\"motion\"] = original_scores[\"comment\"].fillna(\"\").apply(\n",
    "    comment_motion_detector\n",
    ") & (original_scores['score'] <= 3)\n",
    "score_df =original_scores[['identifier', 'score', 'group', 'motion', 'comment']]\n",
    "original_scores[original_scores['motion']==True]\n",
    "original_scores"
   ]
  },
  {
   "cell_type": "markdown",
   "metadata": {},
   "source": [
    "## For SSIM"
   ]
  },
  {
   "cell_type": "code",
   "execution_count": 109,
   "metadata": {},
   "outputs": [
    {
     "data": {
      "application/vnd.plotly.v1+json": {
       "config": {
        "plotlyServerURL": "https://plot.ly"
       },
       "data": [
        {
         "alignmentgroup": "True",
         "boxpoints": "all",
         "customdata": [
          [
           "moderate motion at bottom of brain, ringing from frontal lobe into center of brain"
          ],
          [
           "ringing throughout (especially axial view)"
          ],
          [
           "some ringing in frontal lobe but not significant"
          ],
          [
           "QC'd run 2, a lot of motion and ringing throughout"
          ],
          [
           "Some motion and ringing"
          ],
          [
           "Ringing"
          ],
          [
           "ringing"
          ],
          [
           "mild ringing throughout"
          ],
          [
           "Minor ringing"
          ],
          [
           "faint ringing but not significant "
          ],
          [
           "ringing "
          ],
          [
           "mild to moderate ringing"
          ],
          [
           "some ringing throughout frontal lobe, minimal motion"
          ],
          [
           "ringing"
          ],
          [
           "severe ringing"
          ],
          [
           "severe ringing/motion"
          ],
          [
           "persistent ringing throughout"
          ],
          [
           "mild persistent ringing throughout, sagittal section badly aligned in plane but corresponds with horizontal position-wise (frontal lobe comes in before cerebellum)"
          ],
          [
           "moderate ringing and mild ghosting of eyes that clips brain"
          ],
          [
           "fairly significant ringing throughout"
          ],
          [
           "moderate ringing"
          ],
          [
           "mild ringing"
          ],
          [
           "incidental finding on skull, some motion"
          ],
          [
           "severe ringing"
          ],
          [
           "Very noticable ringing artifact"
          ],
          [
           "faint ringing "
          ],
          [
           "ringing"
          ],
          [
           "significant ringing"
          ],
          [
           "a bit grainy, mild ringing"
          ],
          [
           "moderate motion and ringing"
          ],
          [
           "ringing"
          ],
          [
           "grainy, minor ringing"
          ],
          [
           "mild to moderate ringing"
          ],
          [
           "mild ringing"
          ],
          [
           "ringing throughout"
          ],
          [
           "ringing"
          ],
          [
           "Minor ringing"
          ],
          [
           "some ringing"
          ],
          [
           "mild ringing"
          ],
          [
           "some ringing"
          ],
          [
           "ringing"
          ],
          [
           "decent amount of motion, blurriness"
          ],
          [
           "slight ringing"
          ],
          [
           "ringing"
          ],
          [
           "ringing of frontal lobe towards temporal lobe on left hemi"
          ],
          [
           "ringing in frontal lobe"
          ],
          [
           "Notable ringing in all views"
          ],
          [
           "slight ringing"
          ]
         ],
         "fillcolor": "rgba(255,255,255,0)",
         "hoveron": "points",
         "hovertemplate": "<b>%{hovertext}</b><br><br>motion=True<br>pred=%{x}<br>comment=%{customdata[0]}<extra></extra>",
         "hovertext": [
          "IR00124_202210141",
          "IR00124_202212211",
          "IR01451_202210281",
          "IR02677_202303221",
          "IR08198_202305121",
          "IR08615_202303091",
          "IR08615_202305181",
          "IR09281_202304071",
          "IR13141_202308251",
          "MT09245_202302021",
          "MT16074_202304051",
          "MT18272_202307021",
          "OR02023_202210071",
          "OR10406_202306271",
          "OR10684_202305081",
          "OR10684_202308071",
          "PA01787_202211281",
          "PA01909_202211211",
          "PA03218_202305091",
          "PA07319_202303011",
          "PA07319_202305151",
          "PV15122_202309111",
          "SF01552_202304111",
          "SF02156_202306041",
          "SF02156_202308101",
          "SF05231_202301181",
          "SF05231_202304111",
          "SF10545_202302121",
          "SF14052_202308041",
          "SF14963_202306281",
          "SF14963_202309111",
          "YA08106_202307261",
          "YA13632_202304051",
          "YA15624_202305191",
          "YA17472_202303311",
          "YA20849_202308041",
          "YA23568_202308311",
          "IR11959_202305301",
          "IR11959_202308071",
          "MT13133_202303081",
          "MT23247_202308171",
          "PA00650_202209061",
          "PA00650_202304041",
          "SF29950_202308301",
          "YA03473_202209011",
          "YA03473_202211281",
          "YA05293_202212051",
          "YA16945_202303151"
         ],
         "legendgroup": "True",
         "line": {
          "color": "rgba(255,255,255,0)"
         },
         "marker": {
          "color": "#636efa"
         },
         "name": "True",
         "offsetgroup": "True",
         "orientation": "h",
         "pointpos": 0,
         "showlegend": true,
         "type": "box",
         "x": [
          -0.0018933221110971,
          -0.0015222098560484,
          0.0002674098578319,
          0.0281642111088528,
          0.0005099137273028,
          -0.000459014527,
          -0.001124776171742,
          -0.0004316122117248,
          0.003395672112294,
          0.0008380537587971,
          0.0134806644230901,
          -0.0033771535805436,
          -0.0009650326569809,
          -0.0040408293819838,
          0.0175375883510893,
          0.0014311002560668,
          0.0097998136193467,
          0.0005701798964378,
          -0.0015603643049427,
          0.0010548538366528,
          0.0006156287637644,
          0.0029702789404097,
          0.0109311978862173,
          0.0016895931257921,
          0.000017475384786150887,
          0.0258029619831229,
          0.0011887104936593,
          0.1267547549617448,
          -0.0003382794516197,
          0.0011990053395611,
          -0.0003602037940019,
          0.0042928268807933,
          0.005356342500672,
          0.000269762367129,
          0.0102514957286466,
          0.0041778381697927,
          -0.0024484879956085,
          0.0562475469917512,
          -0.002390562398331,
          0.0007984655423142,
          0.0013569935458925,
          0.0018589340626704,
          -0.0024715123007394,
          -0.0026931752606578,
          0.0013679403815874,
          -0.0003523650158976,
          -0.0029419858380813,
          -0.0011763927569115
         ],
         "x0": " ",
         "xaxis": "x",
         "y0": " ",
         "yaxis": "y"
        },
        {
         "alignmentgroup": "True",
         "boxpoints": "all",
         "customdata": [
          [
           "very faint ringing in nonnorm"
          ],
          [
           null
          ],
          [
           "faint ringing but not significant"
          ],
          [
           null
          ],
          [
           "very minor ringing "
          ],
          [
           "No notable issues"
          ],
          [
           "minor ringing "
          ],
          [
           "ghosting of eyes clips brain a bit"
          ],
          [
           "no notable issues"
          ],
          [
           "negligible ringing"
          ],
          [
           "no notable issues"
          ],
          [
           null
          ],
          [
           "No notable issues"
          ],
          [
           "Negligible ringing"
          ],
          [
           null
          ],
          [
           "minor ringing at the top of the brain"
          ],
          [
           "No notable issues"
          ],
          [
           null
          ],
          [
           "no notable issues"
          ],
          [
           null
          ],
          [
           "incidental finding - large cyst in right temporal pole "
          ],
          [
           "no notable issues"
          ],
          [
           "no notable issues"
          ],
          [
           "no notable issues"
          ],
          [
           "ghosting of eyes slightly clips brain"
          ],
          [
           null
          ],
          [
           null
          ],
          [
           "mild ringing"
          ],
          [
           "No notable issues"
          ],
          [
           "minor ringing "
          ],
          [
           "noise"
          ],
          [
           "Almost unnoticable ringing"
          ],
          [
           null
          ],
          [
           null
          ],
          [
           "some tissue atrophy at the top of the brain "
          ],
          [
           "No notable issues"
          ],
          [
           "negligible ringing"
          ],
          [
           null
          ],
          [
           "vertical ghosting of eyes with minor impact to brain"
          ],
          [
           null
          ],
          [
           "No notable issues"
          ],
          [
           "wraparound at most inferior level of axial view but doesn't impact brain in any way"
          ],
          [
           "no notable issues"
          ],
          [
           "a bit grainy, otherwise fine"
          ],
          [
           "No notable issues"
          ],
          [
           "no notable issues"
          ],
          [
           null
          ],
          [
           null
          ],
          [
           "No notable issues"
          ],
          [
           "4"
          ],
          [
           "negligible ringing and ghosting of eyes"
          ],
          [
           "negligible ghosting at eyes"
          ],
          [
           "no notable issues"
          ],
          [
           "no notable issues"
          ],
          [
           "No notable issues"
          ],
          [
           null
          ],
          [
           null
          ],
          [
           "No notable issues"
          ],
          [
           null
          ],
          [
           null
          ],
          [
           "^"
          ],
          [
           "severe braces artifact in frontal lobe"
          ],
          [
           "No notable issues"
          ],
          [
           null
          ],
          [
           null
          ],
          [
           null
          ],
          [
           "No notable issues"
          ],
          [
           "no notable issues "
          ],
          [
           null
          ],
          [
           null
          ],
          [
           "no notable issues "
          ],
          [
           "no notable issues"
          ],
          [
           "no notable issues "
          ],
          [
           "minor ghosting that doesn't affect brain (axial view)"
          ],
          [
           "no notable issues"
          ],
          [
           "negligible ghosting at eyes"
          ],
          [
           null
          ],
          [
           "No notable issues"
          ],
          [
           null
          ],
          [
           null
          ],
          [
           null
          ],
          [
           null
          ],
          [
           "no notable issues"
          ],
          [
           null
          ],
          [
           "ghosting at eyes clips temporal poles"
          ],
          [
           "somewhat enlarged ventricles"
          ],
          [
           "no notable issues"
          ],
          [
           "negligible ringing"
          ],
          [
           "no notable issues"
          ],
          [
           "no notable issues"
          ],
          [
           null
          ],
          [
           null
          ],
          [
           "no notable issues"
          ],
          [
           null
          ],
          [
           "no notable issues "
          ],
          [
           null
          ],
          [
           null
          ],
          [
           "no notable issues"
          ],
          [
           "No issues to note"
          ],
          [
           null
          ],
          [
           null
          ],
          [
           null
          ],
          [
           null
          ],
          [
           null
          ],
          [
           "scan is good, cyst in cerebellum may disrupt volume measurements"
          ],
          [
           null
          ]
         ],
         "fillcolor": "rgba(255,255,255,0)",
         "hoveron": "points",
         "hovertemplate": "<b>%{hovertext}</b><br><br>motion=False<br>pred=%{x}<br>comment=%{customdata[0]}<extra></extra>",
         "hovertext": [
          "IR00491_202210171",
          "IR00491_202212191",
          "IR01451_202301041",
          "IR02516_202301131",
          "IR05485_202302151",
          "IR05485_202304261",
          "IR08198_202302161",
          "IR09281_202306211",
          "IR10222_202306291",
          "IR13141_202306221",
          "IR14628_202306301",
          "IR14628_202309051",
          "IR15177_202308171",
          "IR19595_202308301",
          "MT05499_202212101",
          "MT05499_202303062",
          "MT05499_202303061",
          "MT07364_202212211",
          "MT07364_202303271",
          "MT15919_202304031",
          "MT16018_202303271",
          "MT16018_202305251",
          "MT18250_202308101",
          "MT18272_202309051",
          "MT20156_202307101",
          "OR00697_202208151",
          "OR01380_202209281",
          "OR01380_202211291",
          "OR02023_202212131",
          "OR05031_202302141",
          "OR06829_202303231",
          "OR10406_202304051",
          "PA01260_202210201",
          "PA01260_202301181",
          "PA01909_202302231",
          "PA01921_202303081",
          "PA01921_202305111",
          "PA03218_202301271",
          "PA06165_202304291",
          "PA06165_202302151",
          "PA08957_202304241",
          "PA14126_202306131",
          "PA14348_202306051",
          "PV01062_202307241",
          "PV01606_202304051",
          "PV01606_202305311",
          "PV01701_202306211",
          "PV01828_202305031",
          "PV01828_202307051",
          "PV06062_202305241",
          "PV08171_202306071",
          "PV08171_202307311",
          "SF01552_202304201",
          "SF01552_202306061",
          "SF03788_202212141",
          "SF10462_202301131",
          "SF10462_202304061",
          "SF10545_202305051",
          "SF12054_202302281",
          "SF12054_202305181",
          "SF14052_202304102",
          "SF19868_202307121",
          "YA04611_202209291",
          "YA04611_202211211",
          "YA06869_202211111",
          "YA06869_202301261",
          "YA08106_202305171",
          "YA09994_202301191",
          "YA13632_202302071",
          "YA15624_202302161",
          "YA16301_202302091",
          "YA16301_202304111",
          "YA16606_202303281",
          "YA18404_202308241",
          "YA20433_202307181",
          "YA20449_202307051",
          "YA23168_202308211",
          "YA25683_202308291",
          "MT03607_202212291",
          "MT03607_202303022",
          "MT03607_202303021",
          "MT12595_202303071",
          "MT12595_202305311",
          "MT13133_202305041",
          "MT18844_202308091",
          "MT21233_202306221",
          "MT22493_202307211",
          "OR03049_202307281",
          "OR11644_202306221",
          "OR11644_202308241",
          "PA00272_202209021",
          "PA02303_202301231",
          "PA02303_202307271",
          "PA03224_202302041",
          "PV00880_202302081",
          "PV06517_202308281",
          "PV08193_202307171",
          "SF10428_202301181",
          "SF10428_202304081",
          "YA00926_202211031",
          "YA00926_202301241",
          "YA01508_202206231",
          "YA01508_202208261",
          "YA05293_202209261",
          "YA16945_202305241",
          "YA24934_202308281"
         ],
         "legendgroup": "False",
         "line": {
          "color": "rgba(255,255,255,0)"
         },
         "marker": {
          "color": "#EF553B"
         },
         "name": "False",
         "offsetgroup": "False",
         "orientation": "h",
         "pointpos": 0,
         "showlegend": true,
         "type": "box",
         "x": [
          -0.0024525506508144,
          -0.0011119909928953,
          0.0002911637298659,
          -0.0024146330054119,
          0.0107129744741108,
          0.0007094413264026,
          -0.0026102468573776,
          -0.0006301617373571,
          -0.0032849654802515,
          0.0014613240415497,
          0.0024495552554183,
          -0.000923416272083,
          -0.0017835405927411,
          -0.0050924307010358,
          -0.0037520685684907,
          -0.0009850055538103,
          -0.0017427394843905,
          -0.0005215430978559,
          0.001925890674685,
          -0.0019293646341724,
          0.0012902639019042,
          -0.0024828844016453,
          -0.0022403139878076,
          -0.0025713326790772,
          0.0009435766537071,
          -0.0032231736290782,
          -0.0023205159853318,
          -0.0002055920346374,
          -0.000018621857295085304,
          -0.0009831602956285,
          -0.0015506585214141,
          0.0002669604790677,
          0.0013238022018735,
          -0.0022961735225772,
          0.0008714247560203,
          -0.0028532446819977,
          -0.0023058610592005,
          -0.001634361630596,
          -0.0011712630828615,
          -0.0020056679428121,
          -0.0029011641079375,
          -0.0058039956599636,
          -0.0020564435255213,
          -0.0019262367422588,
          -0.0023014447043,
          -0.0035417630882407,
          -0.0016200563204438,
          0.0019772630456483,
          -0.0012075208014758,
          -0.0046994551536837,
          0.00005844532909455898,
          -0.0001838649140938,
          0.0014297295710021,
          0.002377054269286,
          -0.0024718633668533,
          0.0027169169174665,
          -0.001626823152262,
          0.0008822316156808,
          -0.0029617119987306,
          -0.0035636580544804,
          0.0033928968077756,
          -0.0028421695126084,
          -0.001905908858745,
          0.0011354785337938,
          -0.0042278378647189,
          -0.004056704813892,
          -0.0017227432977671,
          -0.0058049254885567,
          0.0033404374482407,
          -0.0007900323961978,
          0.0012616487128058,
          0.0019257448816088,
          -0.0050324931414996,
          -0.0039329315404892,
          -0.0035986355419375,
          0.0020174232353859,
          -0.0035790666192128,
          0.0017282042298356,
          0.0002458873568225,
          0.0055413922921339,
          0.0055648983150292,
          -0.0001596661090812,
          -0.0015357188927678,
          -0.002176586875095,
          -0.0028990462262671,
          -0.0037530284275881,
          0.0018679033269423,
          0.0067235015574473,
          -0.0031205228087486,
          0.0042152340658069,
          -0.0005011640401432,
          -0.0036149453457277,
          -0.0021836837624458,
          -0.0026126374633296,
          0.00002333540593299962,
          -0.0022908636207754,
          -0.0003302394924241,
          0.000174163444221,
          0.0007521098469903,
          -0.0060275190507708,
          -0.0060334605325239,
          0.0017009988773914,
          -0.0028840685098899,
          -0.0007090477367047,
          -0.0016257817751573,
          0.0033056536975627
         ],
         "x0": " ",
         "xaxis": "x",
         "y0": " ",
         "yaxis": "y"
        }
       ],
       "layout": {
        "boxmode": "group",
        "legend": {
         "title": {
          "text": "motion"
         },
         "tracegroupgap": 0
        },
        "margin": {
         "t": 60
        },
        "template": {
         "data": {
          "bar": [
           {
            "error_x": {
             "color": "#2a3f5f"
            },
            "error_y": {
             "color": "#2a3f5f"
            },
            "marker": {
             "line": {
              "color": "#E5ECF6",
              "width": 0.5
             },
             "pattern": {
              "fillmode": "overlay",
              "size": 10,
              "solidity": 0.2
             }
            },
            "type": "bar"
           }
          ],
          "barpolar": [
           {
            "marker": {
             "line": {
              "color": "#E5ECF6",
              "width": 0.5
             },
             "pattern": {
              "fillmode": "overlay",
              "size": 10,
              "solidity": 0.2
             }
            },
            "type": "barpolar"
           }
          ],
          "carpet": [
           {
            "aaxis": {
             "endlinecolor": "#2a3f5f",
             "gridcolor": "white",
             "linecolor": "white",
             "minorgridcolor": "white",
             "startlinecolor": "#2a3f5f"
            },
            "baxis": {
             "endlinecolor": "#2a3f5f",
             "gridcolor": "white",
             "linecolor": "white",
             "minorgridcolor": "white",
             "startlinecolor": "#2a3f5f"
            },
            "type": "carpet"
           }
          ],
          "choropleth": [
           {
            "colorbar": {
             "outlinewidth": 0,
             "ticks": ""
            },
            "type": "choropleth"
           }
          ],
          "contour": [
           {
            "colorbar": {
             "outlinewidth": 0,
             "ticks": ""
            },
            "colorscale": [
             [
              0,
              "#0d0887"
             ],
             [
              0.1111111111111111,
              "#46039f"
             ],
             [
              0.2222222222222222,
              "#7201a8"
             ],
             [
              0.3333333333333333,
              "#9c179e"
             ],
             [
              0.4444444444444444,
              "#bd3786"
             ],
             [
              0.5555555555555556,
              "#d8576b"
             ],
             [
              0.6666666666666666,
              "#ed7953"
             ],
             [
              0.7777777777777778,
              "#fb9f3a"
             ],
             [
              0.8888888888888888,
              "#fdca26"
             ],
             [
              1,
              "#f0f921"
             ]
            ],
            "type": "contour"
           }
          ],
          "contourcarpet": [
           {
            "colorbar": {
             "outlinewidth": 0,
             "ticks": ""
            },
            "type": "contourcarpet"
           }
          ],
          "heatmap": [
           {
            "colorbar": {
             "outlinewidth": 0,
             "ticks": ""
            },
            "colorscale": [
             [
              0,
              "#0d0887"
             ],
             [
              0.1111111111111111,
              "#46039f"
             ],
             [
              0.2222222222222222,
              "#7201a8"
             ],
             [
              0.3333333333333333,
              "#9c179e"
             ],
             [
              0.4444444444444444,
              "#bd3786"
             ],
             [
              0.5555555555555556,
              "#d8576b"
             ],
             [
              0.6666666666666666,
              "#ed7953"
             ],
             [
              0.7777777777777778,
              "#fb9f3a"
             ],
             [
              0.8888888888888888,
              "#fdca26"
             ],
             [
              1,
              "#f0f921"
             ]
            ],
            "type": "heatmap"
           }
          ],
          "heatmapgl": [
           {
            "colorbar": {
             "outlinewidth": 0,
             "ticks": ""
            },
            "colorscale": [
             [
              0,
              "#0d0887"
             ],
             [
              0.1111111111111111,
              "#46039f"
             ],
             [
              0.2222222222222222,
              "#7201a8"
             ],
             [
              0.3333333333333333,
              "#9c179e"
             ],
             [
              0.4444444444444444,
              "#bd3786"
             ],
             [
              0.5555555555555556,
              "#d8576b"
             ],
             [
              0.6666666666666666,
              "#ed7953"
             ],
             [
              0.7777777777777778,
              "#fb9f3a"
             ],
             [
              0.8888888888888888,
              "#fdca26"
             ],
             [
              1,
              "#f0f921"
             ]
            ],
            "type": "heatmapgl"
           }
          ],
          "histogram": [
           {
            "marker": {
             "pattern": {
              "fillmode": "overlay",
              "size": 10,
              "solidity": 0.2
             }
            },
            "type": "histogram"
           }
          ],
          "histogram2d": [
           {
            "colorbar": {
             "outlinewidth": 0,
             "ticks": ""
            },
            "colorscale": [
             [
              0,
              "#0d0887"
             ],
             [
              0.1111111111111111,
              "#46039f"
             ],
             [
              0.2222222222222222,
              "#7201a8"
             ],
             [
              0.3333333333333333,
              "#9c179e"
             ],
             [
              0.4444444444444444,
              "#bd3786"
             ],
             [
              0.5555555555555556,
              "#d8576b"
             ],
             [
              0.6666666666666666,
              "#ed7953"
             ],
             [
              0.7777777777777778,
              "#fb9f3a"
             ],
             [
              0.8888888888888888,
              "#fdca26"
             ],
             [
              1,
              "#f0f921"
             ]
            ],
            "type": "histogram2d"
           }
          ],
          "histogram2dcontour": [
           {
            "colorbar": {
             "outlinewidth": 0,
             "ticks": ""
            },
            "colorscale": [
             [
              0,
              "#0d0887"
             ],
             [
              0.1111111111111111,
              "#46039f"
             ],
             [
              0.2222222222222222,
              "#7201a8"
             ],
             [
              0.3333333333333333,
              "#9c179e"
             ],
             [
              0.4444444444444444,
              "#bd3786"
             ],
             [
              0.5555555555555556,
              "#d8576b"
             ],
             [
              0.6666666666666666,
              "#ed7953"
             ],
             [
              0.7777777777777778,
              "#fb9f3a"
             ],
             [
              0.8888888888888888,
              "#fdca26"
             ],
             [
              1,
              "#f0f921"
             ]
            ],
            "type": "histogram2dcontour"
           }
          ],
          "mesh3d": [
           {
            "colorbar": {
             "outlinewidth": 0,
             "ticks": ""
            },
            "type": "mesh3d"
           }
          ],
          "parcoords": [
           {
            "line": {
             "colorbar": {
              "outlinewidth": 0,
              "ticks": ""
             }
            },
            "type": "parcoords"
           }
          ],
          "pie": [
           {
            "automargin": true,
            "type": "pie"
           }
          ],
          "scatter": [
           {
            "fillpattern": {
             "fillmode": "overlay",
             "size": 10,
             "solidity": 0.2
            },
            "type": "scatter"
           }
          ],
          "scatter3d": [
           {
            "line": {
             "colorbar": {
              "outlinewidth": 0,
              "ticks": ""
             }
            },
            "marker": {
             "colorbar": {
              "outlinewidth": 0,
              "ticks": ""
             }
            },
            "type": "scatter3d"
           }
          ],
          "scattercarpet": [
           {
            "marker": {
             "colorbar": {
              "outlinewidth": 0,
              "ticks": ""
             }
            },
            "type": "scattercarpet"
           }
          ],
          "scattergeo": [
           {
            "marker": {
             "colorbar": {
              "outlinewidth": 0,
              "ticks": ""
             }
            },
            "type": "scattergeo"
           }
          ],
          "scattergl": [
           {
            "marker": {
             "colorbar": {
              "outlinewidth": 0,
              "ticks": ""
             }
            },
            "type": "scattergl"
           }
          ],
          "scattermapbox": [
           {
            "marker": {
             "colorbar": {
              "outlinewidth": 0,
              "ticks": ""
             }
            },
            "type": "scattermapbox"
           }
          ],
          "scatterpolar": [
           {
            "marker": {
             "colorbar": {
              "outlinewidth": 0,
              "ticks": ""
             }
            },
            "type": "scatterpolar"
           }
          ],
          "scatterpolargl": [
           {
            "marker": {
             "colorbar": {
              "outlinewidth": 0,
              "ticks": ""
             }
            },
            "type": "scatterpolargl"
           }
          ],
          "scatterternary": [
           {
            "marker": {
             "colorbar": {
              "outlinewidth": 0,
              "ticks": ""
             }
            },
            "type": "scatterternary"
           }
          ],
          "surface": [
           {
            "colorbar": {
             "outlinewidth": 0,
             "ticks": ""
            },
            "colorscale": [
             [
              0,
              "#0d0887"
             ],
             [
              0.1111111111111111,
              "#46039f"
             ],
             [
              0.2222222222222222,
              "#7201a8"
             ],
             [
              0.3333333333333333,
              "#9c179e"
             ],
             [
              0.4444444444444444,
              "#bd3786"
             ],
             [
              0.5555555555555556,
              "#d8576b"
             ],
             [
              0.6666666666666666,
              "#ed7953"
             ],
             [
              0.7777777777777778,
              "#fb9f3a"
             ],
             [
              0.8888888888888888,
              "#fdca26"
             ],
             [
              1,
              "#f0f921"
             ]
            ],
            "type": "surface"
           }
          ],
          "table": [
           {
            "cells": {
             "fill": {
              "color": "#EBF0F8"
             },
             "line": {
              "color": "white"
             }
            },
            "header": {
             "fill": {
              "color": "#C8D4E3"
             },
             "line": {
              "color": "white"
             }
            },
            "type": "table"
           }
          ]
         },
         "layout": {
          "annotationdefaults": {
           "arrowcolor": "#2a3f5f",
           "arrowhead": 0,
           "arrowwidth": 1
          },
          "autotypenumbers": "strict",
          "coloraxis": {
           "colorbar": {
            "outlinewidth": 0,
            "ticks": ""
           }
          },
          "colorscale": {
           "diverging": [
            [
             0,
             "#8e0152"
            ],
            [
             0.1,
             "#c51b7d"
            ],
            [
             0.2,
             "#de77ae"
            ],
            [
             0.3,
             "#f1b6da"
            ],
            [
             0.4,
             "#fde0ef"
            ],
            [
             0.5,
             "#f7f7f7"
            ],
            [
             0.6,
             "#e6f5d0"
            ],
            [
             0.7,
             "#b8e186"
            ],
            [
             0.8,
             "#7fbc41"
            ],
            [
             0.9,
             "#4d9221"
            ],
            [
             1,
             "#276419"
            ]
           ],
           "sequential": [
            [
             0,
             "#0d0887"
            ],
            [
             0.1111111111111111,
             "#46039f"
            ],
            [
             0.2222222222222222,
             "#7201a8"
            ],
            [
             0.3333333333333333,
             "#9c179e"
            ],
            [
             0.4444444444444444,
             "#bd3786"
            ],
            [
             0.5555555555555556,
             "#d8576b"
            ],
            [
             0.6666666666666666,
             "#ed7953"
            ],
            [
             0.7777777777777778,
             "#fb9f3a"
            ],
            [
             0.8888888888888888,
             "#fdca26"
            ],
            [
             1,
             "#f0f921"
            ]
           ],
           "sequentialminus": [
            [
             0,
             "#0d0887"
            ],
            [
             0.1111111111111111,
             "#46039f"
            ],
            [
             0.2222222222222222,
             "#7201a8"
            ],
            [
             0.3333333333333333,
             "#9c179e"
            ],
            [
             0.4444444444444444,
             "#bd3786"
            ],
            [
             0.5555555555555556,
             "#d8576b"
            ],
            [
             0.6666666666666666,
             "#ed7953"
            ],
            [
             0.7777777777777778,
             "#fb9f3a"
            ],
            [
             0.8888888888888888,
             "#fdca26"
            ],
            [
             1,
             "#f0f921"
            ]
           ]
          },
          "colorway": [
           "#636efa",
           "#EF553B",
           "#00cc96",
           "#ab63fa",
           "#FFA15A",
           "#19d3f3",
           "#FF6692",
           "#B6E880",
           "#FF97FF",
           "#FECB52"
          ],
          "font": {
           "color": "#2a3f5f"
          },
          "geo": {
           "bgcolor": "white",
           "lakecolor": "white",
           "landcolor": "#E5ECF6",
           "showlakes": true,
           "showland": true,
           "subunitcolor": "white"
          },
          "hoverlabel": {
           "align": "left"
          },
          "hovermode": "closest",
          "mapbox": {
           "style": "light"
          },
          "paper_bgcolor": "white",
          "plot_bgcolor": "#E5ECF6",
          "polar": {
           "angularaxis": {
            "gridcolor": "white",
            "linecolor": "white",
            "ticks": ""
           },
           "bgcolor": "#E5ECF6",
           "radialaxis": {
            "gridcolor": "white",
            "linecolor": "white",
            "ticks": ""
           }
          },
          "scene": {
           "xaxis": {
            "backgroundcolor": "#E5ECF6",
            "gridcolor": "white",
            "gridwidth": 2,
            "linecolor": "white",
            "showbackground": true,
            "ticks": "",
            "zerolinecolor": "white"
           },
           "yaxis": {
            "backgroundcolor": "#E5ECF6",
            "gridcolor": "white",
            "gridwidth": 2,
            "linecolor": "white",
            "showbackground": true,
            "ticks": "",
            "zerolinecolor": "white"
           },
           "zaxis": {
            "backgroundcolor": "#E5ECF6",
            "gridcolor": "white",
            "gridwidth": 2,
            "linecolor": "white",
            "showbackground": true,
            "ticks": "",
            "zerolinecolor": "white"
           }
          },
          "shapedefaults": {
           "line": {
            "color": "#2a3f5f"
           }
          },
          "ternary": {
           "aaxis": {
            "gridcolor": "white",
            "linecolor": "white",
            "ticks": ""
           },
           "baxis": {
            "gridcolor": "white",
            "linecolor": "white",
            "ticks": ""
           },
           "bgcolor": "#E5ECF6",
           "caxis": {
            "gridcolor": "white",
            "linecolor": "white",
            "ticks": ""
           }
          },
          "title": {
           "x": 0.05
          },
          "xaxis": {
           "automargin": true,
           "gridcolor": "white",
           "linecolor": "white",
           "ticks": "",
           "title": {
            "standoff": 15
           },
           "zerolinecolor": "white",
           "zerolinewidth": 2
          },
          "yaxis": {
           "automargin": true,
           "gridcolor": "white",
           "linecolor": "white",
           "ticks": "",
           "title": {
            "standoff": 15
           },
           "zerolinecolor": "white",
           "zerolinewidth": 2
          }
         }
        },
        "xaxis": {
         "anchor": "y",
         "domain": [
          0,
          1
         ],
         "title": {
          "text": "pred"
         }
        },
        "yaxis": {
         "anchor": "x",
         "domain": [
          0,
          1
         ]
        }
       }
      }
     },
     "metadata": {},
     "output_type": "display_data"
    }
   ],
   "source": [
    "ssim_pred = pd.merge(ssim_df, score_df, on=\"identifier\")\n",
    "ssim_pred['label']=ssim_pred['motion']\n",
    "px.strip(ssim_pred, color=\"motion\", x='pred', hover_name=\"identifier\", hover_data=\"comment\")"
   ]
  },
  {
   "cell_type": "code",
   "execution_count": 110,
   "metadata": {},
   "outputs": [
    {
     "data": {
      "text/plain": [
       "(np.float64(0.5324675324675324),\n",
       " <Figure size 600x500 with 1 Axes>,\n",
       " [np.float64(-0.0015902103041298687)])"
      ]
     },
     "execution_count": 110,
     "metadata": {},
     "output_type": "execute_result"
    },
    {
     "data": {
      "image/png": "[encoded data removed]",
      "text/plain": [
       "<Figure size 600x500 with 1 Axes>"
      ]
     },
     "metadata": {},
     "output_type": "display_data"
    }
   ],
   "source": [
    "separation_capacity(ssim_pred)"
   ]
  },
  {
   "cell_type": "code",
   "execution_count": 111,
   "metadata": {},
   "outputs": [
    {
     "data": {
      "text/plain": [
       "(-0.01, 0.02)"
      ]
     },
     "execution_count": 111,
     "metadata": {},
     "output_type": "execute_result"
    },
    {
     "data": {
      "image/png": "[encoded data removed]",
      "text/plain": [
       "<Figure size 640x480 with 1 Axes>"
      ]
     },
     "metadata": {},
     "output_type": "display_data"
    }
   ],
   "source": [
    "sb.boxplot(ssim_pred, y='p              red', x='motion')\n",
    "plt.ylim((-0.01,0.02))"
   ]
  },
  {
   "cell_type": "markdown",
   "metadata": {},
   "source": [
    "## For MOTION"
   ]
  },
  {
   "cell_type": "code",
   "execution_count": 69,
   "metadata": {},
   "outputs": [
    {
     "data": {
      "application/vnd.plotly.v1+json": {
       "config": {
        "plotlyServerURL": "https://plot.ly"
       },
       "data": [
        {
         "alignmentgroup": "True",
         "boxpoints": "all",
         "customdata": [
          [
           3,
           "moderate motion at bottom of brain, ringing from frontal lobe into center of brain"
          ],
          [
           3,
           "ringing throughout (especially axial view)"
          ],
          [
           4,
           "very faint ringing in nonnorm"
          ],
          [
           3,
           "some ringing in frontal lobe but not significant"
          ],
          [
           4,
           "faint ringing but not significant"
          ],
          [
           2,
           "QC'd run 2, a lot of motion and ringing throughout"
          ],
          [
           4,
           "very minor ringing "
          ],
          [
           3,
           "Some motion and ringing"
          ],
          [
           4,
           "minor ringing "
          ],
          [
           3,
           "Ringing"
          ],
          [
           3,
           "ringing"
          ],
          [
           3,
           "mild ringing throughout"
          ],
          [
           3,
           "Minor ringing"
          ],
          [
           4,
           "negligible ringing"
          ],
          [
           4,
           "Negligible ringing"
          ],
          [
           4,
           "minor ringing at the top of the brain"
          ],
          [
           3,
           "faint ringing but not significant "
          ],
          [
           3,
           "ringing "
          ],
          [
           3,
           "mild to moderate ringing"
          ],
          [
           4,
           "mild ringing"
          ],
          [
           3,
           "some ringing throughout frontal lobe, minimal motion"
          ],
          [
           4,
           "minor ringing "
          ],
          [
           3,
           "ringing"
          ],
          [
           4,
           "Almost unnoticable ringing"
          ],
          [
           2,
           "severe ringing"
          ],
          [
           2,
           "severe ringing/motion"
          ],
          [
           3,
           "persistent ringing throughout"
          ],
          [
           3,
           "mild persistent ringing throughout, sagittal section badly aligned in plane but corresponds with horizontal position-wise (frontal lobe comes in before cerebellum)"
          ],
          [
           4,
           "negligible ringing"
          ],
          [
           3,
           "moderate ringing and mild ghosting of eyes that clips brain"
          ],
          [
           3,
           "fairly significant ringing throughout"
          ],
          [
           3,
           "moderate ringing"
          ],
          [
           4,
           "negligible ringing and ghosting of eyes"
          ],
          [
           3,
           "mild ringing"
          ],
          [
           3,
           "incidental finding on skull, some motion"
          ],
          [
           2,
           "severe ringing"
          ],
          [
           2,
           "Very noticable ringing artifact"
          ],
          [
           3,
           "faint ringing "
          ],
          [
           3,
           "ringing"
          ],
          [
           2,
           "significant ringing"
          ],
          [
           3,
           "a bit grainy, mild ringing"
          ],
          [
           3,
           "moderate motion and ringing"
          ],
          [
           3,
           "ringing"
          ],
          [
           3,
           "grainy, minor ringing"
          ],
          [
           3,
           "mild to moderate ringing"
          ],
          [
           3,
           "mild ringing"
          ],
          [
           3,
           "ringing throughout"
          ],
          [
           3,
           "ringing"
          ],
          [
           3,
           "Minor ringing"
          ],
          [
           3,
           "some ringing"
          ],
          [
           3,
           "mild ringing"
          ],
          [
           3,
           "some ringing"
          ],
          [
           3,
           "ringing"
          ],
          [
           4,
           "negligible ringing"
          ],
          [
           2,
           "decent amount of motion, blurriness"
          ],
          [
           3,
           "slight ringing"
          ],
          [
           3,
           "ringing"
          ],
          [
           3,
           "ringing of frontal lobe towards temporal lobe on left hemi"
          ],
          [
           3,
           "ringing in frontal lobe"
          ],
          [
           3,
           "Notable ringing in all views"
          ],
          [
           3,
           "slight ringing"
          ]
         ],
         "fillcolor": "rgba(255,255,255,0)",
         "hoveron": "points",
         "hovertemplate": "<b>%{hovertext}</b><br><br>motion=True<br>pred=%{x}<br>score=%{customdata[0]}<br>comment=%{customdata[1]}<extra></extra>",
         "hovertext": [
          "IR00124_202210141",
          "IR00124_202212211",
          "IR00491_202210171",
          "IR01451_202210281",
          "IR01451_202301041",
          "IR02677_202303221",
          "IR05485_202302151",
          "IR08198_202305121",
          "IR08198_202302161",
          "IR08615_202303091",
          "IR08615_202305181",
          "IR09281_202304071",
          "IR13141_202308251",
          "IR13141_202306221",
          "IR19595_202308301",
          "MT05499_202303062",
          "MT09245_202302021",
          "MT16074_202304051",
          "MT18272_202307021",
          "OR01380_202211291",
          "OR02023_202210071",
          "OR05031_202302141",
          "OR10406_202306271",
          "OR10406_202304051",
          "OR10684_202305081",
          "OR10684_202308071",
          "PA01787_202211281",
          "PA01909_202211211",
          "PA01921_202305111",
          "PA03218_202305091",
          "PA07319_202303011",
          "PA07319_202305151",
          "PV08171_202306071",
          "PV15122_202309111",
          "SF01552_202304111",
          "SF02156_202306041",
          "SF02156_202308101",
          "SF05231_202301181",
          "SF05231_202304111",
          "SF10545_202302121",
          "SF14052_202308041",
          "SF14963_202306281",
          "SF14963_202309111",
          "YA08106_202307261",
          "YA13632_202304051",
          "YA15624_202305191",
          "YA17472_202303311",
          "YA20849_202308041",
          "YA23568_202308311",
          "IR11959_202305301",
          "IR11959_202308071",
          "MT13133_202303081",
          "MT23247_202308171",
          "OR03049_202307281",
          "PA00650_202209061",
          "PA00650_202304041",
          "SF29950_202308301",
          "YA03473_202209011",
          "YA03473_202211281",
          "YA05293_202212051",
          "YA16945_202303151"
         ],
         "legendgroup": "True",
         "line": {
          "color": "rgba(255,255,255,0)"
         },
         "marker": {
          "color": "#636efa"
         },
         "name": "True",
         "offsetgroup": "True",
         "orientation": "h",
         "pointpos": 0,
         "showlegend": true,
         "type": "box",
         "x": [
          0.0464879668685616,
          0.0443346040508808,
          0.0612551025947567,
          0.0753423506651371,
          0.0613381134177318,
          0.0739165205539669,
          0.2307779079913382,
          0.0618198876789308,
          0.0483782116217183,
          0.0387631398324599,
          0.0335889499849865,
          0.0550413681433906,
          0.0714726263414336,
          0.0498753580703124,
          0.0429227604863439,
          0.0476463786854307,
          0.0605831446946358,
          0.1562387113769335,
          0.0621082978426053,
          0.0286933361043691,
          0.0354616663469786,
          0.0590494877287782,
          0.050739114870654,
          0.0553150457523131,
          0.1494660236515923,
          0.0524768528680534,
          0.1633869248227813,
          0.0453271711982082,
          0.0599578208910735,
          0.0533601320831459,
          0.1104489073336348,
          0.0956246485006653,
          0.0438654047092727,
          0.0727480807971806,
          0.0359166418022363,
          0.0410750607201364,
          0.0231724616303434,
          0.0716037615067073,
          0.0237776917763461,
          1.873950931748259,
          0.0309566963249191,
          0.0484964389126187,
          0.0461723232391146,
          0.0492928924519766,
          0.1159329756989831,
          0.0624258104272098,
          0.0646727529072792,
          0.0629231080172965,
          0.0417680254709487,
          0.1999621942759681,
          0.0514888689812874,
          0.0545094651782295,
          0.031891235185683,
          0.0402554246270569,
          0.1292719414733998,
          0.0779963239723697,
          0.0234245539905051,
          0.0475238194912835,
          0.065524896547791,
          0.022933854001462,
          0.0540814125789474
         ],
         "x0": " ",
         "xaxis": "x",
         "y0": " ",
         "yaxis": "y"
        },
        {
         "alignmentgroup": "True",
         "boxpoints": "all",
         "customdata": [
          [
           4,
           null
          ],
          [
           4,
           null
          ],
          [
           4,
           "No notable issues"
          ],
          [
           3,
           "ghosting of eyes clips brain a bit"
          ],
          [
           4,
           "no notable issues"
          ],
          [
           4,
           "no notable issues"
          ],
          [
           4,
           null
          ],
          [
           4,
           "No notable issues"
          ],
          [
           4,
           null
          ],
          [
           4,
           "No notable issues"
          ],
          [
           4,
           null
          ],
          [
           4,
           "no notable issues"
          ],
          [
           4,
           null
          ],
          [
           4,
           "incidental finding - large cyst in right temporal pole "
          ],
          [
           4,
           "no notable issues"
          ],
          [
           4,
           "no notable issues"
          ],
          [
           4,
           "no notable issues"
          ],
          [
           3,
           "ghosting of eyes slightly clips brain"
          ],
          [
           4,
           null
          ],
          [
           4,
           null
          ],
          [
           4,
           "No notable issues"
          ],
          [
           3,
           "noise"
          ],
          [
           3,
           null
          ],
          [
           4,
           null
          ],
          [
           3,
           "some tissue atrophy at the top of the brain "
          ],
          [
           4,
           "No notable issues"
          ],
          [
           4,
           null
          ],
          [
           3,
           "vertical ghosting of eyes with minor impact to brain"
          ],
          [
           4,
           null
          ],
          [
           4,
           "No notable issues"
          ],
          [
           4,
           "wraparound at most inferior level of axial view but doesn't impact brain in any way"
          ],
          [
           4,
           "no notable issues"
          ],
          [
           4,
           "a bit grainy, otherwise fine"
          ],
          [
           4,
           "No notable issues"
          ],
          [
           4,
           "no notable issues"
          ],
          [
           4,
           null
          ],
          [
           4,
           null
          ],
          [
           4,
           "No notable issues"
          ],
          [
           4,
           "4"
          ],
          [
           4,
           "negligible ghosting at eyes"
          ],
          [
           4,
           "no notable issues"
          ],
          [
           4,
           "no notable issues"
          ],
          [
           4,
           "No notable issues"
          ],
          [
           4,
           null
          ],
          [
           4,
           null
          ],
          [
           4,
           "No notable issues"
          ],
          [
           4,
           null
          ],
          [
           4,
           null
          ],
          [
           3,
           "^"
          ],
          [
           1,
           "severe braces artifact in frontal lobe"
          ],
          [
           4,
           "No notable issues"
          ],
          [
           4,
           null
          ],
          [
           4,
           null
          ],
          [
           4,
           null
          ],
          [
           4,
           "No notable issues"
          ],
          [
           4,
           "no notable issues "
          ],
          [
           4,
           null
          ],
          [
           4,
           null
          ],
          [
           4,
           "no notable issues "
          ],
          [
           4,
           "no notable issues"
          ],
          [
           4,
           "no notable issues "
          ],
          [
           4,
           "minor ghosting that doesn't affect brain (axial view)"
          ],
          [
           4,
           "no notable issues"
          ],
          [
           4,
           "negligible ghosting at eyes"
          ],
          [
           4,
           null
          ],
          [
           4,
           "No notable issues"
          ],
          [
           4,
           null
          ],
          [
           4,
           null
          ],
          [
           4,
           null
          ],
          [
           4,
           null
          ],
          [
           4,
           "no notable issues"
          ],
          [
           4,
           null
          ],
          [
           3,
           "ghosting at eyes clips temporal poles"
          ],
          [
           4,
           "somewhat enlarged ventricles"
          ],
          [
           4,
           "no notable issues"
          ],
          [
           4,
           "no notable issues"
          ],
          [
           4,
           "no notable issues"
          ],
          [
           4,
           null
          ],
          [
           4,
           null
          ],
          [
           4,
           "no notable issues"
          ],
          [
           4,
           null
          ],
          [
           4,
           "no notable issues "
          ],
          [
           4,
           null
          ],
          [
           4,
           null
          ],
          [
           4,
           "no notable issues"
          ],
          [
           4,
           "No issues to note"
          ],
          [
           4,
           null
          ],
          [
           4,
           null
          ],
          [
           4,
           null
          ],
          [
           4,
           null
          ],
          [
           4,
           null
          ],
          [
           3,
           "scan is good, cyst in cerebellum may disrupt volume measurements"
          ],
          [
           4,
           null
          ]
         ],
         "fillcolor": "rgba(255,255,255,0)",
         "hoveron": "points",
         "hovertemplate": "<b>%{hovertext}</b><br><br>motion=False<br>pred=%{x}<br>score=%{customdata[0]}<br>comment=%{customdata[1]}<extra></extra>",
         "hovertext": [
          "IR00491_202212191",
          "IR02516_202301131",
          "IR05485_202304261",
          "IR09281_202306211",
          "IR10222_202306291",
          "IR14628_202306301",
          "IR14628_202309051",
          "IR15177_202308171",
          "MT05499_202212101",
          "MT05499_202303061",
          "MT07364_202212211",
          "MT07364_202303271",
          "MT15919_202304031",
          "MT16018_202303271",
          "MT16018_202305251",
          "MT18250_202308101",
          "MT18272_202309051",
          "MT20156_202307101",
          "OR00697_202208151",
          "OR01380_202209281",
          "OR02023_202212131",
          "OR06829_202303231",
          "PA01260_202210201",
          "PA01260_202301181",
          "PA01909_202302231",
          "PA01921_202303081",
          "PA03218_202301271",
          "PA06165_202304291",
          "PA06165_202302151",
          "PA08957_202304241",
          "PA14126_202306131",
          "PA14348_202306051",
          "PV01062_202307241",
          "PV01606_202304051",
          "PV01606_202305311",
          "PV01701_202306211",
          "PV01828_202305031",
          "PV01828_202307051",
          "PV06062_202305241",
          "PV08171_202307311",
          "SF01552_202304201",
          "SF01552_202306061",
          "SF03788_202212141",
          "SF10462_202301131",
          "SF10462_202304061",
          "SF10545_202305051",
          "SF12054_202302281",
          "SF12054_202305181",
          "SF14052_202304102",
          "SF19868_202307121",
          "YA04611_202209291",
          "YA04611_202211211",
          "YA06869_202211111",
          "YA06869_202301261",
          "YA08106_202305171",
          "YA09994_202301191",
          "YA13632_202302071",
          "YA15624_202302161",
          "YA16301_202302091",
          "YA16301_202304111",
          "YA16606_202303281",
          "YA18404_202308241",
          "YA20433_202307181",
          "YA20449_202307051",
          "YA23168_202308211",
          "YA25683_202308291",
          "MT03607_202212291",
          "MT03607_202303022",
          "MT03607_202303021",
          "MT12595_202303071",
          "MT12595_202305311",
          "MT13133_202305041",
          "MT18844_202308091",
          "MT21233_202306221",
          "MT22493_202307211",
          "OR11644_202306221",
          "OR11644_202308241",
          "PA00272_202209021",
          "PA02303_202301231",
          "PA02303_202307271",
          "PA03224_202302041",
          "PV00880_202302081",
          "PV06517_202308281",
          "PV08193_202307171",
          "SF10428_202301181",
          "SF10428_202304081",
          "YA00926_202211031",
          "YA00926_202301241",
          "YA01508_202206231",
          "YA01508_202208261",
          "YA05293_202209261",
          "YA16945_202305241",
          "YA24934_202308281"
         ],
         "legendgroup": "False",
         "line": {
          "color": "rgba(255,255,255,0)"
         },
         "marker": {
          "color": "#EF553B"
         },
         "name": "False",
         "offsetgroup": "False",
         "orientation": "h",
         "pointpos": 0,
         "showlegend": true,
         "type": "box",
         "x": [
          0.0726174293880342,
          0.049666333457804,
          0.043397836466494,
          0.0467713897434825,
          0.0472377203644312,
          0.0505380418088308,
          0.0410063569184684,
          0.0578361187423103,
          0.0511343239998239,
          0.0493413860329616,
          0.0728919599856319,
          0.0608312455593507,
          0.0450372428429938,
          0.0450760678520652,
          0.0337034249809744,
          0.0524162201469659,
          0.0617131478506292,
          0.0359083478250367,
          0.0554283661722662,
          0.0325830333731559,
          0.0455405721513966,
          0.1158284436283701,
          0.0547077967726053,
          0.0525815054107074,
          0.0462726759518428,
          0.0559414769105952,
          0.0279909481835393,
          0.0640549454273771,
          0.0591110010793437,
          0.0488635258674195,
          0.0458401784026476,
          0.0526357479608072,
          0.054463197234404,
          0.0387499176473376,
          0.0361651458317439,
          0.0429541465995249,
          0.0563327241953346,
          0.0435678764628143,
          0.051812810660265,
          0.0411450267794269,
          0.0303981179881425,
          0.0519100494860222,
          0.0459810766994938,
          0.0918701788343764,
          0.0455984805110191,
          0.0461915359326103,
          0.0429850046807592,
          0.03302454554773,
          0.0083587693052148,
          0.0819003860855989,
          0.0497433326806046,
          0.053340348233881,
          0.0300054263125552,
          0.0259485165926604,
          0.0289224750003656,
          0.0576889415414043,
          0.0750960686701142,
          0.044246270894858,
          0.0827947081568488,
          0.0884567951339917,
          0.0487821020694218,
          0.055274443751502,
          0.0333152164767324,
          0.030221227688543,
          0.0437148810227567,
          0.136235017718851,
          0.0776050522033193,
          0.0322749973725249,
          0.0473482562334707,
          0.0456637458966518,
          0.0309878189313203,
          0.0583108730934795,
          0.0576133662168588,
          0.0401650293711171,
          0.0523882660772827,
          0.0425638746441263,
          0.0454254534596401,
          0.0524278945168695,
          0.0226405885041006,
          0.0270082528481442,
          0.0357235040222311,
          0.0369849135722656,
          0.0342490093534132,
          0.0577375350033143,
          0.028984986536279,
          0.0565575419383957,
          0.0525635570625442,
          0.0321567644611449,
          0.0762267071097265,
          0.0763794257629597,
          0.0742652237959645,
          0.0695747681561582,
          0.0401097264797855
         ],
         "x0": " ",
         "xaxis": "x",
         "y0": " ",
         "yaxis": "y"
        }
       ],
       "layout": {
        "boxmode": "group",
        "legend": {
         "title": {
          "text": "motion"
         },
         "tracegroupgap": 0
        },
        "margin": {
         "t": 60
        },
        "template": {
         "data": {
          "bar": [
           {
            "error_x": {
             "color": "#2a3f5f"
            },
            "error_y": {
             "color": "#2a3f5f"
            },
            "marker": {
             "line": {
              "color": "#E5ECF6",
              "width": 0.5
             },
             "pattern": {
              "fillmode": "overlay",
              "size": 10,
              "solidity": 0.2
             }
            },
            "type": "bar"
           }
          ],
          "barpolar": [
           {
            "marker": {
             "line": {
              "color": "#E5ECF6",
              "width": 0.5
             },
             "pattern": {
              "fillmode": "overlay",
              "size": 10,
              "solidity": 0.2
             }
            },
            "type": "barpolar"
           }
          ],
          "carpet": [
           {
            "aaxis": {
             "endlinecolor": "#2a3f5f",
             "gridcolor": "white",
             "linecolor": "white",
             "minorgridcolor": "white",
             "startlinecolor": "#2a3f5f"
            },
            "baxis": {
             "endlinecolor": "#2a3f5f",
             "gridcolor": "white",
             "linecolor": "white",
             "minorgridcolor": "white",
             "startlinecolor": "#2a3f5f"
            },
            "type": "carpet"
           }
          ],
          "choropleth": [
           {
            "colorbar": {
             "outlinewidth": 0,
             "ticks": ""
            },
            "type": "choropleth"
           }
          ],
          "contour": [
           {
            "colorbar": {
             "outlinewidth": 0,
             "ticks": ""
            },
            "colorscale": [
             [
              0,
              "#0d0887"
             ],
             [
              0.1111111111111111,
              "#46039f"
             ],
             [
              0.2222222222222222,
              "#7201a8"
             ],
             [
              0.3333333333333333,
              "#9c179e"
             ],
             [
              0.4444444444444444,
              "#bd3786"
             ],
             [
              0.5555555555555556,
              "#d8576b"
             ],
             [
              0.6666666666666666,
              "#ed7953"
             ],
             [
              0.7777777777777778,
              "#fb9f3a"
             ],
             [
              0.8888888888888888,
              "#fdca26"
             ],
             [
              1,
              "#f0f921"
             ]
            ],
            "type": "contour"
           }
          ],
          "contourcarpet": [
           {
            "colorbar": {
             "outlinewidth": 0,
             "ticks": ""
            },
            "type": "contourcarpet"
           }
          ],
          "heatmap": [
           {
            "colorbar": {
             "outlinewidth": 0,
             "ticks": ""
            },
            "colorscale": [
             [
              0,
              "#0d0887"
             ],
             [
              0.1111111111111111,
              "#46039f"
             ],
             [
              0.2222222222222222,
              "#7201a8"
             ],
             [
              0.3333333333333333,
              "#9c179e"
             ],
             [
              0.4444444444444444,
              "#bd3786"
             ],
             [
              0.5555555555555556,
              "#d8576b"
             ],
             [
              0.6666666666666666,
              "#ed7953"
             ],
             [
              0.7777777777777778,
              "#fb9f3a"
             ],
             [
              0.8888888888888888,
              "#fdca26"
             ],
             [
              1,
              "#f0f921"
             ]
            ],
            "type": "heatmap"
           }
          ],
          "heatmapgl": [
           {
            "colorbar": {
             "outlinewidth": 0,
             "ticks": ""
            },
            "colorscale": [
             [
              0,
              "#0d0887"
             ],
             [
              0.1111111111111111,
              "#46039f"
             ],
             [
              0.2222222222222222,
              "#7201a8"
             ],
             [
              0.3333333333333333,
              "#9c179e"
             ],
             [
              0.4444444444444444,
              "#bd3786"
             ],
             [
              0.5555555555555556,
              "#d8576b"
             ],
             [
              0.6666666666666666,
              "#ed7953"
             ],
             [
              0.7777777777777778,
              "#fb9f3a"
             ],
             [
              0.8888888888888888,
              "#fdca26"
             ],
             [
              1,
              "#f0f921"
             ]
            ],
            "type": "heatmapgl"
           }
          ],
          "histogram": [
           {
            "marker": {
             "pattern": {
              "fillmode": "overlay",
              "size": 10,
              "solidity": 0.2
             }
            },
            "type": "histogram"
           }
          ],
          "histogram2d": [
           {
            "colorbar": {
             "outlinewidth": 0,
             "ticks": ""
            },
            "colorscale": [
             [
              0,
              "#0d0887"
             ],
             [
              0.1111111111111111,
              "#46039f"
             ],
             [
              0.2222222222222222,
              "#7201a8"
             ],
             [
              0.3333333333333333,
              "#9c179e"
             ],
             [
              0.4444444444444444,
              "#bd3786"
             ],
             [
              0.5555555555555556,
              "#d8576b"
             ],
             [
              0.6666666666666666,
              "#ed7953"
             ],
             [
              0.7777777777777778,
              "#fb9f3a"
             ],
             [
              0.8888888888888888,
              "#fdca26"
             ],
             [
              1,
              "#f0f921"
             ]
            ],
            "type": "histogram2d"
           }
          ],
          "histogram2dcontour": [
           {
            "colorbar": {
             "outlinewidth": 0,
             "ticks": ""
            },
            "colorscale": [
             [
              0,
              "#0d0887"
             ],
             [
              0.1111111111111111,
              "#46039f"
             ],
             [
              0.2222222222222222,
              "#7201a8"
             ],
             [
              0.3333333333333333,
              "#9c179e"
             ],
             [
              0.4444444444444444,
              "#bd3786"
             ],
             [
              0.5555555555555556,
              "#d8576b"
             ],
             [
              0.6666666666666666,
              "#ed7953"
             ],
             [
              0.7777777777777778,
              "#fb9f3a"
             ],
             [
              0.8888888888888888,
              "#fdca26"
             ],
             [
              1,
              "#f0f921"
             ]
            ],
            "type": "histogram2dcontour"
           }
          ],
          "mesh3d": [
           {
            "colorbar": {
             "outlinewidth": 0,
             "ticks": ""
            },
            "type": "mesh3d"
           }
          ],
          "parcoords": [
           {
            "line": {
             "colorbar": {
              "outlinewidth": 0,
              "ticks": ""
             }
            },
            "type": "parcoords"
           }
          ],
          "pie": [
           {
            "automargin": true,
            "type": "pie"
           }
          ],
          "scatter": [
           {
            "fillpattern": {
             "fillmode": "overlay",
             "size": 10,
             "solidity": 0.2
            },
            "type": "scatter"
           }
          ],
          "scatter3d": [
           {
            "line": {
             "colorbar": {
              "outlinewidth": 0,
              "ticks": ""
             }
            },
            "marker": {
             "colorbar": {
              "outlinewidth": 0,
              "ticks": ""
             }
            },
            "type": "scatter3d"
           }
          ],
          "scattercarpet": [
           {
            "marker": {
             "colorbar": {
              "outlinewidth": 0,
              "ticks": ""
             }
            },
            "type": "scattercarpet"
           }
          ],
          "scattergeo": [
           {
            "marker": {
             "colorbar": {
              "outlinewidth": 0,
              "ticks": ""
             }
            },
            "type": "scattergeo"
           }
          ],
          "scattergl": [
           {
            "marker": {
             "colorbar": {
              "outlinewidth": 0,
              "ticks": ""
             }
            },
            "type": "scattergl"
           }
          ],
          "scattermapbox": [
           {
            "marker": {
             "colorbar": {
              "outlinewidth": 0,
              "ticks": ""
             }
            },
            "type": "scattermapbox"
           }
          ],
          "scatterpolar": [
           {
            "marker": {
             "colorbar": {
              "outlinewidth": 0,
              "ticks": ""
             }
            },
            "type": "scatterpolar"
           }
          ],
          "scatterpolargl": [
           {
            "marker": {
             "colorbar": {
              "outlinewidth": 0,
              "ticks": ""
             }
            },
            "type": "scatterpolargl"
           }
          ],
          "scatterternary": [
           {
            "marker": {
             "colorbar": {
              "outlinewidth": 0,
              "ticks": ""
             }
            },
            "type": "scatterternary"
           }
          ],
          "surface": [
           {
            "colorbar": {
             "outlinewidth": 0,
             "ticks": ""
            },
            "colorscale": [
             [
              0,
              "#0d0887"
             ],
             [
              0.1111111111111111,
              "#46039f"
             ],
             [
              0.2222222222222222,
              "#7201a8"
             ],
             [
              0.3333333333333333,
              "#9c179e"
             ],
             [
              0.4444444444444444,
              "#bd3786"
             ],
             [
              0.5555555555555556,
              "#d8576b"
             ],
             [
              0.6666666666666666,
              "#ed7953"
             ],
             [
              0.7777777777777778,
              "#fb9f3a"
             ],
             [
              0.8888888888888888,
              "#fdca26"
             ],
             [
              1,
              "#f0f921"
             ]
            ],
            "type": "surface"
           }
          ],
          "table": [
           {
            "cells": {
             "fill": {
              "color": "#EBF0F8"
             },
             "line": {
              "color": "white"
             }
            },
            "header": {
             "fill": {
              "color": "#C8D4E3"
             },
             "line": {
              "color": "white"
             }
            },
            "type": "table"
           }
          ]
         },
         "layout": {
          "annotationdefaults": {
           "arrowcolor": "#2a3f5f",
           "arrowhead": 0,
           "arrowwidth": 1
          },
          "autotypenumbers": "strict",
          "coloraxis": {
           "colorbar": {
            "outlinewidth": 0,
            "ticks": ""
           }
          },
          "colorscale": {
           "diverging": [
            [
             0,
             "#8e0152"
            ],
            [
             0.1,
             "#c51b7d"
            ],
            [
             0.2,
             "#de77ae"
            ],
            [
             0.3,
             "#f1b6da"
            ],
            [
             0.4,
             "#fde0ef"
            ],
            [
             0.5,
             "#f7f7f7"
            ],
            [
             0.6,
             "#e6f5d0"
            ],
            [
             0.7,
             "#b8e186"
            ],
            [
             0.8,
             "#7fbc41"
            ],
            [
             0.9,
             "#4d9221"
            ],
            [
             1,
             "#276419"
            ]
           ],
           "sequential": [
            [
             0,
             "#0d0887"
            ],
            [
             0.1111111111111111,
             "#46039f"
            ],
            [
             0.2222222222222222,
             "#7201a8"
            ],
            [
             0.3333333333333333,
             "#9c179e"
            ],
            [
             0.4444444444444444,
             "#bd3786"
            ],
            [
             0.5555555555555556,
             "#d8576b"
            ],
            [
             0.6666666666666666,
             "#ed7953"
            ],
            [
             0.7777777777777778,
             "#fb9f3a"
            ],
            [
             0.8888888888888888,
             "#fdca26"
            ],
            [
             1,
             "#f0f921"
            ]
           ],
           "sequentialminus": [
            [
             0,
             "#0d0887"
            ],
            [
             0.1111111111111111,
             "#46039f"
            ],
            [
             0.2222222222222222,
             "#7201a8"
            ],
            [
             0.3333333333333333,
             "#9c179e"
            ],
            [
             0.4444444444444444,
             "#bd3786"
            ],
            [
             0.5555555555555556,
             "#d8576b"
            ],
            [
             0.6666666666666666,
             "#ed7953"
            ],
            [
             0.7777777777777778,
             "#fb9f3a"
            ],
            [
             0.8888888888888888,
             "#fdca26"
            ],
            [
             1,
             "#f0f921"
            ]
           ]
          },
          "colorway": [
           "#636efa",
           "#EF553B",
           "#00cc96",
           "#ab63fa",
           "#FFA15A",
           "#19d3f3",
           "#FF6692",
           "#B6E880",
           "#FF97FF",
           "#FECB52"
          ],
          "font": {
           "color": "#2a3f5f"
          },
          "geo": {
           "bgcolor": "white",
           "lakecolor": "white",
           "landcolor": "#E5ECF6",
           "showlakes": true,
           "showland": true,
           "subunitcolor": "white"
          },
          "hoverlabel": {
           "align": "left"
          },
          "hovermode": "closest",
          "mapbox": {
           "style": "light"
          },
          "paper_bgcolor": "white",
          "plot_bgcolor": "#E5ECF6",
          "polar": {
           "angularaxis": {
            "gridcolor": "white",
            "linecolor": "white",
            "ticks": ""
           },
           "bgcolor": "#E5ECF6",
           "radialaxis": {
            "gridcolor": "white",
            "linecolor": "white",
            "ticks": ""
           }
          },
          "scene": {
           "xaxis": {
            "backgroundcolor": "#E5ECF6",
            "gridcolor": "white",
            "gridwidth": 2,
            "linecolor": "white",
            "showbackground": true,
            "ticks": "",
            "zerolinecolor": "white"
           },
           "yaxis": {
            "backgroundcolor": "#E5ECF6",
            "gridcolor": "white",
            "gridwidth": 2,
            "linecolor": "white",
            "showbackground": true,
            "ticks": "",
            "zerolinecolor": "white"
           },
           "zaxis": {
            "backgroundcolor": "#E5ECF6",
            "gridcolor": "white",
            "gridwidth": 2,
            "linecolor": "white",
            "showbackground": true,
            "ticks": "",
            "zerolinecolor": "white"
           }
          },
          "shapedefaults": {
           "line": {
            "color": "#2a3f5f"
           }
          },
          "ternary": {
           "aaxis": {
            "gridcolor": "white",
            "linecolor": "white",
            "ticks": ""
           },
           "baxis": {
            "gridcolor": "white",
            "linecolor": "white",
            "ticks": ""
           },
           "bgcolor": "#E5ECF6",
           "caxis": {
            "gridcolor": "white",
            "linecolor": "white",
            "ticks": ""
           }
          },
          "title": {
           "x": 0.05
          },
          "xaxis": {
           "automargin": true,
           "gridcolor": "white",
           "linecolor": "white",
           "ticks": "",
           "title": {
            "standoff": 15
           },
           "zerolinecolor": "white",
           "zerolinewidth": 2
          },
          "yaxis": {
           "automargin": true,
           "gridcolor": "white",
           "linecolor": "white",
           "ticks": "",
           "title": {
            "standoff": 15
           },
           "zerolinecolor": "white",
           "zerolinewidth": 2
          }
         }
        },
        "xaxis": {
         "anchor": "y",
         "domain": [
          0,
          1
         ],
         "title": {
          "text": "pred"
         }
        },
        "yaxis": {
         "anchor": "x",
         "domain": [
          0,
          1
         ]
        }
       }
      }
     },
     "metadata": {},
     "output_type": "display_data"
    }
   ],
   "source": [
    "motion_pred = pd.merge(motion_df, score_df, on=\"identifier\")\n",
    "motion_pred['label']=motion_pred['score'].astype(str)\n",
    "px.strip(motion_pred, color=\"motion\", x='pred', hover_name=\"identifier\", hover_data=[\"score\",\"comment\"])"
   ]
  },
  {
   "cell_type": "code",
   "execution_count": 76,
   "metadata": {},
   "outputs": [
    {
     "data": {
      "application/vnd.plotly.v1+json": {
       "config": {
        "plotlyServerURL": "https://plot.ly"
       },
       "data": [
        {
         "alignmentgroup": "True",
         "boxpoints": "all",
         "customdata": [
          [
           3,
           "moderate motion at bottom of brain, ringing from frontal lobe into center of brain"
          ],
          [
           3,
           "ringing throughout (especially axial view)"
          ],
          [
           4,
           "very faint ringing in nonnorm"
          ],
          [
           4,
           null
          ],
          [
           3,
           "some ringing in frontal lobe but not significant"
          ],
          [
           4,
           "faint ringing but not significant"
          ],
          [
           4,
           null
          ],
          [
           2,
           "QC'd run 2, a lot of motion and ringing throughout"
          ],
          [
           4,
           "No notable issues"
          ],
          [
           3,
           "Some motion and ringing"
          ],
          [
           4,
           "minor ringing "
          ],
          [
           3,
           "Ringing"
          ],
          [
           3,
           "ringing"
          ],
          [
           3,
           "mild ringing throughout"
          ],
          [
           3,
           "ghosting of eyes clips brain a bit"
          ],
          [
           4,
           "no notable issues"
          ],
          [
           3,
           "Minor ringing"
          ],
          [
           4,
           "negligible ringing"
          ],
          [
           4,
           "no notable issues"
          ],
          [
           4,
           null
          ],
          [
           4,
           "No notable issues"
          ],
          [
           4,
           "Negligible ringing"
          ],
          [
           4,
           null
          ],
          [
           4,
           "minor ringing at the top of the brain"
          ],
          [
           4,
           "No notable issues"
          ],
          [
           4,
           null
          ],
          [
           4,
           "no notable issues"
          ],
          [
           3,
           "faint ringing but not significant "
          ],
          [
           4,
           null
          ],
          [
           4,
           "incidental finding - large cyst in right temporal pole "
          ],
          [
           4,
           "no notable issues"
          ],
          [
           3,
           "ringing "
          ],
          [
           4,
           "no notable issues"
          ],
          [
           3,
           "mild to moderate ringing"
          ],
          [
           4,
           "no notable issues"
          ],
          [
           3,
           "ghosting of eyes slightly clips brain"
          ],
          [
           4,
           null
          ],
          [
           4,
           null
          ],
          [
           4,
           "mild ringing"
          ],
          [
           3,
           "some ringing throughout frontal lobe, minimal motion"
          ],
          [
           4,
           "No notable issues"
          ],
          [
           4,
           "minor ringing "
          ],
          [
           3,
           "noise"
          ],
          [
           3,
           "ringing"
          ],
          [
           4,
           "Almost unnoticable ringing"
          ],
          [
           2,
           "severe ringing"
          ],
          [
           2,
           "severe ringing/motion"
          ],
          [
           3,
           null
          ],
          [
           4,
           null
          ],
          [
           3,
           "persistent ringing throughout"
          ],
          [
           3,
           "mild persistent ringing throughout, sagittal section badly aligned in plane but corresponds with horizontal position-wise (frontal lobe comes in before cerebellum)"
          ],
          [
           3,
           "some tissue atrophy at the top of the brain "
          ],
          [
           4,
           "No notable issues"
          ],
          [
           4,
           "negligible ringing"
          ],
          [
           3,
           "moderate ringing and mild ghosting of eyes that clips brain"
          ],
          [
           4,
           null
          ],
          [
           3,
           "vertical ghosting of eyes with minor impact to brain"
          ],
          [
           4,
           null
          ],
          [
           3,
           "fairly significant ringing throughout"
          ],
          [
           3,
           "moderate ringing"
          ],
          [
           4,
           "No notable issues"
          ],
          [
           4,
           "wraparound at most inferior level of axial view but doesn't impact brain in any way"
          ],
          [
           4,
           "no notable issues"
          ],
          [
           4,
           "a bit grainy, otherwise fine"
          ],
          [
           4,
           "No notable issues"
          ],
          [
           4,
           "no notable issues"
          ],
          [
           4,
           null
          ],
          [
           4,
           null
          ],
          [
           4,
           "No notable issues"
          ],
          [
           4,
           "4"
          ],
          [
           4,
           "negligible ringing and ghosting of eyes"
          ],
          [
           4,
           "negligible ghosting at eyes"
          ],
          [
           3,
           "mild ringing"
          ],
          [
           3,
           "incidental finding on skull, some motion"
          ],
          [
           4,
           "no notable issues"
          ],
          [
           4,
           "no notable issues"
          ],
          [
           2,
           "severe ringing"
          ],
          [
           2,
           "Very noticable ringing artifact"
          ],
          [
           4,
           "No notable issues"
          ],
          [
           3,
           "faint ringing "
          ],
          [
           3,
           "ringing"
          ],
          [
           4,
           null
          ],
          [
           4,
           null
          ],
          [
           4,
           "No notable issues"
          ],
          [
           4,
           null
          ],
          [
           4,
           null
          ],
          [
           3,
           "^"
          ],
          [
           3,
           "a bit grainy, mild ringing"
          ],
          [
           3,
           "moderate motion and ringing"
          ],
          [
           3,
           "ringing"
          ],
          [
           1,
           "severe braces artifact in frontal lobe"
          ],
          [
           4,
           "No notable issues"
          ],
          [
           4,
           null
          ],
          [
           4,
           null
          ],
          [
           4,
           null
          ],
          [
           3,
           "grainy, minor ringing"
          ],
          [
           4,
           "No notable issues"
          ],
          [
           4,
           "no notable issues "
          ],
          [
           3,
           "mild to moderate ringing"
          ],
          [
           4,
           null
          ],
          [
           3,
           "mild ringing"
          ],
          [
           4,
           null
          ],
          [
           4,
           "no notable issues "
          ],
          [
           4,
           "no notable issues"
          ],
          [
           4,
           "no notable issues "
          ],
          [
           3,
           "ringing throughout"
          ],
          [
           4,
           "minor ghosting that doesn't affect brain (axial view)"
          ],
          [
           4,
           "no notable issues"
          ],
          [
           4,
           "negligible ghosting at eyes"
          ],
          [
           3,
           "ringing"
          ],
          [
           4,
           null
          ],
          [
           3,
           "Minor ringing"
          ],
          [
           4,
           "No notable issues"
          ],
          [
           3,
           "some ringing"
          ],
          [
           3,
           "mild ringing"
          ],
          [
           4,
           null
          ],
          [
           4,
           null
          ],
          [
           4,
           null
          ],
          [
           4,
           null
          ],
          [
           4,
           "no notable issues"
          ],
          [
           3,
           "some ringing"
          ],
          [
           4,
           null
          ],
          [
           3,
           "ghosting at eyes clips temporal poles"
          ],
          [
           4,
           "somewhat enlarged ventricles"
          ],
          [
           4,
           "no notable issues"
          ],
          [
           3,
           "ringing"
          ],
          [
           4,
           "negligible ringing"
          ],
          [
           4,
           "no notable issues"
          ],
          [
           4,
           "no notable issues"
          ],
          [
           4,
           null
          ],
          [
           2,
           "decent amount of motion, blurriness"
          ],
          [
           3,
           "slight ringing"
          ],
          [
           4,
           null
          ],
          [
           4,
           "no notable issues"
          ],
          [
           4,
           null
          ],
          [
           4,
           "no notable issues "
          ],
          [
           4,
           null
          ],
          [
           4,
           null
          ],
          [
           4,
           "no notable issues"
          ],
          [
           4,
           "No issues to note"
          ],
          [
           3,
           "ringing"
          ],
          [
           4,
           null
          ],
          [
           4,
           null
          ],
          [
           4,
           null
          ],
          [
           4,
           null
          ],
          [
           3,
           "ringing of frontal lobe towards temporal lobe on left hemi"
          ],
          [
           3,
           "ringing in frontal lobe"
          ],
          [
           3,
           "Notable ringing in all views"
          ],
          [
           4,
           null
          ],
          [
           3,
           "slight ringing"
          ],
          [
           3,
           "scan is good, cyst in cerebellum may disrupt volume measurements"
          ],
          [
           4,
           null
          ]
         ],
         "fillcolor": "rgba(255,255,255,0)",
         "hoveron": "points",
         "hovertemplate": "<b>%{hovertext}</b><br><br>out_of_conf=False<br>pred=%{x}<br>score=%{customdata[0]}<br>comment=%{customdata[1]}<extra></extra>",
         "hovertext": [
          "IR00124_202210141",
          "IR00124_202212211",
          "IR00491_202210171",
          "IR00491_202212191",
          "IR01451_202210281",
          "IR01451_202301041",
          "IR02516_202301131",
          "IR02677_202303221",
          "IR05485_202304261",
          "IR08198_202305121",
          "IR08198_202302161",
          "IR08615_202303091",
          "IR08615_202305181",
          "IR09281_202304071",
          "IR09281_202306211",
          "IR10222_202306291",
          "IR13141_202308251",
          "IR13141_202306221",
          "IR14628_202306301",
          "IR14628_202309051",
          "IR15177_202308171",
          "IR19595_202308301",
          "MT05499_202212101",
          "MT05499_202303062",
          "MT05499_202303061",
          "MT07364_202212211",
          "MT07364_202303271",
          "MT09245_202302021",
          "MT15919_202304031",
          "MT16018_202303271",
          "MT16018_202305251",
          "MT16074_202304051",
          "MT18250_202308101",
          "MT18272_202307021",
          "MT18272_202309051",
          "MT20156_202307101",
          "OR00697_202208151",
          "OR01380_202209281",
          "OR01380_202211291",
          "OR02023_202210071",
          "OR02023_202212131",
          "OR05031_202302141",
          "OR06829_202303231",
          "OR10406_202306271",
          "OR10406_202304051",
          "OR10684_202305081",
          "OR10684_202308071",
          "PA01260_202210201",
          "PA01260_202301181",
          "PA01787_202211281",
          "PA01909_202211211",
          "PA01909_202302231",
          "PA01921_202303081",
          "PA01921_202305111",
          "PA03218_202305091",
          "PA03218_202301271",
          "PA06165_202304291",
          "PA06165_202302151",
          "PA07319_202303011",
          "PA07319_202305151",
          "PA08957_202304241",
          "PA14126_202306131",
          "PA14348_202306051",
          "PV01062_202307241",
          "PV01606_202304051",
          "PV01606_202305311",
          "PV01701_202306211",
          "PV01828_202305031",
          "PV01828_202307051",
          "PV06062_202305241",
          "PV08171_202306071",
          "PV08171_202307311",
          "PV15122_202309111",
          "SF01552_202304111",
          "SF01552_202304201",
          "SF01552_202306061",
          "SF02156_202306041",
          "SF02156_202308101",
          "SF03788_202212141",
          "SF05231_202301181",
          "SF05231_202304111",
          "SF10462_202301131",
          "SF10462_202304061",
          "SF10545_202305051",
          "SF12054_202302281",
          "SF12054_202305181",
          "SF14052_202304102",
          "SF14052_202308041",
          "SF14963_202306281",
          "SF14963_202309111",
          "SF19868_202307121",
          "YA04611_202209291",
          "YA04611_202211211",
          "YA06869_202211111",
          "YA06869_202301261",
          "YA08106_202307261",
          "YA08106_202305171",
          "YA09994_202301191",
          "YA13632_202304051",
          "YA13632_202302071",
          "YA15624_202305191",
          "YA15624_202302161",
          "YA16301_202302091",
          "YA16301_202304111",
          "YA16606_202303281",
          "YA17472_202303311",
          "YA18404_202308241",
          "YA20433_202307181",
          "YA20449_202307051",
          "YA20849_202308041",
          "YA23168_202308211",
          "YA23568_202308311",
          "YA25683_202308291",
          "IR11959_202305301",
          "IR11959_202308071",
          "MT03607_202212291",
          "MT03607_202303022",
          "MT03607_202303021",
          "MT12595_202303071",
          "MT12595_202305311",
          "MT13133_202303081",
          "MT13133_202305041",
          "MT18844_202308091",
          "MT21233_202306221",
          "MT22493_202307211",
          "MT23247_202308171",
          "OR03049_202307281",
          "OR11644_202306221",
          "OR11644_202308241",
          "PA00272_202209021",
          "PA00650_202209061",
          "PA00650_202304041",
          "PA02303_202301231",
          "PA02303_202307271",
          "PA03224_202302041",
          "PV00880_202302081",
          "PV06517_202308281",
          "PV08193_202307171",
          "SF10428_202301181",
          "SF10428_202304081",
          "SF29950_202308301",
          "YA00926_202211031",
          "YA00926_202301241",
          "YA01508_202206231",
          "YA01508_202208261",
          "YA03473_202209011",
          "YA03473_202211281",
          "YA05293_202212051",
          "YA05293_202209261",
          "YA16945_202303151",
          "YA16945_202305241",
          "YA24934_202308281"
         ],
         "legendgroup": "False",
         "line": {
          "color": "rgba(255,255,255,0)"
         },
         "marker": {
          "color": "#636efa"
         },
         "name": "False",
         "offsetgroup": "False",
         "orientation": "h",
         "pointpos": 0,
         "showlegend": true,
         "type": "box",
         "x": [
          0.0464879668685616,
          0.0443346040508808,
          0.0612551025947567,
          0.0726174293880342,
          0.0753423506651371,
          0.0613381134177318,
          0.049666333457804,
          0.0739165205539669,
          0.043397836466494,
          0.0618198876789308,
          0.0483782116217183,
          0.0387631398324599,
          0.0335889499849865,
          0.0550413681433906,
          0.0467713897434825,
          0.0472377203644312,
          0.0714726263414336,
          0.0498753580703124,
          0.0505380418088308,
          0.0410063569184684,
          0.0578361187423103,
          0.0429227604863439,
          0.0511343239998239,
          0.0476463786854307,
          0.0493413860329616,
          0.0728919599856319,
          0.0608312455593507,
          0.0605831446946358,
          0.0450372428429938,
          0.0450760678520652,
          0.0337034249809744,
          0.1562387113769335,
          0.0524162201469659,
          0.0621082978426053,
          0.0617131478506292,
          0.0359083478250367,
          0.0554283661722662,
          0.0325830333731559,
          0.0286933361043691,
          0.0354616663469786,
          0.0455405721513966,
          0.0590494877287782,
          0.1158284436283701,
          0.050739114870654,
          0.0553150457523131,
          0.1494660236515923,
          0.0524768528680534,
          0.0547077967726053,
          0.0525815054107074,
          0.1633869248227813,
          0.0453271711982082,
          0.0462726759518428,
          0.0559414769105952,
          0.0599578208910735,
          0.0533601320831459,
          0.0279909481835393,
          0.0640549454273771,
          0.0591110010793437,
          0.1104489073336348,
          0.0956246485006653,
          0.0488635258674195,
          0.0458401784026476,
          0.0526357479608072,
          0.054463197234404,
          0.0387499176473376,
          0.0361651458317439,
          0.0429541465995249,
          0.0563327241953346,
          0.0435678764628143,
          0.051812810660265,
          0.0438654047092727,
          0.0411450267794269,
          0.0727480807971806,
          0.0359166418022363,
          0.0303981179881425,
          0.0519100494860222,
          0.0410750607201364,
          0.0231724616303434,
          0.0459810766994938,
          0.0716037615067073,
          0.0237776917763461,
          0.0918701788343764,
          0.0455984805110191,
          0.0461915359326103,
          0.0429850046807592,
          0.03302454554773,
          0.0083587693052148,
          0.0309566963249191,
          0.0484964389126187,
          0.0461723232391146,
          0.0819003860855989,
          0.0497433326806046,
          0.053340348233881,
          0.0300054263125552,
          0.0259485165926604,
          0.0492928924519766,
          0.0289224750003656,
          0.0576889415414043,
          0.1159329756989831,
          0.0750960686701142,
          0.0624258104272098,
          0.044246270894858,
          0.0827947081568488,
          0.0884567951339917,
          0.0487821020694218,
          0.0646727529072792,
          0.055274443751502,
          0.0333152164767324,
          0.030221227688543,
          0.0629231080172965,
          0.0437148810227567,
          0.0417680254709487,
          0.136235017718851,
          0.1999621942759681,
          0.0514888689812874,
          0.0776050522033193,
          0.0322749973725249,
          0.0473482562334707,
          0.0456637458966518,
          0.0309878189313203,
          0.0545094651782295,
          0.0583108730934795,
          0.0576133662168588,
          0.0401650293711171,
          0.0523882660772827,
          0.031891235185683,
          0.0402554246270569,
          0.0425638746441263,
          0.0454254534596401,
          0.0524278945168695,
          0.1292719414733998,
          0.0779963239723697,
          0.0226405885041006,
          0.0270082528481442,
          0.0357235040222311,
          0.0369849135722656,
          0.0342490093534132,
          0.0577375350033143,
          0.028984986536279,
          0.0565575419383957,
          0.0234245539905051,
          0.0525635570625442,
          0.0321567644611449,
          0.0762267071097265,
          0.0763794257629597,
          0.0475238194912835,
          0.065524896547791,
          0.022933854001462,
          0.0742652237959645,
          0.0540814125789474,
          0.0695747681561582,
          0.0401097264797855
         ],
         "x0": " ",
         "xaxis": "x",
         "y0": " ",
         "yaxis": "y"
        },
        {
         "alignmentgroup": "True",
         "boxpoints": "all",
         "customdata": [
          [
           4,
           "very minor ringing "
          ],
          [
           2,
           "significant ringing"
          ]
         ],
         "fillcolor": "rgba(255,255,255,0)",
         "hoveron": "points",
         "hovertemplate": "<b>%{hovertext}</b><br><br>out_of_conf=True<br>pred=%{x}<br>score=%{customdata[0]}<br>comment=%{customdata[1]}<extra></extra>",
         "hovertext": [
          "IR05485_202302151",
          "SF10545_202302121"
         ],
         "legendgroup": "True",
         "line": {
          "color": "rgba(255,255,255,0)"
         },
         "marker": {
          "color": "#EF553B"
         },
         "name": "True",
         "offsetgroup": "True",
         "orientation": "h",
         "pointpos": 0,
         "showlegend": true,
         "type": "box",
         "x": [
          0.2307779079913382,
          1.873950931748259
         ],
         "x0": " ",
         "xaxis": "x",
         "y0": " ",
         "yaxis": "y"
        }
       ],
       "layout": {
        "boxmode": "group",
        "legend": {
         "title": {
          "text": "out_of_conf"
         },
         "tracegroupgap": 0
        },
        "margin": {
         "t": 60
        },
        "template": {
         "data": {
          "bar": [
           {
            "error_x": {
             "color": "#2a3f5f"
            },
            "error_y": {
             "color": "#2a3f5f"
            },
            "marker": {
             "line": {
              "color": "#E5ECF6",
              "width": 0.5
             },
             "pattern": {
              "fillmode": "overlay",
              "size": 10,
              "solidity": 0.2
             }
            },
            "type": "bar"
           }
          ],
          "barpolar": [
           {
            "marker": {
             "line": {
              "color": "#E5ECF6",
              "width": 0.5
             },
             "pattern": {
              "fillmode": "overlay",
              "size": 10,
              "solidity": 0.2
             }
            },
            "type": "barpolar"
           }
          ],
          "carpet": [
           {
            "aaxis": {
             "endlinecolor": "#2a3f5f",
             "gridcolor": "white",
             "linecolor": "white",
             "minorgridcolor": "white",
             "startlinecolor": "#2a3f5f"
            },
            "baxis": {
             "endlinecolor": "#2a3f5f",
             "gridcolor": "white",
             "linecolor": "white",
             "minorgridcolor": "white",
             "startlinecolor": "#2a3f5f"
            },
            "type": "carpet"
           }
          ],
          "choropleth": [
           {
            "colorbar": {
             "outlinewidth": 0,
             "ticks": ""
            },
            "type": "choropleth"
           }
          ],
          "contour": [
           {
            "colorbar": {
             "outlinewidth": 0,
             "ticks": ""
            },
            "colorscale": [
             [
              0,
              "#0d0887"
             ],
             [
              0.1111111111111111,
              "#46039f"
             ],
             [
              0.2222222222222222,
              "#7201a8"
             ],
             [
              0.3333333333333333,
              "#9c179e"
             ],
             [
              0.4444444444444444,
              "#bd3786"
             ],
             [
              0.5555555555555556,
              "#d8576b"
             ],
             [
              0.6666666666666666,
              "#ed7953"
             ],
             [
              0.7777777777777778,
              "#fb9f3a"
             ],
             [
              0.8888888888888888,
              "#fdca26"
             ],
             [
              1,
              "#f0f921"
             ]
            ],
            "type": "contour"
           }
          ],
          "contourcarpet": [
           {
            "colorbar": {
             "outlinewidth": 0,
             "ticks": ""
            },
            "type": "contourcarpet"
           }
          ],
          "heatmap": [
           {
            "colorbar": {
             "outlinewidth": 0,
             "ticks": ""
            },
            "colorscale": [
             [
              0,
              "#0d0887"
             ],
             [
              0.1111111111111111,
              "#46039f"
             ],
             [
              0.2222222222222222,
              "#7201a8"
             ],
             [
              0.3333333333333333,
              "#9c179e"
             ],
             [
              0.4444444444444444,
              "#bd3786"
             ],
             [
              0.5555555555555556,
              "#d8576b"
             ],
             [
              0.6666666666666666,
              "#ed7953"
             ],
             [
              0.7777777777777778,
              "#fb9f3a"
             ],
             [
              0.8888888888888888,
              "#fdca26"
             ],
             [
              1,
              "#f0f921"
             ]
            ],
            "type": "heatmap"
           }
          ],
          "heatmapgl": [
           {
            "colorbar": {
             "outlinewidth": 0,
             "ticks": ""
            },
            "colorscale": [
             [
              0,
              "#0d0887"
             ],
             [
              0.1111111111111111,
              "#46039f"
             ],
             [
              0.2222222222222222,
              "#7201a8"
             ],
             [
              0.3333333333333333,
              "#9c179e"
             ],
             [
              0.4444444444444444,
              "#bd3786"
             ],
             [
              0.5555555555555556,
              "#d8576b"
             ],
             [
              0.6666666666666666,
              "#ed7953"
             ],
             [
              0.7777777777777778,
              "#fb9f3a"
             ],
             [
              0.8888888888888888,
              "#fdca26"
             ],
             [
              1,
              "#f0f921"
             ]
            ],
            "type": "heatmapgl"
           }
          ],
          "histogram": [
           {
            "marker": {
             "pattern": {
              "fillmode": "overlay",
              "size": 10,
              "solidity": 0.2
             }
            },
            "type": "histogram"
           }
          ],
          "histogram2d": [
           {
            "colorbar": {
             "outlinewidth": 0,
             "ticks": ""
            },
            "colorscale": [
             [
              0,
              "#0d0887"
             ],
             [
              0.1111111111111111,
              "#46039f"
             ],
             [
              0.2222222222222222,
              "#7201a8"
             ],
             [
              0.3333333333333333,
              "#9c179e"
             ],
             [
              0.4444444444444444,
              "#bd3786"
             ],
             [
              0.5555555555555556,
              "#d8576b"
             ],
             [
              0.6666666666666666,
              "#ed7953"
             ],
             [
              0.7777777777777778,
              "#fb9f3a"
             ],
             [
              0.8888888888888888,
              "#fdca26"
             ],
             [
              1,
              "#f0f921"
             ]
            ],
            "type": "histogram2d"
           }
          ],
          "histogram2dcontour": [
           {
            "colorbar": {
             "outlinewidth": 0,
             "ticks": ""
            },
            "colorscale": [
             [
              0,
              "#0d0887"
             ],
             [
              0.1111111111111111,
              "#46039f"
             ],
             [
              0.2222222222222222,
              "#7201a8"
             ],
             [
              0.3333333333333333,
              "#9c179e"
             ],
             [
              0.4444444444444444,
              "#bd3786"
             ],
             [
              0.5555555555555556,
              "#d8576b"
             ],
             [
              0.6666666666666666,
              "#ed7953"
             ],
             [
              0.7777777777777778,
              "#fb9f3a"
             ],
             [
              0.8888888888888888,
              "#fdca26"
             ],
             [
              1,
              "#f0f921"
             ]
            ],
            "type": "histogram2dcontour"
           }
          ],
          "mesh3d": [
           {
            "colorbar": {
             "outlinewidth": 0,
             "ticks": ""
            },
            "type": "mesh3d"
           }
          ],
          "parcoords": [
           {
            "line": {
             "colorbar": {
              "outlinewidth": 0,
              "ticks": ""
             }
            },
            "type": "parcoords"
           }
          ],
          "pie": [
           {
            "automargin": true,
            "type": "pie"
           }
          ],
          "scatter": [
           {
            "fillpattern": {
             "fillmode": "overlay",
             "size": 10,
             "solidity": 0.2
            },
            "type": "scatter"
           }
          ],
          "scatter3d": [
           {
            "line": {
             "colorbar": {
              "outlinewidth": 0,
              "ticks": ""
             }
            },
            "marker": {
             "colorbar": {
              "outlinewidth": 0,
              "ticks": ""
             }
            },
            "type": "scatter3d"
           }
          ],
          "scattercarpet": [
           {
            "marker": {
             "colorbar": {
              "outlinewidth": 0,
              "ticks": ""
             }
            },
            "type": "scattercarpet"
           }
          ],
          "scattergeo": [
           {
            "marker": {
             "colorbar": {
              "outlinewidth": 0,
              "ticks": ""
             }
            },
            "type": "scattergeo"
           }
          ],
          "scattergl": [
           {
            "marker": {
             "colorbar": {
              "outlinewidth": 0,
              "ticks": ""
             }
            },
            "type": "scattergl"
           }
          ],
          "scattermapbox": [
           {
            "marker": {
             "colorbar": {
              "outlinewidth": 0,
              "ticks": ""
             }
            },
            "type": "scattermapbox"
           }
          ],
          "scatterpolar": [
           {
            "marker": {
             "colorbar": {
              "outlinewidth": 0,
              "ticks": ""
             }
            },
            "type": "scatterpolar"
           }
          ],
          "scatterpolargl": [
           {
            "marker": {
             "colorbar": {
              "outlinewidth": 0,
              "ticks": ""
             }
            },
            "type": "scatterpolargl"
           }
          ],
          "scatterternary": [
           {
            "marker": {
             "colorbar": {
              "outlinewidth": 0,
              "ticks": ""
             }
            },
            "type": "scatterternary"
           }
          ],
          "surface": [
           {
            "colorbar": {
             "outlinewidth": 0,
             "ticks": ""
            },
            "colorscale": [
             [
              0,
              "#0d0887"
             ],
             [
              0.1111111111111111,
              "#46039f"
             ],
             [
              0.2222222222222222,
              "#7201a8"
             ],
             [
              0.3333333333333333,
              "#9c179e"
             ],
             [
              0.4444444444444444,
              "#bd3786"
             ],
             [
              0.5555555555555556,
              "#d8576b"
             ],
             [
              0.6666666666666666,
              "#ed7953"
             ],
             [
              0.7777777777777778,
              "#fb9f3a"
             ],
             [
              0.8888888888888888,
              "#fdca26"
             ],
             [
              1,
              "#f0f921"
             ]
            ],
            "type": "surface"
           }
          ],
          "table": [
           {
            "cells": {
             "fill": {
              "color": "#EBF0F8"
             },
             "line": {
              "color": "white"
             }
            },
            "header": {
             "fill": {
              "color": "#C8D4E3"
             },
             "line": {
              "color": "white"
             }
            },
            "type": "table"
           }
          ]
         },
         "layout": {
          "annotationdefaults": {
           "arrowcolor": "#2a3f5f",
           "arrowhead": 0,
           "arrowwidth": 1
          },
          "autotypenumbers": "strict",
          "coloraxis": {
           "colorbar": {
            "outlinewidth": 0,
            "ticks": ""
           }
          },
          "colorscale": {
           "diverging": [
            [
             0,
             "#8e0152"
            ],
            [
             0.1,
             "#c51b7d"
            ],
            [
             0.2,
             "#de77ae"
            ],
            [
             0.3,
             "#f1b6da"
            ],
            [
             0.4,
             "#fde0ef"
            ],
            [
             0.5,
             "#f7f7f7"
            ],
            [
             0.6,
             "#e6f5d0"
            ],
            [
             0.7,
             "#b8e186"
            ],
            [
             0.8,
             "#7fbc41"
            ],
            [
             0.9,
             "#4d9221"
            ],
            [
             1,
             "#276419"
            ]
           ],
           "sequential": [
            [
             0,
             "#0d0887"
            ],
            [
             0.1111111111111111,
             "#46039f"
            ],
            [
             0.2222222222222222,
             "#7201a8"
            ],
            [
             0.3333333333333333,
             "#9c179e"
            ],
            [
             0.4444444444444444,
             "#bd3786"
            ],
            [
             0.5555555555555556,
             "#d8576b"
            ],
            [
             0.6666666666666666,
             "#ed7953"
            ],
            [
             0.7777777777777778,
             "#fb9f3a"
            ],
            [
             0.8888888888888888,
             "#fdca26"
            ],
            [
             1,
             "#f0f921"
            ]
           ],
           "sequentialminus": [
            [
             0,
             "#0d0887"
            ],
            [
             0.1111111111111111,
             "#46039f"
            ],
            [
             0.2222222222222222,
             "#7201a8"
            ],
            [
             0.3333333333333333,
             "#9c179e"
            ],
            [
             0.4444444444444444,
             "#bd3786"
            ],
            [
             0.5555555555555556,
             "#d8576b"
            ],
            [
             0.6666666666666666,
             "#ed7953"
            ],
            [
             0.7777777777777778,
             "#fb9f3a"
            ],
            [
             0.8888888888888888,
             "#fdca26"
            ],
            [
             1,
             "#f0f921"
            ]
           ]
          },
          "colorway": [
           "#636efa",
           "#EF553B",
           "#00cc96",
           "#ab63fa",
           "#FFA15A",
           "#19d3f3",
           "#FF6692",
           "#B6E880",
           "#FF97FF",
           "#FECB52"
          ],
          "font": {
           "color": "#2a3f5f"
          },
          "geo": {
           "bgcolor": "white",
           "lakecolor": "white",
           "landcolor": "#E5ECF6",
           "showlakes": true,
           "showland": true,
           "subunitcolor": "white"
          },
          "hoverlabel": {
           "align": "left"
          },
          "hovermode": "closest",
          "mapbox": {
           "style": "light"
          },
          "paper_bgcolor": "white",
          "plot_bgcolor": "#E5ECF6",
          "polar": {
           "angularaxis": {
            "gridcolor": "white",
            "linecolor": "white",
            "ticks": ""
           },
           "bgcolor": "#E5ECF6",
           "radialaxis": {
            "gridcolor": "white",
            "linecolor": "white",
            "ticks": ""
           }
          },
          "scene": {
           "xaxis": {
            "backgroundcolor": "#E5ECF6",
            "gridcolor": "white",
            "gridwidth": 2,
            "linecolor": "white",
            "showbackground": true,
            "ticks": "",
            "zerolinecolor": "white"
           },
           "yaxis": {
            "backgroundcolor": "#E5ECF6",
            "gridcolor": "white",
            "gridwidth": 2,
            "linecolor": "white",
            "showbackground": true,
            "ticks": "",
            "zerolinecolor": "white"
           },
           "zaxis": {
            "backgroundcolor": "#E5ECF6",
            "gridcolor": "white",
            "gridwidth": 2,
            "linecolor": "white",
            "showbackground": true,
            "ticks": "",
            "zerolinecolor": "white"
           }
          },
          "shapedefaults": {
           "line": {
            "color": "#2a3f5f"
           }
          },
          "ternary": {
           "aaxis": {
            "gridcolor": "white",
            "linecolor": "white",
            "ticks": ""
           },
           "baxis": {
            "gridcolor": "white",
            "linecolor": "white",
            "ticks": ""
           },
           "bgcolor": "#E5ECF6",
           "caxis": {
            "gridcolor": "white",
            "linecolor": "white",
            "ticks": ""
           }
          },
          "title": {
           "x": 0.05
          },
          "xaxis": {
           "automargin": true,
           "gridcolor": "white",
           "linecolor": "white",
           "ticks": "",
           "title": {
            "standoff": 15
           },
           "zerolinecolor": "white",
           "zerolinewidth": 2
          },
          "yaxis": {
           "automargin": true,
           "gridcolor": "white",
           "linecolor": "white",
           "ticks": "",
           "title": {
            "standoff": 15
           },
           "zerolinecolor": "white",
           "zerolinewidth": 2
          }
         }
        },
        "xaxis": {
         "anchor": "y",
         "domain": [
          0,
          1
         ],
         "title": {
          "text": "pred"
         }
        },
        "yaxis": {
         "anchor": "x",
         "domain": [
          0,
          1
         ]
        }
       }
      }
     },
     "metadata": {},
     "output_type": "display_data"
    }
   ],
   "source": [
    "std = motion_pred['pred'].std()\n",
    "conf_inf = motion_pred['pred'].mean()-1*std\n",
    "conf_sup = motion_pred['pred'].mean()+1*std\n",
    "conf_inf, conf_sup          \n",
    "motion_pred['out_of_conf'] = motion_pred[\"pred\"]>= conf_sup\n",
    "px.strip(motion_pred, color=\"out_of_conf\", x='pred', hover_name=\"identifier\", hover_data=[\"score\",\"comment\"])"
   ]
  }
 ],
 "metadata": {
  "kernelspec": {
   "display_name": "bowl",
   "language": "python",
   "name": "python3"
  },
  "language_info": {
   "codemirror_mode": {
    "name": "ipython",
    "version": 3
   },
   "file_extension": ".py",
   "mimetype": "text/x-python",
   "name": "python",
   "nbconvert_exporter": "python",
   "pygments_lexer": "ipython3",
   "version": "3.11.9"
  }
 },
 "nbformat": 4,
 "nbformat_minor": 2
}
