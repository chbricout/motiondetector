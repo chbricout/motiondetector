{
 "cells": [
  {
   "cell_type": "code",
   "execution_count": 1,
   "metadata": {},
   "outputs": [],
   "source": [
    "import os\n",
    "\n",
    "os.chdir(\"..\")\n",
    "%load_ext autoreload"
   ]
  },
  {
   "cell_type": "code",
   "execution_count": 2,
   "metadata": {},
   "outputs": [],
   "source": [
    "import matplotlib.pyplot as plt\n",
    "import comet_ml\n",
    "import numpy as np\n",
    "import seaborn as sb\n",
    "import pandas as pd\n",
    "from src.transforms.motion_transform import Preprocess, FinalCrop\n",
    "from src.network.SFCN import SFCNModel\n",
    "from src.network.base_net import BaselineModel\n",
    "import torch\n",
    "from src.utils.mcdropout import evaluate_mcdropout\n",
    "\n",
    "api = comet_ml.api.API(\n",
    "    api_key=\"WmA69YL7Rj2AfKqwILBjhJM3k\",\n",
    ")"
   ]
  },
  {
   "cell_type": "code",
   "execution_count": 3,
   "metadata": {},
   "outputs": [],
   "source": [
    "motion_volume = FinalCrop()(\n",
    "    Preprocess()(\n",
    "        {\n",
    "            \"data\": r\"C:\\Users\\Brico\\Code\\Master\\mrart\\data_test\\ampscz\\motion\\sub-IR11959_ses-202305301_rec-norm_run-2_space-MNI152NLin2009cSym_res-1x1x1_T1w.nii.gz\"\n",
    "        }\n",
    "    )\n",
    ")\n",
    "motion_volume[\"data\"] = motion_volume[\"data\"].unsqueeze(0)\n",
    "\n",
    "clear_volume = FinalCrop()(\n",
    "    Preprocess()(\n",
    "        {\n",
    "            \"data\": r\"C:\\Users\\Brico\\Code\\Master\\mrart\\data_test\\ampscz\\clear\\sub-MT03607_ses-202212291_rec-norm_run-1_space-MNI152NLin2009cSym_res-1x1x1_T1w.nii.gz\"\n",
    "        }\n",
    "    )\n",
    ")\n",
    "clear_volume[\"data\"] = clear_volume[\"data\"].unsqueeze(0)"
   ]
  },
  {
   "cell_type": "code",
   "execution_count": 5,
   "metadata": {},
   "outputs": [],
   "source": [
    "def enable_dropout(model):\n",
    "    \"\"\"Function to enable the dropout layers during test-time\"\"\"\n",
    "    for m in model.modules():\n",
    "        if m.__class__.__name__.startswith(\"Dropout\"):\n",
    "            m.train()\n",
    "\n",
    "\n",
    "def get_mcdropout_list(model: torch.nn.Module, volume, n_samples=10):\n",
    "    model.eval()\n",
    "    enable_dropout(model)\n",
    "    res = []\n",
    "    for _ in range(n_samples):\n",
    "        _, pred = model(volume)\n",
    "        res.append(pred.sigmoid())\n",
    "    return torch.Tensor(res)"
   ]
  },
  {
   "cell_type": "code",
   "execution_count": 6,
   "metadata": {},
   "outputs": [
    {
     "name": "stdout",
     "output_type": "stream",
     "text": [
      "Found 36 experiments\n",
      "BASE\n",
      "SERes\n",
      "Conv5_FC3\n",
      "SFCN\n",
      "RES\n",
      "ViT\n",
      "BASE-3\n",
      "BASE-1\n",
      "BASE-2\n",
      "BASE-5\n",
      "BASE-4\n",
      "RES-3\n",
      "RES-1\n",
      "RES-2\n",
      "RES-5\n",
      "RES-4\n",
      "Conv5_FC3-1\n",
      "Conv5_FC3-4\n",
      "Conv5_FC3-3\n",
      "Conv5_FC3-2\n",
      "SFCN-3\n",
      "SFCN-4\n",
      "SFCN-1\n",
      "SERes-1\n",
      "SFCN-2\n",
      "SERes-3\n",
      "SERes-2\n",
      "Conv5_FC3-5\n",
      "SERes-5\n",
      "SFCN-5\n",
      "SERes-4\n",
      "ViT-2\n",
      "ViT-5\n",
      "ViT-3\n",
      "ViT-4\n",
      "ViT-1\n"
     ]
    }
   ],
   "source": [
    "ampscz_exps = api.get(\"mrart\", \"baseline-ampscz\")\n",
    "print(f\"Found {len(ampscz_exps)} experiments\")\n",
    "for exp in ampscz_exps:\n",
    "    print(exp.get_name())"
   ]
  },
  {
   "cell_type": "code",
   "execution_count": 14,
   "metadata": {},
   "outputs": [
    {
     "name": "stderr",
     "output_type": "stream",
     "text": [
      "\u001b[1;38;5;39mCOMET INFO:\u001b[0m Downloading experiment model 'BASE' ...\n",
      "\u001b[1;38;5;39mCOMET INFO:\u001b[0m Unzipping model to 'BASE' ...\n",
      "\u001b[1;38;5;39mCOMET INFO:\u001b[0m done!\n"
     ]
    },
    {
     "name": "stdout",
     "output_type": "stream",
     "text": [
      "76800\n"
     ]
    },
    {
     "data": {
      "text/plain": [
       "<All keys matched successfully>"
      ]
     },
     "execution_count": 14,
     "metadata": {},
     "output_type": "execute_result"
    }
   ],
   "source": [
    "api.get(\"mrart\", \"estimate-motion\", \"pretraining-BASE-3\").download_model(\n",
    "    \"BASE\", output_path=\"BASE\"\n",
    ")\n",
    "net = BaselineModel((1, 160, 192, 160), output_class=50)\n",
    "net.load_state_dict(torch.load(f\"BASE/model-data/comet-torch-model.pth\"))"
   ]
  },
  {
   "cell_type": "code",
   "execution_count": null,
   "metadata": {},
   "outputs": [],
   "source": [
    "torch.jit.script(my_trained_model).save(my_zip_file_name)"
   ]
  },
  {
   "cell_type": "code",
   "execution_count": 7,
   "metadata": {},
   "outputs": [
    {
     "ename": "NameError",
     "evalue": "name 'net' is not defined",
     "output_type": "error",
     "traceback": [
      "\u001b[1;31m---------------------------------------------------------------------------\u001b[0m",
      "\u001b[1;31mNameError\u001b[0m                                 Traceback (most recent call last)",
      "Cell \u001b[1;32mIn[7], line 1\u001b[0m\n\u001b[1;32m----> 1\u001b[0m preds \u001b[38;5;241m=\u001b[39m get_mcdropout_list(\u001b[43mnet\u001b[49m, motion_volume[\u001b[38;5;124m'\u001b[39m\u001b[38;5;124mdata\u001b[39m\u001b[38;5;124m'\u001b[39m])\n\u001b[0;32m      2\u001b[0m preds, preds\u001b[38;5;241m.\u001b[39mmean(),preds\u001b[38;5;241m.\u001b[39mstd()\n",
      "\u001b[1;31mNameError\u001b[0m: name 'net' is not defined"
     ]
    }
   ],
   "source": [
    "preds = get_mcdropout_list(net, motion_volume[\"data\"])\n",
    "preds, preds.mean(), preds.std()"
   ]
  },
  {
   "cell_type": "code",
   "execution_count": 15,
   "metadata": {},
   "outputs": [
    {
     "data": {
      "text/plain": [
       "tensor([4, 6])"
      ]
     },
     "execution_count": 15,
     "metadata": {},
     "output_type": "execute_result"
    }
   ],
   "source": [
    "preds.round().int().bincount()"
   ]
  },
  {
   "cell_type": "code",
   "execution_count": 48,
   "metadata": {},
   "outputs": [
    {
     "data": {
      "text/plain": [
       "(tensor([0.5388, 0.4671, 0.1978, 0.1168, 0.4177, 0.4036, 0.3181, 0.3963, 0.6650,\n",
       "         0.2894]),\n",
       " tensor(0.3810),\n",
       " tensor(0.1601))"
      ]
     },
     "execution_count": 48,
     "metadata": {},
     "output_type": "execute_result"
    }
   ],
   "source": [
    "preds = get_mcdropout_list(net, clear_volume[\"data\"])\n",
    "preds, preds.mean(), preds.std()"
   ]
  },
  {
   "cell_type": "code",
   "execution_count": 8,
   "metadata": {},
   "outputs": [],
   "source": [
    "clear_volume[\"label\"] = torch.IntTensor([0])\n",
    "motion_volume[\"label\"] = torch.IntTensor([1])"
   ]
  },
  {
   "cell_type": "code",
   "execution_count": 17,
   "metadata": {},
   "outputs": [
    {
     "name": "stderr",
     "output_type": "stream",
     "text": [
      "100%|██████████| 10/10 [00:01<00:00,  8.44it/s]"
     ]
    },
    {
     "name": "stdout",
     "output_type": "stream",
     "text": [
      "metatensor([[ 4.,  5.,  7.,  4., 10.,  4.,  4.,  5.,  4.,  5.],\n",
      "        [ 6.,  4.,  7.,  7., 10.,  7., 11.,  7.,  9.,  6.]]) [0, 1]\n",
      "metatensor([5.2000, 7.4000]) metatensor([1.9322, 2.0656]) [[0 0 0 0 5 3 0 1 0 0 1 0]\n",
      " [0 0 0 0 1 0 2 4 0 1 1 1]]\n"
     ]
    },
    {
     "name": "stderr",
     "output_type": "stream",
     "text": [
      "\n"
     ]
    },
    {
     "data": {
      "text/html": [
       "<div>\n",
       "<style scoped>\n",
       "    .dataframe tbody tr th:only-of-type {\n",
       "        vertical-align: middle;\n",
       "    }\n",
       "\n",
       "    .dataframe tbody tr th {\n",
       "        vertical-align: top;\n",
       "    }\n",
       "\n",
       "    .dataframe thead th {\n",
       "        text-align: right;\n",
       "    }\n",
       "</style>\n",
       "<table border=\"1\" class=\"dataframe\">\n",
       "  <thead>\n",
       "    <tr style=\"text-align: right;\">\n",
       "      <th></th>\n",
       "      <th>mean</th>\n",
       "      <th>std</th>\n",
       "      <th>labels</th>\n",
       "      <th>count</th>\n",
       "    </tr>\n",
       "  </thead>\n",
       "  <tbody>\n",
       "    <tr>\n",
       "      <th>0</th>\n",
       "      <td>5.2</td>\n",
       "      <td>1.932184</td>\n",
       "      <td>0.0</td>\n",
       "      <td>[0, 0, 0, 0, 5, 3, 0, 1, 0, 0, 1, 0]</td>\n",
       "    </tr>\n",
       "    <tr>\n",
       "      <th>1</th>\n",
       "      <td>7.4</td>\n",
       "      <td>2.065591</td>\n",
       "      <td>1.0</td>\n",
       "      <td>[0, 0, 0, 0, 1, 0, 2, 4, 0, 1, 1, 1]</td>\n",
       "    </tr>\n",
       "  </tbody>\n",
       "</table>\n",
       "</div>"
      ],
      "text/plain": [
       "   mean       std  labels                                 count\n",
       "0   5.2  1.932184     0.0  [0, 0, 0, 0, 5, 3, 0, 1, 0, 0, 1, 0]\n",
       "1   7.4  2.065591     1.0  [0, 0, 0, 0, 1, 0, 2, 4, 0, 1, 1, 1]"
      ]
     },
     "execution_count": 17,
     "metadata": {},
     "output_type": "execute_result"
    }
   ],
   "source": [
    "%autoreload 2\n",
    "df = evaluate_mcdropout(net.cuda(), [clear_volume, motion_volume], None, n_samples=10)\n",
    "df"
   ]
  },
  {
   "cell_type": "code",
   "execution_count": null,
   "metadata": {},
   "outputs": [],
   "source": []
  }
 ],
 "metadata": {
  "kernelspec": {
   "display_name": "bowl",
   "language": "python",
   "name": "python3"
  },
  "language_info": {
   "codemirror_mode": {
    "name": "ipython",
    "version": 3
   },
   "file_extension": ".py",
   "mimetype": "text/x-python",
   "name": "python",
   "nbconvert_exporter": "python",
   "pygments_lexer": "ipython3",
   "version": "3.10.13"
  }
 },
 "nbformat": 4,
 "nbformat_minor": 2
}
