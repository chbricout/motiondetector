{
 "cells": [
  {
   "cell_type": "code",
   "execution_count": 1,
   "metadata": {},
   "outputs": [],
   "source": [
    "%load_ext autoreload\n",
    "%autoreload 2\n",
    "import glob\n",
    "import sys\n",
    "from os import path \n",
    "from comet_ml import API\n",
    "import pandas as pd\n",
    "import seaborn as sb\n",
    "from matplotlib import pyplot as plt\n",
    "sys.path.append(\"..\")\n",
    "sb.set_theme()\n",
    "from src import config"
   ]
  },
  {
   "cell_type": "code",
   "execution_count": 2,
   "metadata": {},
   "outputs": [],
   "source": [
    "path_to_test = \"test_report\"\n",
    "task_hue_order = (\"SSIM\", \"MOTION\", \"BINARY\")\n",
    "api = API(config.COMET_API_KEY)"
   ]
  },
  {
   "cell_type": "code",
   "execution_count": 16,
   "metadata": {},
   "outputs": [],
   "source": [
    "def ridge_plot(df, x, y):\n",
    "    sb.set_theme(style=\"white\", rc={\"axes.facecolor\": (0, 0, 0, 0)})\n",
    "\n",
    "    # Initialize the FacetGrid object\n",
    "    pal = sb.cubehelix_palette(10, rot=-0.25, light=0.7)\n",
    "    g = sb.FacetGrid(df, row=y, hue=y, aspect=10, height=1, palette=pal)\n",
    "\n",
    "    # Draw the densities in a few steps\n",
    "    g.map(\n",
    "        sb.kdeplot, x, bw_adjust=0.75, clip_on=False, fill=True, alpha=1, linewidth=1.5\n",
    "    )\n",
    "    g.map(sb.kdeplot, x, clip_on=False, color=\"w\", lw=2, bw_adjust=0.75)\n",
    "\n",
    "    # passing color=None to refline() uses the hue mapping\n",
    "    g.refline(y=0, linewidth=2, linestyle=\"-\", color=None, clip_on=False)\n",
    "\n",
    "    # Define and use a simple function to label the plot in axes coordinates\n",
    "    def label(x, color, label):\n",
    "        ax = plt.gca()\n",
    "        ax.text(\n",
    "            0,\n",
    "            0.2,\n",
    "            label,\n",
    "            fontweight=\"bold\",\n",
    "            color=color,\n",
    "            ha=\"left\",\n",
    "            va=\"center\",\n",
    "            transform=ax.transAxes,\n",
    "        )\n",
    "\n",
    "    g.map(label, x)\n",
    "\n",
    "    # Set the subplots to overlap\n",
    "    g.figure.subplots_adjust(hspace=-0.25)\n",
    "\n",
    "    # Remove axes details that don't play well with overlap\n",
    "    g.set_titles(\"\")\n",
    "    g.set(yticks=[], ylabel=\"\")\n",
    "    g.despine(bottom=True, left=True)\n",
    "    sb.set_theme()\n",
    "\n",
    "\n",
    "def retrieve_thresholds(unbalanced=False):\n",
    "    mrart_results = []\n",
    "    directory = (\n",
    "        path.join(path_to_test, \"unbalanced\", \"pretrain\", \"*\")\n",
    "        if unbalanced\n",
    "        else path.join(path_to_test, \"pretraining\", \"*\")\n",
    "    )\n",
    "    for models_directory in glob.glob(directory):\n",
    "        model, task, run = path.basename(models_directory).split(\"-\")\n",
    "\n",
    "        mrart = pd.read_csv(\n",
    "            path.join(\n",
    "                models_directory,\n",
    "                \"unbalanced-mrart_recap.csv\" if unbalanced else \"mrart_recap.csv\",\n",
    "            )\n",
    "        )\n",
    "        mrart[\"model\"] = model\n",
    "        mrart[\"task\"] = task\n",
    "        mrart[\"run_num\"] = run\n",
    "\n",
    "        mrart_results.append(\n",
    "            mrart[\n",
    "                [\n",
    "                    \"model\",\n",
    "                    \"task\",\n",
    "                    \"run_num\",\n",
    "                    \"balanced_accuracy\",\n",
    "                    \"threshold_1\",\n",
    "                    \"threshold_2\",\n",
    "                    \"f1_0\",\n",
    "                    \"f1_1\",\n",
    "                    \"f1_2\",\n",
    "                ]\n",
    "            ]\n",
    "        )\n",
    "\n",
    "    return (\n",
    "        pd.concat(mrart_results)\n",
    "        .sort_values([\"model\", \"task\"], ascending=False)\n",
    "        .reset_index(drop=True)\n",
    "    )\n",
    "\n",
    "\n",
    "def retrieve_pretrain():\n",
    "    motion_res = []\n",
    "    ssim_res = []\n",
    "    binary_res = []\n",
    "\n",
    "    for models_directory in glob.glob(path.join(path_to_test, \"pretraining\", \"*\")):\n",
    "        model, task, *_ = path.basename(models_directory).split(\"-\")\n",
    "\n",
    "        results = pd.read_csv(path.join(models_directory, \"results.csv\"))\n",
    "        results[\"model\"] = model\n",
    "        results[\"task\"] = task\n",
    "        if task == \"MOTION\":\n",
    "            motion_res.append(results[[\"model\", \"task\", \"source\", \"r2\", \"rmse\"]])\n",
    "        elif task == \"SSIM\":\n",
    "            ssim_res.append(results[[\"model\", \"task\", \"source\", \"r2\", \"rmse\"]])\n",
    "        elif task == \"BINARY\":\n",
    "            binary_res.append(\n",
    "                results[[\"model\", \"task\", \"source\", \"balanced_accuracy\", \"rmse\"]]\n",
    "            )\n",
    "\n",
    "    motion_res = pd.concat(motion_res)\n",
    "    ssim_res = pd.concat(ssim_res)\n",
    "    binary_res = pd.concat(binary_res)\n",
    "    motion_res = motion_res[motion_res[\"source\"] == \"simple\"]\n",
    "    ssim_res = ssim_res[ssim_res[\"source\"] == \"simple\"]\n",
    "    binary_res = binary_res[binary_res[\"source\"] == \"simple\"]\n",
    "\n",
    "    return motion_res, ssim_res, binary_res\n",
    "\n",
    "\n",
    "def retrieve_transfer(unbalanced=False):\n",
    "    full_results = []\n",
    "    directory = (\n",
    "        path.join(path_to_test, \"unbalanced\", \"transfer\", \"*\")\n",
    "        if unbalanced\n",
    "        else path.join(path_to_test, \"transfer\", \"*\")\n",
    "    )\n",
    "    for models_directory in glob.glob(directory):\n",
    "        model, task, run_num = path.basename(models_directory).split(\"-\")\n",
    "\n",
    "        results = pd.read_csv(path.join(models_directory, \"mrart_recap.csv\"))\n",
    "        results[\"model\"] = model\n",
    "        results[\"task\"] = task\n",
    "        results[\"run_num\"] = int(run_num)\n",
    "\n",
    "        full_results.append(\n",
    "            results[\n",
    "                [\n",
    "                    \"model\",\n",
    "                    \"task\",\n",
    "                    \"run_num\",\n",
    "                    \"source\",\n",
    "                    \"balanced_accuracy\",\n",
    "                    \"f1_0\",\n",
    "                    \"f1_1\",\n",
    "                    \"f1_2\",\n",
    "                ]\n",
    "            ]\n",
    "        )\n",
    "\n",
    "    full_results = pd.concat(full_results)\n",
    "    simple_res = full_results[full_results[\"source\"] == \"simple\"]\n",
    "    simple_res = simple_res.drop(columns=\"source\")\n",
    "    return simple_res.sort_values(\n",
    "        [\"model\", \"task\", \"run_num\"], ascending=False\n",
    "    ).reset_index(drop=True)\n",
    "\n",
    "\n",
    "def retrieve_scratch(unbalanced=False):\n",
    "    full_results = []\n",
    "    directory = (\n",
    "        path.join(path_to_test, \"unbalanced\", \"scratch\", \"*\")\n",
    "        if unbalanced\n",
    "        else path.join(path_to_test, \"scratch\", \"*\")\n",
    "    )\n",
    "    for models_directory in glob.glob(directory):\n",
    "        model, run_num = (\n",
    "            path.basename(models_directory).removesuffix(\".ckpt\").split(\"-\")\n",
    "        )\n",
    "\n",
    "        results = pd.read_csv(path.join(models_directory, \"mrart_recap.csv\"))\n",
    "        results[\"model\"] = model\n",
    "        results[\"run_num\"] = int(run_num)\n",
    "\n",
    "        full_results.append(\n",
    "            results[\n",
    "                [\n",
    "                    \"model\",\n",
    "                    \"run_num\",\n",
    "                    \"source\",\n",
    "                    \"balanced_accuracy\",\n",
    "                    \"f1_0\",\n",
    "                    \"f1_1\",\n",
    "                    \"f1_2\",\n",
    "                ]\n",
    "            ]\n",
    "        )\n",
    "\n",
    "    full_results = pd.concat(full_results)\n",
    "    simple_scratch = full_results[full_results[\"source\"] == \"simple\"]\n",
    "    simple_scratch.sort_values(\"balanced_accuracy\", ascending=False)\n",
    "    return simple_scratch\n",
    "\n",
    "\n",
    "def compute_norms(df):\n",
    "    df[\"balanced_accuracy_minmax\"] = (\n",
    "        df[\"balanced_accuracy\"] - df[\"balanced_accuracy\"].min()\n",
    "    ) / (df[\"balanced_accuracy\"].max() - df[\"balanced_accuracy\"].min())\n",
    "    # df['balanced_accuracy_stand'] = (df['balanced_accuracy']-df['balanced_accuracy'].mean())/(df['balanced_accuracy'].std())\n",
    "\n",
    "\n",
    "def min_max_norm(serie):\n",
    "    return (serie - serie.min()) / (serie.max() - serie.min())\n",
    "\n",
    "\n",
    "def ms_to_time(millis: int):\n",
    "    seconds = millis // 1000\n",
    "    minutes = seconds // 60\n",
    "    hours = minutes // 60\n",
    "    minutes = minutes % 60\n",
    "    seconds = seconds % 60\n",
    "    return int(hours), int(minutes), int(seconds)\n",
    "\n",
    "\n",
    "def get_duration_df_pretrain(experiments):\n",
    "    durations = []\n",
    "    for exp in experiments:\n",
    "        ms = exp.get_metadata()[\"durationMillis\"]\n",
    "        model = exp.get_parameters_summary(\"model_class\")[\"valueMax\"]\n",
    "        task = exp.get_parameters_summary(\"task\")[\"valueMax\"]\n",
    "        hours, minutes = ms_to_time(ms)\n",
    "        durations.append(\n",
    "            (model, task, hours, minutes, f\"{hours}:{str(minutes).zfill(2)}\")\n",
    "        )\n",
    "    return pd.DataFrame(\n",
    "        durations, columns=(\"model\", \"task\", \"hours\", \"minutes\", \"duration\")\n",
    "    )\n",
    "\n",
    "\n",
    "def get_compute_usage_df(experiments, task_dependent=False):\n",
    "    durations = []\n",
    "    for exp in experiments:\n",
    "        ms = exp.get_metadata()[\"durationMillis\"]\n",
    "        model = exp.get_parameters_summary(\"model\")[\"valueMax\"]\n",
    "\n",
    "        hours, minutes = ms_to_time(ms)\n",
    "        gpu_memory = (\n",
    "            float(exp.get_metrics_summary(\"sys.gpu.0.used_memory\")[\"valueMax\"]) / 1e9\n",
    "        )\n",
    "        gpu_power_usage = (\n",
    "            float(exp.get_metrics_summary(\"sys.gpu.0.power_usage\")[\"valueMax\"]) / 1000\n",
    "        )\n",
    "\n",
    "        if task_dependent:\n",
    "            _, _, _, task, _ = exp.name.split(\"-\")\n",
    "            durations.append(\n",
    "                (\n",
    "                    model,\n",
    "                    task,\n",
    "                    ms,\n",
    "                    hours,\n",
    "                    minutes,\n",
    "                    f\"{hours}:{str(minutes).zfill(2)}\",\n",
    "                    gpu_memory,\n",
    "                    gpu_power_usage,\n",
    "                )\n",
    "            )\n",
    "        else:\n",
    "            durations.append(\n",
    "                (\n",
    "                    model,\n",
    "                    ms,\n",
    "                    hours,\n",
    "                    minutes,\n",
    "                    f\"{hours}:{str(minutes).zfill(2)}\",\n",
    "                    gpu_memory,\n",
    "                    gpu_power_usage,\n",
    "                )\n",
    "            )\n",
    "\n",
    "    if task_dependent:\n",
    "        columns = (\n",
    "            \"model\",\n",
    "            \"task\",\n",
    "            \"millis\",\n",
    "            \"hours\",\n",
    "            \"minutes\",\n",
    "            \"duration\",\n",
    "            \"max_gpu_ram_used\",\n",
    "            \"max_gpu_power_usage\",\n",
    "        )\n",
    "    else:\n",
    "        columns = (\n",
    "            \"model\",\n",
    "            \"millis\",\n",
    "            \"hours\",\n",
    "            \"minutes\",\n",
    "            \"duration\",\n",
    "            \"max_gpu_ram_used\",\n",
    "            \"max_gpu_power_usage\",\n",
    "        )\n",
    "\n",
    "    return pd.DataFrame(durations, columns=columns)"
   ]
  },
  {
   "cell_type": "markdown",
   "metadata": {},
   "source": [
    "# Are synthetic artifacts close to real artifacts"
   ]
  },
  {
   "cell_type": "code",
   "execution_count": 22,
   "metadata": {},
   "outputs": [
    {
     "name": "stdout",
     "output_type": "stream",
     "text": [
      "\\begin{tabular}{llr}\n",
      "\\toprule\n",
      "model & task & balanced\\_accuracy \\\\\n",
      "\\midrule\n",
      "VIT & SSIM & 0.47 \\\\\n",
      "VIT & MOTION & 0.56 \\\\\n",
      "VIT & BINARY & 0.52 \\\\\n",
      "SFCN & SSIM & 0.68 \\\\\n",
      "SFCN & MOTION & 0.67 \\\\\n",
      "SFCN & BINARY & 0.33 \\\\\n",
      "SERES & SSIM & 0.57 \\\\\n",
      "SERES & MOTION & 0.59 \\\\\n",
      "SERES & BINARY & 0.35 \\\\\n",
      "RES & SSIM & 0.59 \\\\\n",
      "RES & MOTION & 0.60 \\\\\n",
      "RES & BINARY & 0.25 \\\\\n",
      "CONV5\\_FC3 & SSIM & 0.59 \\\\\n",
      "CONV5\\_FC3 & MOTION & 0.61 \\\\\n",
      "CONV5\\_FC3 & BINARY & 0.52 \\\\\n",
      "\\bottomrule\n",
      "\\end{tabular}\n",
      "\n"
     ]
    }
   ],
   "source": [
    "thresh_mrart_results = retrieve_thresholds()\n",
    "print(\n",
    "    thresh_mrart_results[[\"model\", \"task\", \"balanced_accuracy\"]].to_latex(\n",
    "        index=False, escape=True, float_format=\"%.2f\"\n",
    "    )\n",
    ")"
   ]
  },
  {
   "cell_type": "code",
   "execution_count": 46,
   "metadata": {},
   "outputs": [
    {
     "name": "stderr",
     "output_type": "stream",
     "text": [
      "/tmp/ipykernel_128141/1385608810.py:4: UserWarning: The palette list has more values (10) than needed (3), which may not be intended.\n",
      "  sb.boxplot(pred_mrart, x=\"pred\", hue=\"label\", dodge=True, palette=sb.color_palette())\n"
     ]
    },
    {
     "data": {
      "text/plain": [
       "<Axes: xlabel='pred'>"
      ]
     },
     "execution_count": 46,
     "metadata": {},
     "output_type": "execute_result"
    },
    {
     "data": {
      "image/png": "[encoded data removed]",
      "text/plain": [
       "<Figure size 640x480 with 1 Axes>"
      ]
     },
     "metadata": {},
     "output_type": "display_data"
    }
   ],
   "source": [
    "best_row = thresh_mrart_results.sort_values(\"balanced_accuracy\", ascending=False).iloc[\n",
    "    0\n",
    "]\n",
    "best_model = path.join(\n",
    "    path_to_test,\n",
    "    \"pretraining\",\n",
    "    f\"{best_row['model']}-{best_row['task']}-{best_row['run_num']}\",\n",
    "    \"mrart.csv\",\n",
    ")\n",
    "pred_mrart = pd.read_csv(best_model)\n",
    "sb.boxplot(pred_mrart, x=\"pred\", hue=\"label\", dodge=True, palette=sb.color_palette())"
   ]
  },
  {
   "cell_type": "markdown",
   "metadata": {},
   "source": [
    "# What metric should we use to pretrain on synthetic artifacts ?"
   ]
  },
  {
   "cell_type": "code",
   "execution_count": 4,
   "metadata": {},
   "outputs": [],
   "source": [
    "selector = [\"task\", \"balanced_accuracy\"]\n",
    "thresh_df = retrieve_thresholds()\n",
    "thresh_df = thresh_df[selector].groupby([\"task\"], as_index=False).median()\n",
    "compute_norms(thresh_df)\n",
    "thresh_df[\"origin\"] = \"threshold\"\n",
    "\n",
    "transfer_df = retrieve_transfer()\n",
    "mean_transfer_df = (\n",
    "    transfer_df[[\"model\", \"task\", \"run_num\", \"balanced_accuracy\"]]\n",
    "    .groupby([\"model\", \"task\"], as_index=False)\n",
    "    .median()\n",
    "    .drop(columns=\"run_num\")\n",
    ")\n",
    "mean_transfer_df = (\n",
    "    mean_transfer_df.drop(columns=\"model\").groupby([\"task\"], as_index=False).median()\n",
    ")\n",
    "compute_norms(mean_transfer_df)\n",
    "mean_transfer_df[\"origin\"] = \"transfer\"\n",
    "\n",
    "\n",
    "task_df = pd.concat([mean_transfer_df, thresh_df]).reset_index(drop=True)"
   ]
  },
  {
   "cell_type": "code",
   "execution_count": 10,
   "metadata": {},
   "outputs": [
    {
     "data": {
      "text/html": [
       "<div>\n",
       "<style scoped>\n",
       "    .dataframe tbody tr th:only-of-type {\n",
       "        vertical-align: middle;\n",
       "    }\n",
       "\n",
       "    .dataframe tbody tr th {\n",
       "        vertical-align: top;\n",
       "    }\n",
       "\n",
       "    .dataframe thead th {\n",
       "        text-align: right;\n",
       "    }\n",
       "</style>\n",
       "<table border=\"1\" class=\"dataframe\">\n",
       "  <thead>\n",
       "    <tr style=\"text-align: right;\">\n",
       "      <th></th>\n",
       "      <th></th>\n",
       "      <th>balanced_accuracy</th>\n",
       "      <th>balanced_accuracy_minmax</th>\n",
       "    </tr>\n",
       "    <tr>\n",
       "      <th>origin</th>\n",
       "      <th>task</th>\n",
       "      <th></th>\n",
       "      <th></th>\n",
       "    </tr>\n",
       "  </thead>\n",
       "  <tbody>\n",
       "    <tr>\n",
       "      <th rowspan=\"3\" valign=\"top\">transfer</th>\n",
       "      <th>BINARY</th>\n",
       "      <td>0.599217</td>\n",
       "      <td>0.000000</td>\n",
       "    </tr>\n",
       "    <tr>\n",
       "      <th>MOTION</th>\n",
       "      <td>0.682454</td>\n",
       "      <td>1.000000</td>\n",
       "    </tr>\n",
       "    <tr>\n",
       "      <th>SSIM</th>\n",
       "      <td>0.612208</td>\n",
       "      <td>0.156072</td>\n",
       "    </tr>\n",
       "    <tr>\n",
       "      <th rowspan=\"3\" valign=\"top\">threshold</th>\n",
       "      <th>BINARY</th>\n",
       "      <td>0.347443</td>\n",
       "      <td>0.000000</td>\n",
       "    </tr>\n",
       "    <tr>\n",
       "      <th>MOTION</th>\n",
       "      <td>0.596722</td>\n",
       "      <td>1.000000</td>\n",
       "    </tr>\n",
       "    <tr>\n",
       "      <th>SSIM</th>\n",
       "      <td>0.585667</td>\n",
       "      <td>0.955651</td>\n",
       "    </tr>\n",
       "    <tr>\n",
       "      <th rowspan=\"3\" valign=\"top\">Mean</th>\n",
       "      <th>BINARY</th>\n",
       "      <td>0.473330</td>\n",
       "      <td>0.000000</td>\n",
       "    </tr>\n",
       "    <tr>\n",
       "      <th>MOTION</th>\n",
       "      <td>0.639588</td>\n",
       "      <td>1.000000</td>\n",
       "    </tr>\n",
       "    <tr>\n",
       "      <th>SSIM</th>\n",
       "      <td>0.598937</td>\n",
       "      <td>0.555862</td>\n",
       "    </tr>\n",
       "  </tbody>\n",
       "</table>\n",
       "</div>"
      ],
      "text/plain": [
       "                  balanced_accuracy  balanced_accuracy_minmax\n",
       "origin    task                                               \n",
       "transfer  BINARY           0.599217                  0.000000\n",
       "          MOTION           0.682454                  1.000000\n",
       "          SSIM             0.612208                  0.156072\n",
       "threshold BINARY           0.347443                  0.000000\n",
       "          MOTION           0.596722                  1.000000\n",
       "          SSIM             0.585667                  0.955651\n",
       "Mean      BINARY           0.473330                  0.000000\n",
       "          MOTION           0.639588                  1.000000\n",
       "          SSIM             0.598937                  0.555862"
      ]
     },
     "execution_count": 10,
     "metadata": {},
     "output_type": "execute_result"
    }
   ],
   "source": [
    "mean_tasks = pd.concat([mean_transfer_df, thresh_df])\n",
    "df = mean_tasks.drop(columns=\"origin\").groupby(\"task\", as_index=False).mean()\n",
    "df[\"origin\"] = \"Mean\"\n",
    "\n",
    "full_res = pd.concat([mean_tasks, df])\n",
    "full_res = full_res.set_index([\"origin\", \"task\"], drop=True, append=False)\n",
    "full_res\n",
    "# print(full_res.to_latex(index=True, escape=True, float_format=\"%.3f\", multirow=True))"
   ]
  },
  {
   "cell_type": "markdown",
   "metadata": {},
   "source": [
    "# What model is the best fit for motion prediction task"
   ]
  },
  {
   "cell_type": "code",
   "execution_count": 7,
   "metadata": {},
   "outputs": [
    {
     "name": "stdout",
     "output_type": "stream",
     "text": [
      "\\begin{tabular}{lrlr}\n",
      "\\toprule\n",
      " & balanced\\_accuracy & setting & balanced\\_accuracy\\_minmax \\\\\n",
      "model &  &  &  \\\\\n",
      "\\midrule\n",
      "CONV5\\_FC3 & 0.6063 & Scratch & 0.0000 \\\\\n",
      "RES & 0.6709 & Scratch & 0.3759 \\\\\n",
      "SERES & 0.7421 & Scratch & 0.7906 \\\\\n",
      "SFCN & 0.7781 & Scratch & 1.0000 \\\\\n",
      "VIT & 0.7513 & Scratch & 0.8442 \\\\\n",
      "\\bottomrule\n",
      "\\end{tabular}\n",
      "\n"
     ]
    }
   ],
   "source": [
    "selector = [\"model\", \"balanced_accuracy\"]\n",
    "\n",
    "transfer_df = retrieve_transfer()[selector + [\"task\"]]\n",
    "transfer_df = transfer_df.groupby([\"model\", \"task\"], as_index=False).mean()[selector]\n",
    "transfer_df = transfer_df.groupby([\"model\"], as_index=False).median()[selector]\n",
    "transfer_df[\"setting\"] = \"Transfer\"\n",
    "compute_norms(transfer_df)\n",
    "\n",
    "scratch_df = retrieve_scratch()[selector]\n",
    "scratch_df = scratch_df.groupby([\"model\"], as_index=False).median()[selector]\n",
    "scratch_df[\"setting\"] = \"Scratch\"\n",
    "compute_norms(scratch_df)\n",
    "\n",
    "\n",
    "model_df = pd.concat([thresh_df, transfer_df, scratch_df])\n",
    "report_models = model_df.set_index([\"setting\", \"model\"], drop=True, append=False)\n",
    "report_models\n",
    "print(\n",
    "    scratch_df.set_index(\"model\", drop=True).to_latex(\n",
    "        index=True, escape=True, float_format=\"%.4f\", multirow=True\n",
    "    )\n",
    ")"
   ]
  },
  {
   "cell_type": "code",
   "execution_count": 9,
   "metadata": {},
   "outputs": [
    {
     "data": {
      "text/plain": [
       "<Axes: xlabel='model', ylabel='balanced_accuracy'>"
      ]
     },
     "execution_count": 9,
     "metadata": {},
     "output_type": "execute_result"
    },
    {
     "data": {
      "image/png": "[encoded data removed]",
      "text/plain": [
       "<Figure size 640x480 with 1 Axes>"
      ]
     },
     "metadata": {},
     "output_type": "display_data"
    }
   ],
   "source": [
    "sb.swarmplot(retrieve_scratch()[selector], y=\"balanced_accuracy\", x=\"model\")"
   ]
  },
  {
   "cell_type": "code",
   "execution_count": 14,
   "metadata": {},
   "outputs": [
    {
     "data": {
      "text/html": [
       "<div>\n",
       "<style scoped>\n",
       "    .dataframe tbody tr th:only-of-type {\n",
       "        vertical-align: middle;\n",
       "    }\n",
       "\n",
       "    .dataframe tbody tr th {\n",
       "        vertical-align: top;\n",
       "    }\n",
       "\n",
       "    .dataframe thead th {\n",
       "        text-align: right;\n",
       "    }\n",
       "</style>\n",
       "<table border=\"1\" class=\"dataframe\">\n",
       "  <thead>\n",
       "    <tr style=\"text-align: right;\">\n",
       "      <th></th>\n",
       "      <th>balanced_accuracy</th>\n",
       "      <th>balanced_accuracy_minmax</th>\n",
       "    </tr>\n",
       "    <tr>\n",
       "      <th>model</th>\n",
       "      <th></th>\n",
       "      <th></th>\n",
       "    </tr>\n",
       "  </thead>\n",
       "  <tbody>\n",
       "    <tr>\n",
       "      <th>CONV5_FC3</th>\n",
       "      <td>0.606315</td>\n",
       "      <td>0.453879</td>\n",
       "    </tr>\n",
       "    <tr>\n",
       "      <th>RES</th>\n",
       "      <td>0.670882</td>\n",
       "      <td>0.448237</td>\n",
       "    </tr>\n",
       "    <tr>\n",
       "      <th>SERES</th>\n",
       "      <td>0.622549</td>\n",
       "      <td>0.368770</td>\n",
       "    </tr>\n",
       "    <tr>\n",
       "      <th>SFCN</th>\n",
       "      <td>0.692347</td>\n",
       "      <td>1.000000</td>\n",
       "    </tr>\n",
       "    <tr>\n",
       "      <th>VIT</th>\n",
       "      <td>0.563668</td>\n",
       "      <td>0.000000</td>\n",
       "    </tr>\n",
       "  </tbody>\n",
       "</table>\n",
       "</div>"
      ],
      "text/plain": [
       "           balanced_accuracy  balanced_accuracy_minmax\n",
       "model                                                 \n",
       "CONV5_FC3           0.606315                  0.453879\n",
       "RES                 0.670882                  0.448237\n",
       "SERES               0.622549                  0.368770\n",
       "SFCN                0.692347                  1.000000\n",
       "VIT                 0.563668                  0.000000"
      ]
     },
     "execution_count": 14,
     "metadata": {},
     "output_type": "execute_result"
    }
   ],
   "source": [
    "model_perf_df = model_df.drop(columns=\"setting\").groupby(\"model\").median()\n",
    "model_perf_df\n",
    "# print(\n",
    "#     model_perf_df.to_latex(index=True, escape=True, float_format=\"%.4f\", multirow=True)\n",
    "# )"
   ]
  },
  {
   "cell_type": "markdown",
   "metadata": {},
   "source": [
    "# Should we consider using pretraining ?"
   ]
  },
  {
   "cell_type": "markdown",
   "metadata": {},
   "source": [
    "## Setting Comparison"
   ]
  },
  {
   "cell_type": "code",
   "execution_count": 14,
   "metadata": {},
   "outputs": [
    {
     "name": "stdout",
     "output_type": "stream",
     "text": [
      "\\begin{tabular}{lr}\n",
      "\\toprule\n",
      "setting & balanced\\_accuracy \\\\\n",
      "\\midrule\n",
      "Scratch & 0.7421 \\\\\n",
      "Transfer & 0.6651 \\\\\n",
      "\\bottomrule\n",
      "\\end{tabular}\n",
      "\n"
     ]
    },
    {
     "data": {
      "text/html": [
       "<div>\n",
       "<style scoped>\n",
       "    .dataframe tbody tr th:only-of-type {\n",
       "        vertical-align: middle;\n",
       "    }\n",
       "\n",
       "    .dataframe tbody tr th {\n",
       "        vertical-align: top;\n",
       "    }\n",
       "\n",
       "    .dataframe thead th {\n",
       "        text-align: right;\n",
       "    }\n",
       "</style>\n",
       "<table border=\"1\" class=\"dataframe\">\n",
       "  <thead>\n",
       "    <tr style=\"text-align: right;\">\n",
       "      <th></th>\n",
       "      <th>id</th>\n",
       "      <th>setting</th>\n",
       "      <th>model</th>\n",
       "      <th>task</th>\n",
       "      <th>balanced_accuracy</th>\n",
       "    </tr>\n",
       "  </thead>\n",
       "  <tbody>\n",
       "    <tr>\n",
       "      <th>1</th>\n",
       "      <td>Transfer - CONV5_FC3 - MOTION</td>\n",
       "      <td>Transfer</td>\n",
       "      <td>CONV5_FC3</td>\n",
       "      <td>MOTION</td>\n",
       "      <td>0.656085</td>\n",
       "    </tr>\n",
       "    <tr>\n",
       "      <th>2</th>\n",
       "      <td>Transfer - CONV5_FC3 - SSIM</td>\n",
       "      <td>Transfer</td>\n",
       "      <td>CONV5_FC3</td>\n",
       "      <td>SSIM</td>\n",
       "      <td>0.674022</td>\n",
       "    </tr>\n",
       "    <tr>\n",
       "      <th>4</th>\n",
       "      <td>Transfer - RES - MOTION</td>\n",
       "      <td>Transfer</td>\n",
       "      <td>RES</td>\n",
       "      <td>MOTION</td>\n",
       "      <td>0.742117</td>\n",
       "    </tr>\n",
       "    <tr>\n",
       "      <th>5</th>\n",
       "      <td>Transfer - RES - SSIM</td>\n",
       "      <td>Transfer</td>\n",
       "      <td>RES</td>\n",
       "      <td>SSIM</td>\n",
       "      <td>0.692347</td>\n",
       "    </tr>\n",
       "    <tr>\n",
       "      <th>7</th>\n",
       "      <td>Transfer - SERES - MOTION</td>\n",
       "      <td>Transfer</td>\n",
       "      <td>SERES</td>\n",
       "      <td>MOTION</td>\n",
       "      <td>0.682454</td>\n",
       "    </tr>\n",
       "    <tr>\n",
       "      <th>8</th>\n",
       "      <td>Transfer - SERES - SSIM</td>\n",
       "      <td>Transfer</td>\n",
       "      <td>SERES</td>\n",
       "      <td>SSIM</td>\n",
       "      <td>0.612208</td>\n",
       "    </tr>\n",
       "    <tr>\n",
       "      <th>11</th>\n",
       "      <td>Transfer - SFCN - MOTION</td>\n",
       "      <td>Transfer</td>\n",
       "      <td>SFCN</td>\n",
       "      <td>MOTION</td>\n",
       "      <td>0.691960</td>\n",
       "    </tr>\n",
       "    <tr>\n",
       "      <th>12</th>\n",
       "      <td>Transfer - SFCN - SSIM</td>\n",
       "      <td>Transfer</td>\n",
       "      <td>SFCN</td>\n",
       "      <td>SSIM</td>\n",
       "      <td>0.590829</td>\n",
       "    </tr>\n",
       "    <tr>\n",
       "      <th>14</th>\n",
       "      <td>Transfer - VIT - MOTION</td>\n",
       "      <td>Transfer</td>\n",
       "      <td>VIT</td>\n",
       "      <td>MOTION</td>\n",
       "      <td>0.540586</td>\n",
       "    </tr>\n",
       "    <tr>\n",
       "      <th>15</th>\n",
       "      <td>Transfer - VIT - SSIM</td>\n",
       "      <td>Transfer</td>\n",
       "      <td>VIT</td>\n",
       "      <td>SSIM</td>\n",
       "      <td>0.584290</td>\n",
       "    </tr>\n",
       "    <tr>\n",
       "      <th>0</th>\n",
       "      <td>Scratch - CONV5_FC3</td>\n",
       "      <td>Scratch</td>\n",
       "      <td>CONV5_FC3</td>\n",
       "      <td></td>\n",
       "      <td>0.606315</td>\n",
       "    </tr>\n",
       "    <tr>\n",
       "      <th>1</th>\n",
       "      <td>Scratch - RES</td>\n",
       "      <td>Scratch</td>\n",
       "      <td>RES</td>\n",
       "      <td></td>\n",
       "      <td>0.670882</td>\n",
       "    </tr>\n",
       "    <tr>\n",
       "      <th>2</th>\n",
       "      <td>Scratch - SERES</td>\n",
       "      <td>Scratch</td>\n",
       "      <td>SERES</td>\n",
       "      <td></td>\n",
       "      <td>0.742117</td>\n",
       "    </tr>\n",
       "    <tr>\n",
       "      <th>3</th>\n",
       "      <td>Scratch - SFCN</td>\n",
       "      <td>Scratch</td>\n",
       "      <td>SFCN</td>\n",
       "      <td></td>\n",
       "      <td>0.778079</td>\n",
       "    </tr>\n",
       "    <tr>\n",
       "      <th>4</th>\n",
       "      <td>Scratch - VIT</td>\n",
       "      <td>Scratch</td>\n",
       "      <td>VIT</td>\n",
       "      <td></td>\n",
       "      <td>0.751323</td>\n",
       "    </tr>\n",
       "  </tbody>\n",
       "</table>\n",
       "</div>"
      ],
      "text/plain": [
       "                               id   setting      model    task  \\\n",
       "1   Transfer - CONV5_FC3 - MOTION  Transfer  CONV5_FC3  MOTION   \n",
       "2     Transfer - CONV5_FC3 - SSIM  Transfer  CONV5_FC3    SSIM   \n",
       "4         Transfer - RES - MOTION  Transfer        RES  MOTION   \n",
       "5           Transfer - RES - SSIM  Transfer        RES    SSIM   \n",
       "7       Transfer - SERES - MOTION  Transfer      SERES  MOTION   \n",
       "8         Transfer - SERES - SSIM  Transfer      SERES    SSIM   \n",
       "11       Transfer - SFCN - MOTION  Transfer       SFCN  MOTION   \n",
       "12         Transfer - SFCN - SSIM  Transfer       SFCN    SSIM   \n",
       "14        Transfer - VIT - MOTION  Transfer        VIT  MOTION   \n",
       "15          Transfer - VIT - SSIM  Transfer        VIT    SSIM   \n",
       "0             Scratch - CONV5_FC3   Scratch  CONV5_FC3           \n",
       "1                   Scratch - RES   Scratch        RES           \n",
       "2                 Scratch - SERES   Scratch      SERES           \n",
       "3                  Scratch - SFCN   Scratch       SFCN           \n",
       "4                   Scratch - VIT   Scratch        VIT           \n",
       "\n",
       "    balanced_accuracy  \n",
       "1            0.656085  \n",
       "2            0.674022  \n",
       "4            0.742117  \n",
       "5            0.692347  \n",
       "7            0.682454  \n",
       "8            0.612208  \n",
       "11           0.691960  \n",
       "12           0.590829  \n",
       "14           0.540586  \n",
       "15           0.584290  \n",
       "0            0.606315  \n",
       "1            0.670882  \n",
       "2            0.742117  \n",
       "3            0.778079  \n",
       "4            0.751323  "
      ]
     },
     "execution_count": 14,
     "metadata": {},
     "output_type": "execute_result"
    },
    {
     "data": {
      "image/png": "[encoded data removed]",
      "text/plain": [
       "<Figure size 500x600 with 1 Axes>"
      ]
     },
     "metadata": {},
     "output_type": "display_data"
    }
   ],
   "source": [
    "selector = [\"id\", \"setting\", \"model\", \"task\", \"balanced_accuracy\"]\n",
    "\n",
    "transfer_df = retrieve_transfer()\n",
    "transfer_df = transfer_df.groupby([\"model\", \"task\"], as_index=False).median()\n",
    "transfer_df[\"setting\"] = \"Transfer\"\n",
    "transfer_df[\"id\"] = \"Transfer - \" + transfer_df[\"model\"] + \" - \" + transfer_df[\"task\"]\n",
    "transfer_df = transfer_df[\n",
    "    (transfer_df[\"task\"] == \"SSIM\") | (transfer_df[\"task\"] == \"MOTION\")\n",
    "]\n",
    "\n",
    "scratch_df = retrieve_scratch().drop(columns=[\"source\"])\n",
    "scratch_df = scratch_df.groupby([\"model\"], as_index=False).median()\n",
    "scratch_df[\"setting\"] = \"Scratch\"\n",
    "scratch_df[\"task\"] = \"\"\n",
    "scratch_df[\"id\"] = \"Scratch - \" + scratch_df[\"model\"]\n",
    "\n",
    "full_res = pd.concat([transfer_df[selector], scratch_df[selector]])\n",
    "setting_mean = (\n",
    "    full_res.drop(columns=[\"id\", \"model\", \"task\"])\n",
    "    .groupby(\"setting\", as_index=False)\n",
    "    .median()\n",
    ")\n",
    "print(setting_mean.to_latex(index=False, escape=True, float_format=\"%.4f\"))\n",
    "\n",
    "plt.figure(figsize=(5, 6))\n",
    "sb.stripplot(full_res, y=\"balanced_accuracy\", x=\"setting\", hue=\"task\", dodge=True)\n",
    "full_res"
   ]
  },
  {
   "cell_type": "code",
   "execution_count": 24,
   "metadata": {},
   "outputs": [
    {
     "name": "stdout",
     "output_type": "stream",
     "text": [
      "\\begin{tabular}{lr}\n",
      "\\toprule\n",
      "id & balanced\\_accuracy \\\\\n",
      "\\midrule\n",
      "Transfer - SFCN - MOTION & 0.6920 \\\\\n",
      "Scratch - SFCN & 0.7781 \\\\\n",
      "\\bottomrule\n",
      "\\end{tabular}\n",
      "\n"
     ]
    },
    {
     "data": {
      "text/plain": [
       "Text(0.5, 1.0, 'Balanced accuracy of SFCN model on different setting')"
      ]
     },
     "execution_count": 24,
     "metadata": {},
     "output_type": "execute_result"
    },
    {
     "data": {
      "image/png": "[encoded data removed]",
      "text/plain": [
       "<Figure size 600x300 with 1 Axes>"
      ]
     },
     "metadata": {},
     "output_type": "display_data"
    }
   ],
   "source": [
    "select_res = full_res[full_res[\"model\"] == \"SFCN\"]\n",
    "select_res = select_res[(select_res[\"task\"] == \"MOTION\") | (select_res[\"task\"] == \"\")]\n",
    "print(\n",
    "    select_res[[\"id\", \"balanced_accuracy\"]].to_latex(\n",
    "        index=False, escape=True, float_format=\"%.4f\"\n",
    "    )\n",
    ")\n",
    "\n",
    "\n",
    "selector = [\"id\", \"setting\", \"model\", \"task\", \"balanced_accuracy\"]\n",
    "\n",
    "transfer_df = retrieve_transfer()\n",
    "transfer_df = transfer_df[\n",
    "    (transfer_df[\"task\"] == \"MOTION\") & (transfer_df[\"model\"] == \"SFCN\")\n",
    "]\n",
    "transfer_df[\"setting\"] = \"Transfer\"\n",
    "\n",
    "scratch_df = retrieve_scratch().drop(columns=[\"source\"])\n",
    "scratch_df = scratch_df[scratch_df[\"model\"] == \"SFCN\"]\n",
    "scratch_df[\"setting\"] = \"Scratch\"\n",
    "scratch_df[\"task\"] = \"\"\n",
    "\n",
    "sfcn_motion = pd.concat([transfer_df, scratch_df])\n",
    "plt.figure(figsize=(6, 3))\n",
    "sb.stripplot(sfcn_motion, y=\"setting\", x=\"balanced_accuracy\")\n",
    "plt.xlabel(\"Setting\")\n",
    "plt.title(\"Balanced accuracy of SFCN model on different setting\")"
   ]
  },
  {
   "cell_type": "markdown",
   "metadata": {},
   "source": [
    "## Power Consumption Comparison"
   ]
  },
  {
   "cell_type": "code",
   "execution_count": 8,
   "metadata": {},
   "outputs": [
    {
     "ename": "ValueError",
     "evalue": "too many values to unpack (expected 2)",
     "output_type": "error",
     "traceback": [
      "\u001b[0;31m---------------------------------------------------------------------------\u001b[0m",
      "\u001b[0;31mValueError\u001b[0m                                Traceback (most recent call last)",
      "Cell \u001b[0;32mIn[8], line 2\u001b[0m\n\u001b[1;32m      1\u001b[0m exps \u001b[38;5;241m=\u001b[39m api\u001b[38;5;241m.\u001b[39mget_experiments(\u001b[38;5;124m\"\u001b[39m\u001b[38;5;124mmrart\u001b[39m\u001b[38;5;124m\"\u001b[39m, \u001b[38;5;124m\"\u001b[39m\u001b[38;5;124mbaseline-mrart\u001b[39m\u001b[38;5;124m\"\u001b[39m)\n\u001b[0;32m----> 2\u001b[0m scratch_ressources_df \u001b[38;5;241m=\u001b[39m \u001b[43mget_compute_usage_df\u001b[49m\u001b[43m(\u001b[49m\u001b[43mexps\u001b[49m\u001b[43m)\u001b[49m\n\u001b[1;32m      3\u001b[0m scratch_ressources_df[\u001b[38;5;124m'\u001b[39m\u001b[38;5;124mtask\u001b[39m\u001b[38;5;124m'\u001b[39m]\u001b[38;5;241m=\u001b[39m\u001b[38;5;124m'\u001b[39m\u001b[38;5;124m'\u001b[39m\n\u001b[1;32m      4\u001b[0m scratch_ressources_df[\u001b[38;5;124m'\u001b[39m\u001b[38;5;124morigin\u001b[39m\u001b[38;5;124m'\u001b[39m]\u001b[38;5;241m=\u001b[39m\u001b[38;5;124m'\u001b[39m\u001b[38;5;124mScratch\u001b[39m\u001b[38;5;124m'\u001b[39m\n",
      "Cell \u001b[0;32mIn[7], line 142\u001b[0m, in \u001b[0;36mget_compute_usage_df\u001b[0;34m(experiments, task_dependent)\u001b[0m\n\u001b[1;32m    139\u001b[0m ms \u001b[38;5;241m=\u001b[39m (exp\u001b[38;5;241m.\u001b[39mget_metadata()[\u001b[38;5;124m'\u001b[39m\u001b[38;5;124mdurationMillis\u001b[39m\u001b[38;5;124m'\u001b[39m])\n\u001b[1;32m    140\u001b[0m model \u001b[38;5;241m=\u001b[39m exp\u001b[38;5;241m.\u001b[39mget_parameters_summary(\u001b[38;5;124m\"\u001b[39m\u001b[38;5;124mmodel\u001b[39m\u001b[38;5;124m\"\u001b[39m)[\u001b[38;5;124m'\u001b[39m\u001b[38;5;124mvalueMax\u001b[39m\u001b[38;5;124m'\u001b[39m]\n\u001b[0;32m--> 142\u001b[0m hours, minutes \u001b[38;5;241m=\u001b[39m ms_to_time(ms)\n\u001b[1;32m    143\u001b[0m gpu_memory \u001b[38;5;241m=\u001b[39m \u001b[38;5;28mfloat\u001b[39m(exp\u001b[38;5;241m.\u001b[39mget_metrics_summary(\u001b[38;5;124m\"\u001b[39m\u001b[38;5;124msys.gpu.0.used_memory\u001b[39m\u001b[38;5;124m\"\u001b[39m)[\u001b[38;5;124m'\u001b[39m\u001b[38;5;124mvalueMax\u001b[39m\u001b[38;5;124m'\u001b[39m])\u001b[38;5;241m/\u001b[39m\u001b[38;5;241m1e9\u001b[39m\n\u001b[1;32m    144\u001b[0m gpu_power_usage \u001b[38;5;241m=\u001b[39m \u001b[38;5;28mfloat\u001b[39m(exp\u001b[38;5;241m.\u001b[39mget_metrics_summary(\u001b[38;5;124m\"\u001b[39m\u001b[38;5;124msys.gpu.0.power_usage\u001b[39m\u001b[38;5;124m\"\u001b[39m)[\u001b[38;5;124m'\u001b[39m\u001b[38;5;124mvalueMax\u001b[39m\u001b[38;5;124m'\u001b[39m])\u001b[38;5;241m/\u001b[39m\u001b[38;5;241m1000\u001b[39m\n",
      "\u001b[0;31mValueError\u001b[0m: too many values to unpack (expected 2)"
     ]
    }
   ],
   "source": [
    "exps = api.get_experiments(\"mrart\", \"baseline-mrart\")\n",
    "scratch_ressources_df = get_compute_usage_df(exps)\n",
    "scratch_ressources_df[\"task\"] = \"\"\n",
    "scratch_ressources_df[\"origin\"] = \"Scratch\"\n",
    "\n",
    "exps = api.get_experiments(\"mrart\", \"estimate-motion-pretrain\", \"transfer-MRART*\")\n",
    "transfer_ressources_df = get_compute_usage_df(exps, task_dependent=True)\n",
    "transfer_ressources_df[\"origin\"] = \"Transfer\""
   ]
  },
  {
   "cell_type": "code",
   "execution_count": 8,
   "metadata": {},
   "outputs": [
    {
     "name": "stdout",
     "output_type": "stream",
     "text": [
      "SFCN-MOTION-3.ckpt\n"
     ]
    },
    {
     "name": "stderr",
     "output_type": "stream",
     "text": [
      "/home/at70870/Desktop/mrart/notebooks/../src/utils/task.py:88: FutureWarning: You are using `torch.load` with `weights_only=False` (the current default value), which uses the default pickle module implicitly. It is possible to construct malicious pickle data which will execute arbitrary code during unpickling (See https://github.com/pytorch/pytorch/blob/main/SECURITY.md#untrusted-models for more details). In a future release, the default value for `weights_only` will be flipped to `True`. This limits the functions that could be executed during unpickling. Arbitrary objects will no longer be allowed to be loaded via this mode unless they are explicitly allowlisted by the user via `torch.serialization.add_safe_globals`. We recommend you start setting `weights_only=True` for any use case where you don't have full control of the loaded file. Please open an issue on GitHub for any issues related to this experimental feature.\n",
      "  checkpoint = torch.load(ckpt_path)\n",
      "Loading dataset: 100%|██████████| 258/258 [01:23<00:00,  3.08it/s]\n",
      "100%|██████████| 258/258 [02:06<00:00,  2.04it/s]\n"
     ]
    },
    {
     "name": "stdout",
     "output_type": "stream",
     "text": [
      "SFCN-MOTION-3.ckpt\n"
     ]
    },
    {
     "name": "stderr",
     "output_type": "stream",
     "text": [
      "/home/at70870/Desktop/mrart/notebooks/../src/utils/task.py:88: FutureWarning: You are using `torch.load` with `weights_only=False` (the current default value), which uses the default pickle module implicitly. It is possible to construct malicious pickle data which will execute arbitrary code during unpickling (See https://github.com/pytorch/pytorch/blob/main/SECURITY.md#untrusted-models for more details). In a future release, the default value for `weights_only` will be flipped to `True`. This limits the functions that could be executed during unpickling. Arbitrary objects will no longer be allowed to be loaded via this mode unless they are explicitly allowlisted by the user via `torch.serialization.add_safe_globals`. We recommend you start setting `weights_only=True` for any use case where you don't have full control of the loaded file. Please open an issue on GitHub for any issues related to this experimental feature.\n",
      "  checkpoint = torch.load(ckpt_path)\n",
      "Loading dataset: 100%|██████████| 258/258 [01:18<00:00,  3.30it/s]\n",
      "100%|██████████| 258/258 [00:08<00:00, 30.68it/s]\n"
     ]
    },
    {
     "data": {
      "text/plain": [
       "(226.6991955889971, 102.8093471180182)"
      ]
     },
     "execution_count": 8,
     "metadata": {},
     "output_type": "execute_result"
    }
   ],
   "source": [
    "%autoreload 2\n",
    "from src.dataset.mrart.mrart_dataset import TrainMrArt\n",
    "from src.transforms.load import FinetuneTransform\n",
    "from src.utils.metrics import separation_capacity_train\n",
    "import src.utils.task as task_utils\n",
    "import src.training.eval as teval\n",
    "from torch.utils.data import DataLoader\n",
    "import timeit\n",
    "import os\n",
    "os.chdir(\"..\")\n",
    "\n",
    "def eval_thresh(cuda):\n",
    "    module, task =task_utils.load_pretrain_from_ckpt(ckpt_path=\"models/pretrained/SFCN-MOTION-3.ckpt\")\n",
    "    dl = DataLoader(TrainMrArt.from_env(FinetuneTransform()))\n",
    "    train=teval.get_pred_from_pretrain(module, dl, \"train\", cuda=cuda)\n",
    "    x_train = train[\"pred\"].to_numpy()\n",
    "    y_train = train[\"label\"].to_numpy()\n",
    "    thresholds, _ = separation_capacity_train(\n",
    "        X=x_train, y=y_train\n",
    "    )\n",
    "\n",
    "res_cpu =timeit.timeit(lambda: eval_thresh(False), number=1)\n",
    "res_cuda =timeit.timeit(lambda: eval_thresh(True), number=1)\n",
    "\n",
    "os.chdir(\"notebooks\")\n",
    "res_cpu, res_cuda"
   ]
  },
  {
   "cell_type": "code",
   "execution_count": 34,
   "metadata": {},
   "outputs": [
    {
     "data": {
      "text/plain": [
       "('00:03:46', '00:01:42')"
      ]
     },
     "execution_count": 34,
     "metadata": {},
     "output_type": "execute_result"
    }
   ],
   "source": [
    "conv = lambda ms: \":\".join(map(lambda x: str(int(x)).zfill(2), ms_to_time(ms)))\n",
    "time_cpu = conv(res_cpu * 1000)\n",
    "time_cuda = conv(res_cuda * 1000)\n",
    "time_cpu, time_cuda"
   ]
  },
  {
   "cell_type": "code",
   "execution_count": 95,
   "metadata": {},
   "outputs": [
    {
     "name": "stdout",
     "output_type": "stream",
     "text": [
      "\\begin{tabular}{lrrrrll}\n",
      "\\toprule\n",
      " & \\multicolumn{2}{r}{max\\_gpu\\_ram\\_used} & \\multicolumn{2}{r}{max\\_gpu\\_power\\_usage} & \\multicolumn{2}{r}{duration} \\\\\n",
      " & mean & std & mean & std & mean & std \\\\\n",
      "origin &  &  &  &  &  &  \\\\\n",
      "\\midrule\n",
      "Scratch & 22.22 & 10.17 & 344.03 & 46.11 & 00:55:33 & 00:27:56 \\\\\n",
      "Transfer & 1.59 & 0.53 & 64.50 & 17.98 & 00:18:38 & 00:07:04 \\\\\n",
      "Reduced by (\\%) & -92.85 & -94.81 & -81.25 & -61.02 & -66.45 & -74.69 \\\\\n",
      "\\bottomrule\n",
      "\\end{tabular}\n",
      "\n"
     ]
    }
   ],
   "source": [
    "resources = pd.concat([scratch_ressources_df, transfer_ressources_df]).reset_index(\n",
    "    drop=True\n",
    ")\n",
    "resources = (\n",
    "    resources[[\"origin\", \"millis\", \"max_gpu_ram_used\", \"max_gpu_power_usage\"]]\n",
    "    .groupby([\"origin\"])\n",
    "    .agg([\"mean\", \"std\"])\n",
    ")\n",
    "\n",
    "resources.loc[\"Reduced by (%)\"] = (\n",
    "    (resources.loc[\"Transfer\"] - resources.loc[\"Scratch\"])\n",
    "    .div(resources.loc[\"Scratch\"])\n",
    "    .mul(100)\n",
    ")\n",
    "\n",
    "resources[\"duration\", \"mean\"] = resources[\"millis\", \"mean\"].apply(conv)\n",
    "resources[\"duration\", \"std\"] = resources[\"millis\", \"std\"].apply(conv)\n",
    "resources.loc[\"Reduced by (%)\", \"duration\"] = resources.loc[\n",
    "    \"Reduced by (%)\", \"millis\"\n",
    "].to_list()\n",
    "resources = resources.drop(columns=\"millis\")\n",
    "\n",
    "print(resources.to_latex(index=True, escape=True, float_format=\"%.2f\"))"
   ]
  },
  {
   "cell_type": "markdown",
   "metadata": {},
   "source": [
    "## Unbalanced Dataset Comparison"
   ]
  },
  {
   "cell_type": "code",
   "execution_count": 22,
   "metadata": {},
   "outputs": [
    {
     "name": "stdout",
     "output_type": "stream",
     "text": [
      "\\begin{tabular}{lr}\n",
      "\\toprule\n",
      "setting & balanced\\_accuracy \\\\\n",
      "\\midrule\n",
      "Scratch & 0.4483 \\\\\n",
      "Threshold & 0.5476 \\\\\n",
      "\\bottomrule\n",
      "\\end{tabular}\n",
      "\n"
     ]
    },
    {
     "data": {
      "text/plain": [
       "<Axes: xlabel='balanced_accuracy', ylabel='setting'>"
      ]
     },
     "execution_count": 22,
     "metadata": {},
     "output_type": "execute_result"
    },
    {
     "data": {
      "image/png": "[encoded data removed]",
      "text/plain": [
       "<Figure size 600x300 with 1 Axes>"
      ]
     },
     "metadata": {},
     "output_type": "display_data"
    }
   ],
   "source": [
    "selector = [\"id\", \"setting\", \"model\", \"task\", \"balanced_accuracy\"]\n",
    "thresh_df = retrieve_thresholds(unbalanced=True)\n",
    "thresh_df[\"setting\"] = \"Threshold\"\n",
    "thresh_df[\"id\"] = \"Threshold - \" + thresh_df[\"model\"] + \" - \" + thresh_df[\"task\"]\n",
    "thresh_df = thresh_df[thresh_df[\"task\"] != \"BINARY\"]\n",
    "\n",
    "# transfer_df = retrieve_transfer(unbalanced=True)\n",
    "# transfer_df = transfer_df.groupby([\"model\", \"task\"], as_index=False).mean()\n",
    "# transfer_df[\"setting\"] = \"Transfer\"\n",
    "# transfer_df[\"id\"] = \"Transfer - \" + transfer_df[\"model\"] + \" - \" + transfer_df[\"task\"]\n",
    "\n",
    "scratch_df = retrieve_scratch(unbalanced=True).drop(columns=[\"source\"])\n",
    "scratch_df = scratch_df.groupby([\"model\"], as_index=False).mean()\n",
    "scratch_df[\"setting\"] = \"Scratch\"\n",
    "scratch_df[\"task\"] = \"\"\n",
    "scratch_df[\"id\"] = \"Scratch - \" + scratch_df[\"model\"]\n",
    "\n",
    "# full_res = pd.concat([thresh_df[selector], transfer_df[selector], scratch_df[selector]])\n",
    "full_res = pd.concat([thresh_df[selector], scratch_df[selector]])\n",
    "setting_mean = (\n",
    "    full_res.drop(columns=[\"id\", \"model\", \"task\"])\n",
    "    .groupby(\"setting\", as_index=False)\n",
    "    .mean()\n",
    ")\n",
    "print(setting_mean.to_latex(index=False, escape=True, float_format=\"%.4f\"))\n",
    "\n",
    "plt.figure(figsize=(6, 3))\n",
    "sb.swarmplot(full_res, x=\"balanced_accuracy\", y=\"setting\", hue=\"task\", dodge=True)"
   ]
  },
  {
   "cell_type": "code",
   "execution_count": 65,
   "metadata": {},
   "outputs": [
    {
     "name": "stdout",
     "output_type": "stream",
     "text": [
      "\\begin{tabular}{lr}\n",
      "\\toprule\n",
      "id & balanced\\_accuracy \\\\\n",
      "\\midrule\n",
      "Threshold - SFCN - MOTION & 0.5866 \\\\\n",
      "Transfer - SFCN - MOTION & 0.4017 \\\\\n",
      "Scratch - SFCN & 0.4082 \\\\\n",
      "\\bottomrule\n",
      "\\end{tabular}\n",
      "\n"
     ]
    },
    {
     "data": {
      "text/plain": [
       "Text(0.5, 1.0, 'Balanced accuracy of SFCN model on different setting')"
      ]
     },
     "execution_count": 65,
     "metadata": {},
     "output_type": "execute_result"
    },
    {
     "data": {
      "image/png": "[encoded data removed]",
      "text/plain": [
       "<Figure size 600x300 with 1 Axes>"
      ]
     },
     "metadata": {},
     "output_type": "display_data"
    }
   ],
   "source": [
    "select_res = full_res[full_res[\"model\"] == \"SFCN\"]\n",
    "select_res = select_res[(select_res[\"task\"] == \"MOTION\") | (select_res[\"task\"] == \"\")]\n",
    "print(\n",
    "    select_res[[\"id\", \"balanced_accuracy\"]].to_latex(\n",
    "        index=False, escape=True, float_format=\"%.4f\"\n",
    "    )\n",
    ")\n",
    "\n",
    "\n",
    "selector = [\"id\", \"setting\", \"model\", \"task\", \"balanced_accuracy\"]\n",
    "thresh_df = retrieve_thresholds(unbalanced=True)\n",
    "thresh_df = thresh_df[(thresh_df[\"task\"] == \"MOTION\") & (thresh_df[\"model\"] == \"SFCN\")]\n",
    "thresh_df[\"setting\"] = \"Threshold\"\n",
    "\n",
    "transfer_df = retrieve_transfer(unbalanced=True)\n",
    "transfer_df = transfer_df[\n",
    "    (transfer_df[\"task\"] == \"MOTION\") & (transfer_df[\"model\"] == \"SFCN\")\n",
    "]\n",
    "transfer_df[\"setting\"] = \"Transfer\"\n",
    "\n",
    "scratch_df = retrieve_scratch(unbalanced=True).drop(columns=[\"source\"])\n",
    "scratch_df = scratch_df[scratch_df[\"model\"] == \"SFCN\"]\n",
    "scratch_df[\"setting\"] = \"Scratch\"\n",
    "scratch_df[\"task\"] = \"\"\n",
    "\n",
    "sfcn_motion = pd.concat([thresh_df, transfer_df, scratch_df])\n",
    "plt.figure(figsize=(6, 3))\n",
    "sb.boxplot(sfcn_motion, y=\"setting\", x=\"balanced_accuracy\")\n",
    "plt.xlabel(\"Setting\")\n",
    "plt.title(\"Balanced accuracy of SFCN model on different setting\")"
   ]
  },
  {
   "cell_type": "markdown",
   "metadata": {},
   "source": [
    "##  Accuracy Conservation"
   ]
  },
  {
   "cell_type": "code",
   "execution_count": 28,
   "metadata": {},
   "outputs": [
    {
     "name": "stdout",
     "output_type": "stream",
     "text": [
      "\\begin{tabular}{lrrrr}\n",
      "\\toprule\n",
      " & balanced\\_accuracy & balanced\\_accuracy\\_unb & accuracy\\_loss & percent\\_loss \\\\\n",
      "setting &  &  &  &  \\\\\n",
      "\\midrule\n",
      "Scratch & 0.70 & 0.45 & -0.25 & -36.46 \\\\\n",
      "Threshold & 0.58 & 0.55 & -0.04 & -7.03 \\\\\n",
      "\\bottomrule\n",
      "\\end{tabular}\n",
      "\n"
     ]
    },
    {
     "data": {
      "text/html": [
       "<div>\n",
       "<style scoped>\n",
       "    .dataframe tbody tr th:only-of-type {\n",
       "        vertical-align: middle;\n",
       "    }\n",
       "\n",
       "    .dataframe tbody tr th {\n",
       "        vertical-align: top;\n",
       "    }\n",
       "\n",
       "    .dataframe thead th {\n",
       "        text-align: right;\n",
       "    }\n",
       "</style>\n",
       "<table border=\"1\" class=\"dataframe\">\n",
       "  <thead>\n",
       "    <tr style=\"text-align: right;\">\n",
       "      <th></th>\n",
       "      <th>balanced_accuracy</th>\n",
       "      <th>balanced_accuracy_unb</th>\n",
       "      <th>accuracy_loss</th>\n",
       "      <th>percent_loss</th>\n",
       "    </tr>\n",
       "    <tr>\n",
       "      <th>setting</th>\n",
       "      <th></th>\n",
       "      <th></th>\n",
       "      <th></th>\n",
       "      <th></th>\n",
       "    </tr>\n",
       "  </thead>\n",
       "  <tbody>\n",
       "    <tr>\n",
       "      <th>Scratch</th>\n",
       "      <td>0.702895</td>\n",
       "      <td>0.448304</td>\n",
       "      <td>-0.254591</td>\n",
       "      <td>-36.456357</td>\n",
       "    </tr>\n",
       "    <tr>\n",
       "      <th>Threshold</th>\n",
       "      <td>0.576493</td>\n",
       "      <td>0.547637</td>\n",
       "      <td>-0.044229</td>\n",
       "      <td>-7.025109</td>\n",
       "    </tr>\n",
       "  </tbody>\n",
       "</table>\n",
       "</div>"
      ],
      "text/plain": [
       "           balanced_accuracy  balanced_accuracy_unb  accuracy_loss  \\\n",
       "setting                                                              \n",
       "Scratch             0.702895               0.448304      -0.254591   \n",
       "Threshold           0.576493               0.547637      -0.044229   \n",
       "\n",
       "           percent_loss  \n",
       "setting                  \n",
       "Scratch      -36.456357  \n",
       "Threshold     -7.025109  "
      ]
     },
     "execution_count": 28,
     "metadata": {},
     "output_type": "execute_result"
    }
   ],
   "source": [
    "def get_full(unbalanced):\n",
    "    selector = [\"setting\", \"model\", \"task\", \"balanced_accuracy\"]\n",
    "    thresh_df = retrieve_thresholds(unbalanced=unbalanced)\n",
    "    thresh_df[\"setting\"] = \"Threshold\"\n",
    "    thresh_df = thresh_df[thresh_df[\"task\"] != \"BINARY\"]\n",
    "\n",
    "    # transfer_df = retrieve_transfer(unbalanced=unbalanced)\n",
    "    # transfer_df = transfer_df.groupby([\"model\", \"task\"], as_index=False).mean()\n",
    "    # transfer_df[\"setting\"] = \"Transfer\"\n",
    "\n",
    "    scratch_df = retrieve_scratch(unbalanced=unbalanced).drop(columns=[\"source\"])\n",
    "    scratch_df = scratch_df.groupby([\"model\"], as_index=False).mean()\n",
    "    scratch_df[\"setting\"] = \"Scratch\"\n",
    "    scratch_df[\"task\"] = \"\"\n",
    "\n",
    "    # return pd.concat(\n",
    "    #     [thresh_df[selector], transfer_df[selector], scratch_df[selector]]\n",
    "    # ).set_index([\"setting\", \"model\", \"task\"])\n",
    "    return pd.concat([thresh_df[selector], scratch_df[selector]]).set_index(\n",
    "        [\"setting\", \"model\", \"task\"]\n",
    "    )\n",
    "\n",
    "\n",
    "normal_df = get_full(False)\n",
    "unbalanced_df = get_full(True)\n",
    "loss = unbalanced_df.sub(normal_df)\n",
    "normal_df[\"balanced_accuracy_unb\"] = unbalanced_df[\"balanced_accuracy\"]\n",
    "normal_df[\"accuracy_loss\"] = loss\n",
    "normal_df[\"percent_loss\"] = (\n",
    "    normal_df[\"accuracy_loss\"].div(normal_df[\"balanced_accuracy\"]) * 100\n",
    ")\n",
    "acc_conv = (\n",
    "    normal_df.reset_index().drop(columns=[\"model\", \"task\"]).groupby(\"setting\").mean()\n",
    ")\n",
    "\n",
    "print(acc_conv.to_latex(index=True, escape=True, float_format=\"%.2f\"))\n",
    "acc_conv"
   ]
  },
  {
   "cell_type": "markdown",
   "metadata": {},
   "source": [
    "# How to determine if a pretrained model will behave well based on pretrain metrics"
   ]
  },
  {
   "cell_type": "code",
   "execution_count": 11,
   "metadata": {},
   "outputs": [],
   "source": [
    "motion, ssim, binary = retrieve_pretrain()\n",
    "\n",
    "thresh_df = retrieve_thresholds()\n",
    "transfer_df = retrieve_transfer()\n",
    "\n",
    "motion['metric'] = "
   ]
  }
 ],
 "metadata": {
  "kernelspec": {
   "display_name": "bowl",
   "language": "python",
   "name": "python3"
  },
  "language_info": {
   "codemirror_mode": {
    "name": "ipython",
    "version": 3
   },
   "file_extension": ".py",
   "mimetype": "text/x-python",
   "name": "python",
   "nbconvert_exporter": "python",
   "pygments_lexer": "ipython3",
   "version": "3.11.5"
  }
 },
 "nbformat": 4,
 "nbformat_minor": 2
}
